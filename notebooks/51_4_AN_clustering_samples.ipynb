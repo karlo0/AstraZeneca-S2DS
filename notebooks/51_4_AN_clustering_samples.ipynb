{
 "cells": [
  {
   "cell_type": "code",
   "execution_count": 1,
   "metadata": {},
   "outputs": [],
   "source": [
    "import pandas as pd\n",
    "import numpy as np\n",
    "import sklearn.cluster\n",
    "import distance # first, >>> pip install Distance\n",
    "import time\n",
    "import itertools"
   ]
  },
  {
   "cell_type": "code",
   "execution_count": 2,
   "metadata": {},
   "outputs": [],
   "source": []
  },
  {
   "cell_type": "code",
   "execution_count": 3,
   "metadata": {},
   "outputs": [],
   "source": [
    "def cluster_terms(input_words):\n",
    "    \"\"\"\n",
    "    list of word strings --> prints exemplar_str, cluster_str\n",
    "    \"\"\"\n",
    "    words = np.asarray(input_words) #So that indexing with a list will work\n",
    "    lev_similarity = -1*np.array([[distance.levenshtein(w1,w2) for w1 in words] for w2 in words])\n",
    "\n",
    "    affprop = sklearn.cluster.AffinityPropagation(affinity=\"precomputed\", damping=0.5)\n",
    "    affprop.fit(lev_similarity)\n",
    "    for cluster_id in np.unique(affprop.labels_):\n",
    "        exemplar = words[affprop.cluster_centers_indices_[cluster_id]]\n",
    "        cluster = np.unique(words[np.nonzero(affprop.labels_==cluster_id)])\n",
    "        cluster_str = \", \".join(cluster)\n",
    "        print(\" - *%s:* %s\" % (exemplar, cluster_str))"
   ]
  },
  {
   "cell_type": "code",
   "execution_count": 4,
   "metadata": {
    "scrolled": false
   },
   "outputs": [
    {
     "ename": "NameError",
     "evalue": "name 'pd' is not defined",
     "output_type": "error",
     "traceback": [
      "\u001b[0;31m---------------------------------------------------------------------------\u001b[0m",
      "\u001b[0;31mNameError\u001b[0m                                 Traceback (most recent call last)",
      "\u001b[0;32m<ipython-input-4-5c174fb4d0c1>\u001b[0m in \u001b[0;36m<module>\u001b[0;34m\u001b[0m\n\u001b[1;32m      1\u001b[0m \u001b[0;31m# Read samples data\u001b[0m\u001b[0;34m\u001b[0m\u001b[0;34m\u001b[0m\u001b[0;34m\u001b[0m\u001b[0m\n\u001b[0;32m----> 2\u001b[0;31m \u001b[0msamples_df\u001b[0m \u001b[0;34m=\u001b[0m \u001b[0mpd\u001b[0m\u001b[0;34m.\u001b[0m\u001b[0mread_pickle\u001b[0m\u001b[0;34m(\u001b[0m\u001b[0;34m'../../data/interim/samples.pkl'\u001b[0m\u001b[0;34m)\u001b[0m\u001b[0;34m\u001b[0m\u001b[0;34m\u001b[0m\u001b[0m\n\u001b[0m\u001b[1;32m      3\u001b[0m \u001b[0;34m\u001b[0m\u001b[0m\n",
      "\u001b[0;31mNameError\u001b[0m: name 'pd' is not defined"
     ]
    }
   ],
   "source": [
    "# Read samples data\n",
    "samples_df = pd.read_pickle('../../data/interim/samples.pkl')\n",
    "\n"
   ]
  },
  {
   "cell_type": "code",
   "execution_count": 2,
   "metadata": {},
   "outputs": [
    {
     "ename": "NameError",
     "evalue": "name 'samples_df' is not defined",
     "output_type": "error",
     "traceback": [
      "\u001b[0;31m---------------------------------------------------------------------------\u001b[0m",
      "\u001b[0;31mNameError\u001b[0m                                 Traceback (most recent call last)",
      "\u001b[0;32m<ipython-input-2-94649b6e2fbf>\u001b[0m in \u001b[0;36m<module>\u001b[0;34m\u001b[0m\n\u001b[0;32m----> 1\u001b[0;31m \u001b[0mgeo_id_samples\u001b[0m \u001b[0;34m=\u001b[0m \u001b[0msamples_df\u001b[0m\u001b[0;34m.\u001b[0m\u001b[0mloc\u001b[0m\u001b[0;34m[\u001b[0m\u001b[0msamples_df\u001b[0m\u001b[0;34m[\u001b[0m\u001b[0;34m'geo_id'\u001b[0m\u001b[0;34m]\u001b[0m \u001b[0;34m==\u001b[0m \u001b[0;34m'200003505'\u001b[0m\u001b[0;34m]\u001b[0m\u001b[0;34m\u001b[0m\u001b[0;34m\u001b[0m\u001b[0m\n\u001b[0m\u001b[1;32m      2\u001b[0m \u001b[0mprint\u001b[0m\u001b[0;34m(\u001b[0m\u001b[0mgeo_id_samples\u001b[0m\u001b[0;34m,\u001b[0m \u001b[0;34m'\\n'\u001b[0m\u001b[0;34m)\u001b[0m\u001b[0;34m\u001b[0m\u001b[0;34m\u001b[0m\u001b[0m\n\u001b[1;32m      3\u001b[0m \u001b[0msample_titles\u001b[0m \u001b[0;34m=\u001b[0m \u001b[0mlist\u001b[0m\u001b[0;34m(\u001b[0m\u001b[0mgeo_id_samples\u001b[0m\u001b[0;34m.\u001b[0m\u001b[0mtitle\u001b[0m\u001b[0;34m)\u001b[0m\u001b[0;34m\u001b[0m\u001b[0;34m\u001b[0m\u001b[0m\n\u001b[1;32m      4\u001b[0m \u001b[0mstart_time\u001b[0m \u001b[0;34m=\u001b[0m \u001b[0mtime\u001b[0m\u001b[0;34m.\u001b[0m\u001b[0mtime\u001b[0m\u001b[0;34m(\u001b[0m\u001b[0;34m)\u001b[0m \u001b[0;31m# to monitor time taken\u001b[0m\u001b[0;34m\u001b[0m\u001b[0;34m\u001b[0m\u001b[0m\n\u001b[1;32m      5\u001b[0m \u001b[0mcluster_terms\u001b[0m\u001b[0;34m(\u001b[0m\u001b[0msample_titles\u001b[0m\u001b[0;34m)\u001b[0m\u001b[0;34m\u001b[0m\u001b[0;34m\u001b[0m\u001b[0m\n",
      "\u001b[0;31mNameError\u001b[0m: name 'samples_df' is not defined"
     ]
    }
   ],
   "source": [
    "geo_id_samples = samples_df.loc[samples_df['geo_id'] == '200003505']\n",
    "print(geo_id_samples, '\\n')\n",
    "sample_titles = list(geo_id_samples.title)\n",
    "start_time = time.time() # to monitor time taken\n",
    "cluster_terms(sample_titles)\n",
    "end_time = time.time() # to monitor time taken\n",
    "print('\\ntime taken: ', end_time - start_time, 'seconds')"
   ]
  },
  {
   "cell_type": "code",
   "execution_count": 10,
   "metadata": {},
   "outputs": [
    {
     "name": "stdout",
     "output_type": "stream",
     "text": [
      "          geo_id  nsamples        date accession                   title\n",
      "35191  200003484        30  2006/01/20  GSM78851           LSPM2 Control\n",
      "35192  200003484        30  2006/01/20  GSM78864           MM455 Control\n",
      "35193  200003484        30  2006/01/20  GSM78839         D23 24 h PEP005\n",
      "35194  200003484        30  2006/01/20  GSM78842         D24 24 h PEP005\n",
      "35195  200003484        30  2006/01/20  GSM78859          MM253 24 h TPA\n",
      "35196  200003484        30  2006/01/20  GSM78848   LSPM2 24 h TPA + 24 h\n",
      "35197  200003484        30  2006/01/20  GSM78857           MM127 Control\n",
      "35198  200003484        30  2006/01/20  GSM78854   MM127 24 h TPA + 24 h\n",
      "35199  200003484        30  2006/01/20  GSM78837            D04 24 h TPA\n",
      "35200  200003484        30  2006/01/20  GSM78840            D23 24 h TPA\n",
      "35201  200003484        30  2006/01/20  GSM78860           MM253 Control\n",
      "35202  200003484        30  2006/01/20  GSM78843            D24 24 h TPA\n",
      "35203  200003484        30  2006/01/20  GSM78846           LSPM2 6 h TPA\n",
      "35204  200003484        30  2006/01/20  GSM78849          LSPM2 24 h TPA\n",
      "35205  200003484        30  2006/01/20  GSM78852           MM127 6 h TPA\n",
      "35206  200003484        30  2006/01/20  GSM78863          MM455 24 h TPA\n",
      "35207  200003484        30  2006/01/20  GSM78844             D24 Control\n",
      "35208  200003484        30  2006/01/20  GSM78836         D04 24 h PEP005\n",
      "35209  200003484        30  2006/01/20  GSM78841             D23 Control\n",
      "35210  200003484        30  2006/01/20  GSM78850  LSPM2 Control Recovery\n",
      "35211  200003484        30  2006/01/20  GSM78856  MM127 Control Recovery\n",
      "35212  200003484        30  2006/01/20  GSM78853       MM127 24 h PEP005\n",
      "35213  200003484        30  2006/01/20  GSM78861       MM455 24 h PEP005\n",
      "35214  200003484        30  2006/01/20  GSM78833          A07RM 24 h TPA\n",
      "35215  200003484        30  2006/01/20  GSM78835           A07RM Control\n",
      "35216  200003484        30  2006/01/20  GSM78858       MM253 24 h PEP005\n",
      "35217  200003484        30  2006/01/20  GSM78832       A07RM 24 h PEP005\n",
      "35218  200003484        30  2006/01/20  GSM78855          MM127 24 h TPA\n",
      "35219  200003484        30  2006/01/20  GSM78847       LSPM2 24 h PEP005\n",
      "35220  200003484        30  2006/01/20  GSM78838             D04 Control\n",
      " - *D24 24 h PEP005:* A07RM 24 h PEP005, D04 24 h PEP005, D23 24 h PEP005, D24 24 h PEP005, LSPM2 24 h PEP005, MM127 24 h PEP005, MM253 24 h PEP005, MM455 24 h PEP005\n",
      " - *LSPM2 24 h TPA + 24 h:* LSPM2 24 h TPA + 24 h, MM127 24 h TPA + 24 h\n",
      " - *D24 24 h TPA:* A07RM 24 h TPA, D04 24 h TPA, D23 24 h TPA, D24 24 h TPA, LSPM2 24 h TPA, LSPM2 6 h TPA, MM127 24 h TPA, MM127 6 h TPA, MM253 24 h TPA, MM455 24 h TPA\n",
      " - *D24 Control:* A07RM Control, D04 Control, D23 Control, D24 Control, LSPM2 Control, MM127 Control, MM253 Control, MM455 Control\n",
      " - *LSPM2 Control Recovery:* LSPM2 Control Recovery, MM127 Control Recovery\n",
      "\n",
      "time taken:  0.10001635551452637 seconds\n"
     ]
    }
   ],
   "source": [
    "geo_id_samples = samples_df.loc[samples_df['geo_id'] == '200003484']\n",
    "print(geo_id_samples)\n",
    "sample_titles = list(geo_id_samples.title)\n",
    "start_time = time.time() # to monitor time taken\n",
    "cluster_terms(sample_titles)\n",
    "end_time = time.time() # to monitor time taken\n",
    "print('\\ntime taken: ', end_time - start_time, 'seconds')"
   ]
  },
  {
   "cell_type": "code",
   "execution_count": 11,
   "metadata": {},
   "outputs": [
    {
     "name": "stdout",
     "output_type": "stream",
     "text": [
      "            geo_id  nsamples        date   accession  \\\n",
      "2048837  200128147       192  2019/03/12  GSM3665739   \n",
      "2048838  200128147       192  2019/03/12  GSM3665716   \n",
      "2048839  200128147       192  2019/03/12  GSM3665618   \n",
      "2048840  200128147       192  2019/03/12  GSM3665741   \n",
      "2048841  200128147       192  2019/03/12  GSM3665724   \n",
      "2048842  200128147       192  2019/03/12  GSM3665641   \n",
      "2048843  200128147       192  2019/03/12  GSM3665610   \n",
      "2048844  200128147       192  2019/03/12  GSM3665747   \n",
      "2048845  200128147       192  2019/03/12  GSM3665658   \n",
      "2048846  200128147       192  2019/03/12  GSM3665633   \n",
      "2048847  200128147       192  2019/03/12  GSM3665619   \n",
      "2048848  200128147       192  2019/03/12  GSM3665620   \n",
      "2048849  200128147       192  2019/03/12  GSM3665698   \n",
      "2048850  200128147       192  2019/03/12  GSM3665701   \n",
      "2048851  200128147       192  2019/03/12  GSM3665626   \n",
      "2048852  200128147       192  2019/03/12  GSM3665686   \n",
      "2048853  200128147       192  2019/03/12  GSM3665709   \n",
      "2048854  200128147       192  2019/03/12  GSM3665663   \n",
      "2048855  200128147       192  2019/03/12  GSM3665746   \n",
      "2048856  200128147       192  2019/03/12  GSM3665603   \n",
      "2048857  200128147       192  2019/03/12  GSM3665725   \n",
      "2048858  200128147       192  2019/03/12  GSM3665764   \n",
      "2048859  200128147       192  2019/03/12  GSM3665773   \n",
      "2048860  200128147       192  2019/03/12  GSM3665745   \n",
      "2048861  200128147       192  2019/03/12  GSM3665665   \n",
      "2048862  200128147       192  2019/03/12  GSM3665642   \n",
      "2048863  200128147       192  2019/03/12  GSM3665776   \n",
      "2048864  200128147       192  2019/03/12  GSM3665670   \n",
      "2048865  200128147       192  2019/03/12  GSM3665753   \n",
      "2048866  200128147       192  2019/03/12  GSM3665770   \n",
      "...            ...       ...         ...         ...   \n",
      "2048999  200128147       192  2019/03/12  GSM3665629   \n",
      "2049000  200128147       192  2019/03/12  GSM3665668   \n",
      "2049001  200128147       192  2019/03/12  GSM3665605   \n",
      "2049002  200128147       192  2019/03/12  GSM3665734   \n",
      "2049003  200128147       192  2019/03/12  GSM3665628   \n",
      "2049004  200128147       192  2019/03/12  GSM3665688   \n",
      "2049005  200128147       192  2019/03/12  GSM3665711   \n",
      "2049006  200128147       192  2019/03/12  GSM3665674   \n",
      "2049007  200128147       192  2019/03/12  GSM3665757   \n",
      "2049008  200128147       192  2019/03/12  GSM3665651   \n",
      "2049009  200128147       192  2019/03/12  GSM3665631   \n",
      "2049010  200128147       192  2019/03/12  GSM3665712   \n",
      "2049011  200128147       192  2019/03/12  GSM3665608   \n",
      "2049012  200128147       192  2019/03/12  GSM3665714   \n",
      "2049013  200128147       192  2019/03/12  GSM3665691   \n",
      "2049014  200128147       192  2019/03/12  GSM3665671   \n",
      "2049015  200128147       192  2019/03/12  GSM3665735   \n",
      "2049016  200128147       192  2019/03/12  GSM3665648   \n",
      "2049017  200128147       192  2019/03/12  GSM3665754   \n",
      "2049018  200128147       192  2019/03/12  GSM3665592   \n",
      "2049019  200128147       192  2019/03/12  GSM3665675   \n",
      "2049020  200128147       192  2019/03/12  GSM3665781   \n",
      "2049021  200128147       192  2019/03/12  GSM3665611   \n",
      "2049022  200128147       192  2019/03/12  GSM3665652   \n",
      "2049023  200128147       192  2019/03/12  GSM3665751   \n",
      "2049024  200128147       192  2019/03/12  GSM3665758   \n",
      "2049025  200128147       192  2019/03/12  GSM3665731   \n",
      "2049026  200128147       192  2019/03/12  GSM3665694   \n",
      "2049027  200128147       192  2019/03/12  GSM3665777   \n",
      "2049028  200128147       192  2019/03/12  GSM3665769   \n",
      "\n",
      "                                                     title  \n",
      "2048837          WTCHG_380869_249277: M38+ Gut single cell  \n",
      "2048838          WTCHG_380869_250275: M38+ Gut single cell  \n",
      "2048839          WTCHG_380869_204251: M38+ Gut single cell  \n",
      "2048840          WTCHG_380869_251277: M38+ Gut single cell  \n",
      "2048841          WTCHG_380869_230276: M38+ Gut single cell  \n",
      "2048842          WTCHG_380869_203253: M38+ Gut single cell  \n",
      "2048843       WTCHG_380869_208250: M38+ Spleen single cell  \n",
      "2048844       WTCHG_380869_229278: M38+ Spleen single cell  \n",
      "2048845       WTCHG_380869_208254: M38+ Spleen single cell  \n",
      "2048846       WTCHG_380869_207252: M38+ Spleen single cell  \n",
      "2048847          WTCHG_380869_205251: M38+ Gut single cell  \n",
      "2048848          WTCHG_380869_206251: M38+ Gut single cell  \n",
      "2048849       WTCHG_380869_256273: M38+ Spleen single cell  \n",
      "2048850       WTCHG_380869_231274: M38+ Spleen single cell  \n",
      "2048851       WTCHG_380869_228251: M38+ Spleen single cell  \n",
      "2048852  WTCHG_380869_228256: Spleen single cell bulk C...  \n",
      "2048853       WTCHG_380869_255274: M38+ Spleen single cell  \n",
      "2048854          WTCHG_380869_201255: M38+ Gut single cell  \n",
      "2048855       WTCHG_380869_256277: M38+ Spleen single cell  \n",
      "2048856          WTCHG_380869_201250: M38+ Gut single cell  \n",
      "2048857          WTCHG_380869_231276: M38+ Gut single cell  \n",
      "2048858          WTCHG_380869_250279: M38+ Gut single cell  \n",
      "2048859          WTCHG_380869_231280: M38+ Gut single cell  \n",
      "2048860       WTCHG_380869_255277: M38+ Spleen single cell  \n",
      "2048861          WTCHG_380869_203255: M38+ Gut single cell  \n",
      "2048862          WTCHG_380869_204253: M38+ Gut single cell  \n",
      "2048863       WTCHG_380869_250280: M38+ Spleen single cell  \n",
      "2048864          WTCHG_380869_208255: M38+ Gut single cell  \n",
      "2048865       WTCHG_380869_251278: M38+ Spleen single cell  \n",
      "2048866          WTCHG_380869_256279: M38+ Gut single cell  \n",
      "...                                                    ...  \n",
      "2048999       WTCHG_380869_203252: M38+ Spleen single cell  \n",
      "2049000                         WTCHG_380869_206255: blank  \n",
      "2049001          WTCHG_380869_203250: M38+ Gut single cell  \n",
      "2049002       WTCHG_380869_256276: M38+ Spleen single cell  \n",
      "2049003       WTCHG_380869_202252: M38+ Spleen single cell  \n",
      "2049004          WTCHG_380869_230273: M38+ Gut single cell  \n",
      "2049005          WTCHG_380869_229275: M38+ Gut single cell  \n",
      "2049006       WTCHG_380869_228255: M38+ Spleen single cell  \n",
      "2049007       WTCHG_380869_255278: M38+ Spleen single cell  \n",
      "2049008          WTCHG_380869_201254: M38+ Gut single cell  \n",
      "2049009       WTCHG_380869_205252: M38+ Spleen single cell  \n",
      "2049010          WTCHG_380869_230275: M38+ Gut single cell  \n",
      "2049011       WTCHG_380869_206250: M38+ Spleen single cell  \n",
      "2049012          WTCHG_380869_232275: M38+ Gut single cell  \n",
      "2049013          WTCHG_380869_249273: M38+ Gut single cell  \n",
      "2049014       WTCHG_380869_225255: M38+ Spleen single cell  \n",
      "2049015          WTCHG_380869_229277: M38+ Gut single cell  \n",
      "2049016          WTCHG_380869_226253: M38+ Gut single cell  \n",
      "2049017       WTCHG_380869_252278: M38+ Spleen single cell  \n",
      "2049018          WTCHG_380869_202249: M38+ Gut single cell  \n",
      "2049019       WTCHG_380869_201256: M38+ Spleen single cell  \n",
      "2049020       WTCHG_380869_255280: M38+ Spleen single cell  \n",
      "2049021       WTCHG_380869_225250: M38+ Spleen single cell  \n",
      "2049022          WTCHG_380869_202254: M38+ Gut single cell  \n",
      "2049023       WTCHG_380869_249278: M38+ Spleen single cell  \n",
      "2049024       WTCHG_380869_256278: M38+ Spleen single cell  \n",
      "2049025       WTCHG_380869_253276: M38+ Spleen single cell  \n",
      "2049026          WTCHG_380869_252273: M38+ Gut single cell  \n",
      "2049027       WTCHG_380869_251280: M38+ Spleen single cell  \n",
      "2049028          WTCHG_380869_255279: M38+ Gut single cell  \n",
      "\n",
      "[192 rows x 5 columns]\n",
      " - *WTCHG_380869_204251: M38+ Gut single cell:* WTCHG_380869_201250: M38+ Gut single cell, WTCHG_380869_201251: M38+ Gut single cell, WTCHG_380869_202250: M38+ Gut single cell, WTCHG_380869_202251: M38+ Gut single cell, WTCHG_380869_203251: M38+ Gut single cell bulk, WTCHG_380869_204250: M38+ Gut single cell, WTCHG_380869_204251: M38+ Gut single cell, WTCHG_380869_204254: M38+ Gut single cell, WTCHG_380869_204255: M38+ Gut single cell, WTCHG_380869_205251: M38+ Gut single cell, WTCHG_380869_206251: M38+ Gut single cell, WTCHG_380869_207251: M38+ Gut single cell, WTCHG_380869_207255: M38+ Gut single cell, WTCHG_380869_208251: M38+ Gut single cell, WTCHG_380869_208255: M38+ Gut single cell\n",
      " - *WTCHG_380869_230276: M38+ Gut single cell:* WTCHG_380869_230273: M38+ Gut single cell, WTCHG_380869_230275: M38+ Gut single cell, WTCHG_380869_230276: M38+ Gut single cell, WTCHG_380869_230277: M38+ Gut single cell, WTCHG_380869_230279: M38+ Gut single cell, WTCHG_380869_230280: M38+ Gut single cell, WTCHG_380869_231273: M38+ Gut single cell, WTCHG_380869_231276: M38+ Gut single cell, WTCHG_380869_231277: M38+ Gut single cell, WTCHG_380869_232273: M38+ Gut single cell, WTCHG_380869_232275: M38+ Gut single cell, WTCHG_380869_232276: M38+ Gut single cell\n",
      " - *WTCHG_380869_203253: M38+ Gut single cell:* WTCHG_380869_201253: M38+ Gut single cell, WTCHG_380869_201254: M38+ Gut single cell, WTCHG_380869_201255: M38+ Gut single cell, WTCHG_380869_202253: M38+ Gut single cell, WTCHG_380869_202254: M38+ Gut single cell, WTCHG_380869_202255: M38+ Gut single cell, WTCHG_380869_203250: M38+ Gut single cell, WTCHG_380869_203253: M38+ Gut single cell, WTCHG_380869_203254: M38+ Gut single cell, WTCHG_380869_203255: M38+ Gut single cell, WTCHG_380869_204253: M38+ Gut single cell, WTCHG_380869_205255: M38+ Gut single cell, WTCHG_380869_206253: M38+ Gut single cell, WTCHG_380869_207253: M38+ Gut single cell, WTCHG_380869_208253: M38+ Gut single cell, WTCHG_380869_225253: M38+ Gut single cell, WTCHG_380869_226253: M38+ Gut single cell, WTCHG_380869_227253: M38+ Gut single cell, WTCHG_380869_228253: M38+ Gut single cell\n",
      " - *WTCHG_380869_228256: Spleen single cell bulk CD8+/T-:* WTCHG_380869_228256: Spleen single cell bulk CD8+/T-\n",
      " - *WTCHG_380869_207256: M38+ Spleen single cell:* WTCHG_380869_201256: M38+ Spleen single cell, WTCHG_380869_202256: M38+ Spleen single cell, WTCHG_380869_203256: M38+ Spleen single cell, WTCHG_380869_204256: M38+ Spleen single cell, WTCHG_380869_205254: M38+ Spleen single cell, WTCHG_380869_205256: M38+ Spleen single cell, WTCHG_380869_206256: M38+ Spleen single cell, WTCHG_380869_207250: M38+ Spleen single cell, WTCHG_380869_207254: M38+ Spleen single cell, WTCHG_380869_207256: M38+ Spleen single cell, WTCHG_380869_227256: M38+ Spleen single cell\n",
      " - *WTCHG_380869_256274: M38+ Spleen single cell:* WTCHG_380869_229274: M38+ Spleen single cell, WTCHG_380869_230274: M38+ Spleen single cell, WTCHG_380869_231274: M38+ Spleen single cell, WTCHG_380869_232274: M38+ Spleen single cell, WTCHG_380869_249274: M38+ Spleen single cell, WTCHG_380869_250274: M38+ Spleen single cell, WTCHG_380869_251274: M38+ Spleen single cell, WTCHG_380869_252274: M38+ Spleen single cell, WTCHG_380869_254274: M38+ Spleen single cell, WTCHG_380869_254277: M38+ Spleen single cell, WTCHG_380869_255274: M38+ Spleen single cell, WTCHG_380869_256273: M38+ Spleen single cell, WTCHG_380869_256274: M38+ Spleen single cell, WTCHG_380869_256277: M38+ Spleen single cell, WTCHG_380869_256278: M38+ Spleen single cell\n",
      " - *WTCHG_380869_205249: M38+ Gut single cell:* WTCHG_380869_201249: M38+ Gut single cell, WTCHG_380869_202249: M38+ Gut single cell, WTCHG_380869_203249: M38+ Gut single cell, WTCHG_380869_204249: M38+ Gut single cell, WTCHG_380869_205249: M38+ Gut single cell, WTCHG_380869_206249: M38+ Gut single cell, WTCHG_380869_207249: M38+ Gut single cell, WTCHG_380869_208249: M38+ Gut single cell, WTCHG_380869_225249: M38+ Gut single cell, WTCHG_380869_228249: M38+ Gut single cell\n",
      " - *WTCHG_380869_229279: M38+ Gut single cell:* WTCHG_380869_227249: M38+ Gut single cell, WTCHG_380869_229275: M38+ Gut single cell, WTCHG_380869_229276: M38+ Gut single cell, WTCHG_380869_229277: M38+ Gut single cell, WTCHG_380869_229279: M38+ Gut single cell, WTCHG_380869_249273: M38+ Gut single cell, WTCHG_380869_249275: M38+ Gut single cell, WTCHG_380869_249277: M38+ Gut single cell, WTCHG_380869_249279: M38+ Gut single cell\n",
      " - *WTCHG_380869_226254: M38+ Spleen single cell:* WTCHG_380869_206250: M38+ Spleen single cell, WTCHG_380869_206254: M38+ Spleen single cell, WTCHG_380869_225254: M38+ Spleen single cell, WTCHG_380869_226250: M38+ Spleen single cell, WTCHG_380869_226251: M38+ Spleen single cell, WTCHG_380869_226252: M38+ Spleen single cell, WTCHG_380869_226254: M38+ Spleen single cell, WTCHG_380869_226255: M38+ Spleen single cell, WTCHG_380869_226256: M38+ Spleen single cell, WTCHG_380869_227254: M38+ Spleen single cell, WTCHG_380869_227255: M38+ Spleen single cell, WTCHG_380869_228254: M38+ Spleen single cell, WTCHG_380869_228255: M38+ Spleen single cell\n",
      " - *WTCHG_380869_208252: M38+ Spleen single cell:* WTCHG_380869_201252: M38+ Spleen single cell, WTCHG_380869_202252: M38+ Spleen single cell, WTCHG_380869_203252: M38+ Spleen single cell, WTCHG_380869_204252: M38+ Spleen single cell, WTCHG_380869_205252: M38+ Spleen single cell, WTCHG_380869_206252: M38+ Spleen single cell, WTCHG_380869_207252: M38+ Spleen single cell, WTCHG_380869_208250: M38+ Spleen single cell, WTCHG_380869_208252: M38+ Spleen single cell, WTCHG_380869_208254: M38+ Spleen single cell, WTCHG_380869_208256: M38+ Spleen single cell, WTCHG_380869_228251: M38+ Spleen single cell, WTCHG_380869_228252: M38+ Spleen single cell\n",
      " - *WTCHG_380869_229280: Gut single cell bulk CD8+/T-:* WTCHG_380869_229280: Gut single cell bulk CD8+/T-\n",
      " - *WTCHG_380869_253280: M38+ Spleen single cell:* WTCHG_380869_249280: M38+ Spleen single cell, WTCHG_380869_250280: M38+ Spleen single cell, WTCHG_380869_251280: M38+ Spleen single cell, WTCHG_380869_252280: M38+ Spleen single cell, WTCHG_380869_253280: M38+ Spleen single cell, WTCHG_380869_254280: M38+ Spleen single cell, WTCHG_380869_255280: M38+ Spleen single cell, WTCHG_380869_256280: M38+ Spleen single cell bulk\n",
      " - *WTCHG_380869_251275: M38+ Gut single cell:* WTCHG_380869_231275: M38+ Gut single cell, WTCHG_380869_231280: M38+ Gut single cell, WTCHG_380869_250273: M38+ Gut single cell, WTCHG_380869_250275: M38+ Gut single cell, WTCHG_380869_251273: M38+ Gut single cell, WTCHG_380869_251275: M38+ Gut single cell, WTCHG_380869_251277: M38+ Gut single cell, WTCHG_380869_253275: M38+ Gut single cell, WTCHG_380869_254275: M38+ Gut single cell, WTCHG_380869_255275: M38+ Gut single cell\n",
      " - *WTCHG_380869_252279: M38+ Gut single cell:* WTCHG_380869_231279: M38+ Gut single cell, WTCHG_380869_232277: M38+ Gut single cell, WTCHG_380869_232279: M38+ Gut single cell, WTCHG_380869_232280: M38+ Gut single cell, WTCHG_380869_250279: M38+ Gut single cell, WTCHG_380869_251279: M38+ Gut single cell, WTCHG_380869_252273: M38+ Gut single cell, WTCHG_380869_252275: M38+ Gut single cell, WTCHG_380869_252277: M38+ Gut single cell, WTCHG_380869_252279: M38+ Gut single cell, WTCHG_380869_253279: M38+ Gut single cell, WTCHG_380869_254279: M38+ Gut single cell, WTCHG_380869_255279: M38+ Gut single cell, WTCHG_380869_256279: M38+ Gut single cell\n",
      " - *WTCHG_380869_205253: 10pg human brain RNA:* WTCHG_380869_205253: 10pg human brain RNA, WTCHG_380869_256275: 10pg human brain RNA\n",
      " - *WTCHG_380869_226249: blank:* WTCHG_380869_206255: blank, WTCHG_380869_226249: blank, WTCHG_380869_229273: blank, WTCHG_380869_250277: blank\n",
      " - *WTCHG_380869_255278: M38+ Spleen single cell:* WTCHG_380869_229278: M38+ Spleen single cell, WTCHG_380869_230278: M38+ Spleen single cell, WTCHG_380869_231278: M38+ Spleen single cell, WTCHG_380869_232278: M38+ Spleen single cell, WTCHG_380869_249278: M38+ Spleen single cell, WTCHG_380869_250278: M38+ Spleen single cell, WTCHG_380869_251278: M38+ Spleen single cell, WTCHG_380869_252278: M38+ Spleen single cell, WTCHG_380869_253278: M38+ Spleen single cell, WTCHG_380869_254273: M38+ Spleen single cell, WTCHG_380869_254278: M38+ Spleen single cell, WTCHG_380869_255273: M38+ Spleen single cell, WTCHG_380869_255276: M38+ Spleen single cell, WTCHG_380869_255277: M38+ Spleen single cell, WTCHG_380869_255278: M38+ Spleen single cell\n",
      " - *WTCHG_380869_225250: M38+ Spleen single cell:* WTCHG_380869_205250: M38+ Spleen single cell, WTCHG_380869_225250: M38+ Spleen single cell, WTCHG_380869_225251: M38+ Spleen single cell, WTCHG_380869_225252: M38+ Spleen single cell, WTCHG_380869_225255: M38+ Spleen single cell, WTCHG_380869_225256: M38+ Spleen single cell, WTCHG_380869_227250: M38+ Spleen single cell, WTCHG_380869_227251: M38+ Spleen single cell, WTCHG_380869_227252: M38+ Spleen single cell, WTCHG_380869_228250: M38+ Spleen single cell\n",
      " - *WTCHG_380869_253276: M38+ Spleen single cell:* WTCHG_380869_249276: M38+ Spleen single cell, WTCHG_380869_250276: M38+ Spleen single cell, WTCHG_380869_251276: M38+ Spleen single cell, WTCHG_380869_252276: M38+ Spleen single cell, WTCHG_380869_253273: M38+ Spleen single cell, WTCHG_380869_253274: M38+ Spleen single cell, WTCHG_380869_253276: M38+ Spleen single cell, WTCHG_380869_253277: M38+ Spleen single cell, WTCHG_380869_254276: M38+ Spleen single cell, WTCHG_380869_256276: M38+ Spleen single cell\n",
      "\n",
      "time taken:  31.38677406311035 seconds\n"
     ]
    }
   ],
   "source": [
    "geo_id_samples = samples_df.loc[samples_df['geo_id'] == '200128147']\n",
    "print(geo_id_samples)\n",
    "sample_titles = list(geo_id_samples.title)\n",
    "start_time = time.time() # to monitor time taken\n",
    "cluster_terms(sample_titles)\n",
    "end_time = time.time() # to monitor time taken\n",
    "print('\\ntime taken: ', end_time - start_time, 'seconds')"
   ]
  },
  {
   "cell_type": "code",
   "execution_count": null,
   "metadata": {},
   "outputs": [],
   "source": [
    "geo_id_samples = samples_df.loc[samples_df['geo_id'] == '200000014']\n",
    "print(geo_id_samples)\n",
    "sample_titles = list(geo_id_samples.title)\n",
    "start_time = time.time() # to monitor time taken\n",
    "cluster_terms(sample_titles)\n",
    "end_time = time.time() # to monitor time taken\n",
    "print('\\ntime taken: ', end_time - start_time, 'seconds')"
   ]
  },
  {
   "cell_type": "code",
   "execution_count": 14,
   "metadata": {},
   "outputs": [
    {
     "name": "stdout",
     "output_type": "stream",
     "text": [
      "          geo_id  nsamples        date accession        title\n",
      "24316  200002487        10  2005/05/15  GSM42172      ITMST_0\n",
      "24317  200002487        10  2005/05/15  GSM42178  ITME6E7ST_0\n",
      "24318  200002487        10  2005/05/15  GSM42104        ITM_0\n",
      "24319  200002487        10  2005/05/15  GSM42170        ITM_1\n",
      "24320  200002487        10  2005/05/15  GSM42176    ITME6E7_0\n",
      "24321  200002487        10  2005/05/15  GSM42179  ITME6E7ST_1\n",
      "24322  200002487        10  2005/05/15  GSM42103        ITV_1\n",
      "24323  200002487        10  2005/05/15  GSM42177    ITME6E7_1\n",
      "24324  200002487        10  2005/05/15  GSM42175      ITMST_1\n",
      "24325  200002487        10  2005/05/15  GSM42080        ITV_0\n",
      " - *ITMST_0:* ITME6E7ST_0, ITME6E7ST_1, ITME6E7_0, ITME6E7_1, ITMST_0, ITMST_1, ITM_0, ITM_1, ITV_0, ITV_1\n",
      "\n",
      "time taken:  0.012135744094848633 seconds\n"
     ]
    }
   ],
   "source": [
    "geo_id_samples = samples_df.loc[samples_df['geo_id'] == '200002487']\n",
    "print(geo_id_samples)\n",
    "sample_titles = list(geo_id_samples.title)\n",
    "start_time = time.time() # to monitor time taken\n",
    "cluster_terms(sample_titles)\n",
    "end_time = time.time() # to monitor time taken\n",
    "print('\\ntime taken: ', end_time - start_time, 'seconds')"
   ]
  },
  {
   "cell_type": "code",
   "execution_count": 2,
   "metadata": {},
   "outputs": [],
   "source": [
    "def long_substr(data):\n",
    "    substr = ''\n",
    "    if len(data) > 1 and len(data[0]) > 0:\n",
    "        for i in range(len(data[0])):\n",
    "            for j in range(len(data[0])-i+1):\n",
    "                if j > len(substr) and is_substr(data[0][i:i+j], data):\n",
    "                    substr = data[0][i:i+j]\n",
    "    return substr\n",
    "\n",
    "def is_substr(find, data):\n",
    "    if len(data) < 1 and len(find) < 1:\n",
    "        return False\n",
    "    for i in range(len(data)):\n",
    "        if find not in data[i]:\n",
    "            return False\n",
    "    return True"
   ]
  },
  {
   "cell_type": "code",
   "execution_count": 6,
   "metadata": {},
   "outputs": [
    {
     "name": "stdout",
     "output_type": "stream",
     "text": [
      " 24 h PEP005\n"
     ]
    }
   ],
   "source": [
    "text = ['WTCHG_380869_201250: M38+ Gut single cell', 'WTCHG_380869_201251: M38+ Gut single cell', 'WTCHG_380869_202250: M38+ Gut single cell', 'WTCHG_380869_202251: M38+ Gut single cell', 'WTCHG_380869_203251: M38+ Gut single cell bulk', 'WTCHG_380869_204250: M38+ Gut single cell', 'WTCHG_380869_204251: M38+ Gut single cell', 'WTCHG_380869_204254: M38+ Gut single cell', 'WTCHG_380869_204255: M38+ Gut single cell', 'WTCHG_380869_205251: M38+ Gut single cell', 'WTCHG_380869_206251: M38+ Gut single cell', 'WTCHG_380869_207251: M38+ Gut single cell', 'WTCHG_380869_207255: M38+ Gut single cell', 'WTCHG_380869_208251: M38+ Gut single cell', 'WTCHG_380869_208255: M38+ Gut single cell']\n",
    "text = ['A07RM 24 h PEP005', 'D04 24 h PEP005', 'D23 24 h PEP005', 'D24 24 h PEP005', 'LSPM2 24 h PEP005', 'MM127 24 h PEP005', 'MM253 24 h PEP005', 'MM455 24 h PEP005']\n",
    "print(long_substr(text))\n"
   ]
  }
 ],
 "metadata": {
  "kernelspec": {
   "display_name": "Python 3",
   "language": "python",
   "name": "python3"
  },
  "language_info": {
   "codemirror_mode": {
    "name": "ipython",
    "version": 3
   },
   "file_extension": ".py",
   "mimetype": "text/x-python",
   "name": "python",
   "nbconvert_exporter": "python",
   "pygments_lexer": "ipython3",
   "version": "3.7.3"
  }
 },
 "nbformat": 4,
 "nbformat_minor": 2
}
