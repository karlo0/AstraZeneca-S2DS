{
 "cells": [
  {
   "cell_type": "markdown",
   "metadata": {},
   "source": [
    "# Imports"
   ]
  },
  {
   "cell_type": "code",
   "execution_count": 1,
   "metadata": {},
   "outputs": [],
   "source": [
    "# Import pandas\n",
    "import pandas as pd\n",
    "\n",
    "# Import matplotlib\n",
    "import matplotlib.pyplot as plt\n",
    "\n",
    "# Import Network X\n",
    "import networkx as nx"
   ]
  },
  {
   "cell_type": "markdown",
   "metadata": {},
   "source": [
    "# Paths for in/out files"
   ]
  },
  {
   "cell_type": "code",
   "execution_count": 2,
   "metadata": {},
   "outputs": [],
   "source": [
    "# Path of IN-labels\n",
    "names_path = '../data/interim/id_name_tree_without_SCR.pkl'\n",
    "\n",
    "# Path for IN-tags\n",
    "tags_path = '../data/interim/df_geoid_meshid__no_omim_scr.pkl'\n",
    "\n",
    "# Path of OUT-labels - for Gephi\n",
    "gephi_node_labels = 'gephi_node_labels.csv'\n",
    "\n",
    "# Path of OUT-edges - for Gephi\n",
    "gephi_weighted_edges = 'gephi_weighted_edges.gexf'"
   ]
  },
  {
   "cell_type": "markdown",
   "metadata": {},
   "source": [
    "# Read names_df"
   ]
  },
  {
   "cell_type": "code",
   "execution_count": 3,
   "metadata": {
    "scrolled": true
   },
   "outputs": [
    {
     "data": {
      "text/html": [
       "<div>\n",
       "<style scoped>\n",
       "    .dataframe tbody tr th:only-of-type {\n",
       "        vertical-align: middle;\n",
       "    }\n",
       "\n",
       "    .dataframe tbody tr th {\n",
       "        vertical-align: top;\n",
       "    }\n",
       "\n",
       "    .dataframe thead th {\n",
       "        text-align: right;\n",
       "    }\n",
       "</style>\n",
       "<table border=\"1\" class=\"dataframe\">\n",
       "  <thead>\n",
       "    <tr style=\"text-align: right;\">\n",
       "      <th></th>\n",
       "      <th>mesh_id</th>\n",
       "      <th>mesh_heading</th>\n",
       "      <th>mesh_treenumbers</th>\n",
       "      <th>category</th>\n",
       "    </tr>\n",
       "  </thead>\n",
       "  <tbody>\n",
       "    <tr>\n",
       "      <th>0</th>\n",
       "      <td>D000001</td>\n",
       "      <td>Calcimycin</td>\n",
       "      <td>D03.633.100.221.173</td>\n",
       "      <td>D</td>\n",
       "    </tr>\n",
       "    <tr>\n",
       "      <th>1</th>\n",
       "      <td>D000002</td>\n",
       "      <td>Temefos</td>\n",
       "      <td>D02.705.400.625.800</td>\n",
       "      <td>D</td>\n",
       "    </tr>\n",
       "    <tr>\n",
       "      <th>2</th>\n",
       "      <td>D000003</td>\n",
       "      <td>Abattoirs</td>\n",
       "      <td>J01.576.423.200.700.100</td>\n",
       "      <td>J</td>\n",
       "    </tr>\n",
       "    <tr>\n",
       "      <th>3</th>\n",
       "      <td>D000004</td>\n",
       "      <td>Abbreviations as Topic</td>\n",
       "      <td>L01.559.598.400.556.131</td>\n",
       "      <td>L</td>\n",
       "    </tr>\n",
       "    <tr>\n",
       "      <th>4</th>\n",
       "      <td>D000005</td>\n",
       "      <td>Abdomen</td>\n",
       "      <td>A01.923.047</td>\n",
       "      <td>A</td>\n",
       "    </tr>\n",
       "  </tbody>\n",
       "</table>\n",
       "</div>"
      ],
      "text/plain": [
       "   mesh_id            mesh_heading         mesh_treenumbers category\n",
       "0  D000001              Calcimycin      D03.633.100.221.173        D\n",
       "1  D000002                 Temefos      D02.705.400.625.800        D\n",
       "2  D000003               Abattoirs  J01.576.423.200.700.100        J\n",
       "3  D000004  Abbreviations as Topic  L01.559.598.400.556.131        L\n",
       "4  D000005                 Abdomen              A01.923.047        A"
      ]
     },
     "execution_count": 3,
     "metadata": {},
     "output_type": "execute_result"
    }
   ],
   "source": [
    "# Read\n",
    "names_df = pd.read_pickle(names_path)\n",
    "\n",
    "# Echo\n",
    "names_df.head()"
   ]
  },
  {
   "cell_type": "markdown",
   "metadata": {},
   "source": [
    "# Construct Gephi labels"
   ]
  },
  {
   "cell_type": "code",
   "execution_count": 4,
   "metadata": {},
   "outputs": [
    {
     "name": "stdout",
     "output_type": "stream",
     "text": [
      "Shape -Before-:  (59746, 4)\n",
      "Shape  -After-:  (29349, 4)\n"
     ]
    },
    {
     "data": {
      "text/html": [
       "<div>\n",
       "<style scoped>\n",
       "    .dataframe tbody tr th:only-of-type {\n",
       "        vertical-align: middle;\n",
       "    }\n",
       "\n",
       "    .dataframe tbody tr th {\n",
       "        vertical-align: top;\n",
       "    }\n",
       "\n",
       "    .dataframe thead th {\n",
       "        text-align: right;\n",
       "    }\n",
       "</style>\n",
       "<table border=\"1\" class=\"dataframe\">\n",
       "  <thead>\n",
       "    <tr style=\"text-align: right;\">\n",
       "      <th></th>\n",
       "      <th>id</th>\n",
       "      <th>label</th>\n",
       "    </tr>\n",
       "  </thead>\n",
       "  <tbody>\n",
       "    <tr>\n",
       "      <th>0</th>\n",
       "      <td>D000001</td>\n",
       "      <td>Calcimycin</td>\n",
       "    </tr>\n",
       "    <tr>\n",
       "      <th>1</th>\n",
       "      <td>D000002</td>\n",
       "      <td>Temefos</td>\n",
       "    </tr>\n",
       "    <tr>\n",
       "      <th>2</th>\n",
       "      <td>D000003</td>\n",
       "      <td>Abattoirs</td>\n",
       "    </tr>\n",
       "    <tr>\n",
       "      <th>3</th>\n",
       "      <td>D000004</td>\n",
       "      <td>Abbreviations as Topic</td>\n",
       "    </tr>\n",
       "    <tr>\n",
       "      <th>4</th>\n",
       "      <td>D000005</td>\n",
       "      <td>Abdomen</td>\n",
       "    </tr>\n",
       "  </tbody>\n",
       "</table>\n",
       "</div>"
      ],
      "text/plain": [
       "        id                   label\n",
       "0  D000001              Calcimycin\n",
       "1  D000002                 Temefos\n",
       "2  D000003               Abattoirs\n",
       "3  D000004  Abbreviations as Topic\n",
       "4  D000005                 Abdomen"
      ]
     },
     "execution_count": 4,
     "metadata": {},
     "output_type": "execute_result"
    }
   ],
   "source": [
    "# Check all entries\n",
    "print('Shape -Before-: ', names_df.shape)\n",
    "\n",
    "# Check non-None entries\n",
    "gephi_labels = names_df.dropna(axis=0)\n",
    "\n",
    "# Check for duplicates\n",
    "gephi_labels = gephi_labels.drop_duplicates(subset='mesh_id', keep='first')\n",
    "\n",
    "# Check all entries - again\n",
    "print('Shape  -After-: ', gephi_labels.shape)\n",
    "\n",
    "# Copy only id and label\n",
    "gephi_labels = gephi_labels.drop(columns='mesh_treenumbers category'.split())\n",
    "\n",
    "# Rename for csv-file\n",
    "gephi_labels = gephi_labels.rename(columns={'mesh_id':'id', 'mesh_heading':'label'})\n",
    "\n",
    "# Save to .csv\n",
    "gephi_labels.to_csv(gephi_node_labels, index=False)\n",
    "\n",
    "# Echo\n",
    "gephi_labels.head()"
   ]
  },
  {
   "cell_type": "markdown",
   "metadata": {},
   "source": [
    "# Read tags_df"
   ]
  },
  {
   "cell_type": "code",
   "execution_count": 5,
   "metadata": {},
   "outputs": [
    {
     "data": {
      "text/html": [
       "<div>\n",
       "<style scoped>\n",
       "    .dataframe tbody tr th:only-of-type {\n",
       "        vertical-align: middle;\n",
       "    }\n",
       "\n",
       "    .dataframe tbody tr th {\n",
       "        vertical-align: top;\n",
       "    }\n",
       "\n",
       "    .dataframe thead th {\n",
       "        text-align: right;\n",
       "    }\n",
       "</style>\n",
       "<table border=\"1\" class=\"dataframe\">\n",
       "  <thead>\n",
       "    <tr style=\"text-align: right;\">\n",
       "      <th></th>\n",
       "      <th>geo_id</th>\n",
       "      <th>nsamples</th>\n",
       "      <th>date</th>\n",
       "      <th>mesh_id</th>\n",
       "      <th>category</th>\n",
       "    </tr>\n",
       "  </thead>\n",
       "  <tbody>\n",
       "    <tr>\n",
       "      <th>0</th>\n",
       "      <td>200000001</td>\n",
       "      <td>38.0</td>\n",
       "      <td>2001/01/22</td>\n",
       "      <td>D014407</td>\n",
       "      <td>A</td>\n",
       "    </tr>\n",
       "    <tr>\n",
       "      <th>1</th>\n",
       "      <td>200000001</td>\n",
       "      <td>38.0</td>\n",
       "      <td>2001/01/22</td>\n",
       "      <td>D008297</td>\n",
       "      <td>Sex</td>\n",
       "    </tr>\n",
       "    <tr>\n",
       "      <th>2</th>\n",
       "      <td>200000001</td>\n",
       "      <td>38.0</td>\n",
       "      <td>2001/01/22</td>\n",
       "      <td>D008545</td>\n",
       "      <td>C</td>\n",
       "    </tr>\n",
       "    <tr>\n",
       "      <th>3</th>\n",
       "      <td>200000001</td>\n",
       "      <td>38.0</td>\n",
       "      <td>2001/01/22</td>\n",
       "      <td>D008875</td>\n",
       "      <td>M</td>\n",
       "    </tr>\n",
       "    <tr>\n",
       "      <th>4</th>\n",
       "      <td>200000001</td>\n",
       "      <td>38.0</td>\n",
       "      <td>2001/01/22</td>\n",
       "      <td>D009361</td>\n",
       "      <td>C</td>\n",
       "    </tr>\n",
       "  </tbody>\n",
       "</table>\n",
       "</div>"
      ],
      "text/plain": [
       "      geo_id  nsamples        date  mesh_id category\n",
       "0  200000001      38.0  2001/01/22  D014407        A\n",
       "1  200000001      38.0  2001/01/22  D008297      Sex\n",
       "2  200000001      38.0  2001/01/22  D008545        C\n",
       "3  200000001      38.0  2001/01/22  D008875        M\n",
       "4  200000001      38.0  2001/01/22  D009361        C"
      ]
     },
     "execution_count": 5,
     "metadata": {},
     "output_type": "execute_result"
    }
   ],
   "source": [
    "# Read\n",
    "tags_df = pd.read_pickle(tags_path)\n",
    "\n",
    "# Echo\n",
    "tags_df.head()"
   ]
  },
  {
   "cell_type": "markdown",
   "metadata": {},
   "source": [
    "# Filter DataFrame - Do it here since it still looks like the original thing..."
   ]
  },
  {
   "cell_type": "code",
   "execution_count": 6,
   "metadata": {},
   "outputs": [],
   "source": [
    "# Construct date filter\n",
    "mask_date = tags_df['date']==tags_df['date']\n",
    "\n",
    "# Construct category filter\n",
    "mask_category = tags_df['category']=='D'#tags_df['category']\n",
    "\n",
    "# Filter data\n",
    "tags_df = tags_df[mask_date & mask_category]\n",
    "\n",
    "# Eliminate filterning columns\n",
    "tags_df.drop(columns='date category'.split(), inplace=True)"
   ]
  },
  {
   "cell_type": "markdown",
   "metadata": {},
   "source": [
    "# Clean Data"
   ]
  },
  {
   "cell_type": "code",
   "execution_count": 7,
   "metadata": {},
   "outputs": [
    {
     "name": "stdout",
     "output_type": "stream",
     "text": [
      "Shape -before-:  (130753, 3)\n",
      "Shape  -after-:  (130686, 3)\n"
     ]
    },
    {
     "data": {
      "text/html": [
       "<div>\n",
       "<style scoped>\n",
       "    .dataframe tbody tr th:only-of-type {\n",
       "        vertical-align: middle;\n",
       "    }\n",
       "\n",
       "    .dataframe tbody tr th {\n",
       "        vertical-align: top;\n",
       "    }\n",
       "\n",
       "    .dataframe thead th {\n",
       "        text-align: right;\n",
       "    }\n",
       "</style>\n",
       "<table border=\"1\" class=\"dataframe\">\n",
       "  <thead>\n",
       "    <tr style=\"text-align: right;\">\n",
       "      <th></th>\n",
       "      <th>geo_id</th>\n",
       "      <th>nsamples</th>\n",
       "      <th>mesh_id</th>\n",
       "    </tr>\n",
       "  </thead>\n",
       "  <tbody>\n",
       "    <tr>\n",
       "      <th>9</th>\n",
       "      <td>200000001</td>\n",
       "      <td>38.0</td>\n",
       "      <td>D012333</td>\n",
       "    </tr>\n",
       "    <tr>\n",
       "      <th>28</th>\n",
       "      <td>200000010</td>\n",
       "      <td>4.0</td>\n",
       "      <td>D007501</td>\n",
       "    </tr>\n",
       "    <tr>\n",
       "      <th>29</th>\n",
       "      <td>200000010</td>\n",
       "      <td>4.0</td>\n",
       "      <td>D010100</td>\n",
       "    </tr>\n",
       "    <tr>\n",
       "      <th>44</th>\n",
       "      <td>200000010</td>\n",
       "      <td>4.0</td>\n",
       "      <td>D012333</td>\n",
       "    </tr>\n",
       "    <tr>\n",
       "      <th>50</th>\n",
       "      <td>200000014</td>\n",
       "      <td>765.0</td>\n",
       "      <td>D004272</td>\n",
       "    </tr>\n",
       "  </tbody>\n",
       "</table>\n",
       "</div>"
      ],
      "text/plain": [
       "       geo_id  nsamples  mesh_id\n",
       "9   200000001      38.0  D012333\n",
       "28  200000010       4.0  D007501\n",
       "29  200000010       4.0  D010100\n",
       "44  200000010       4.0  D012333\n",
       "50  200000014     765.0  D004272"
      ]
     },
     "execution_count": 7,
     "metadata": {},
     "output_type": "execute_result"
    }
   ],
   "source": [
    "# Check shape\n",
    "print('Shape -before-: ', tags_df.shape)\n",
    "\n",
    "# Drop NaNs\n",
    "tags_df.dropna(axis=0,inplace=True)\n",
    "\n",
    "# Delete duplicates\n",
    "tags_df = tags_df.drop_duplicates()\n",
    "\n",
    "# Only select summaries with +1 tag\n",
    "tags_by_summary = tags_df['geo_id mesh_id'.split()].groupby('geo_id').count().reset_index() # Count tags per summary\n",
    "good_summaries = tags_by_summary[tags_by_summary['mesh_id']>1] # Select abstracts with more than one tag\n",
    "clean_tags = pd.merge(tags_df, good_summaries, on='geo_id') # Inner Join\n",
    "clean_tags = clean_tags.drop(columns='mesh_id_y') # Drop column from inner join\n",
    "clean_tags = clean_tags.rename(columns={'mesh_id_x':'mesh_id'}) # Rename key column\n",
    "                             \n",
    "# Check shape -again\n",
    "print('Shape  -after-: ', tags_df.shape)\n",
    "\n",
    "# Echo\n",
    "tags_df.head()"
   ]
  },
  {
   "cell_type": "markdown",
   "metadata": {},
   "source": [
    "# Construct DataFrame with Weighted Links"
   ]
  },
  {
   "cell_type": "code",
   "execution_count": 8,
   "metadata": {},
   "outputs": [
    {
     "name": "stdout",
     "output_type": "stream",
     "text": [
      "     All links:  806080\n",
      "Weighted links:  200496\n"
     ]
    },
    {
     "data": {
      "text/html": [
       "<div>\n",
       "<style scoped>\n",
       "    .dataframe tbody tr th:only-of-type {\n",
       "        vertical-align: middle;\n",
       "    }\n",
       "\n",
       "    .dataframe tbody tr th {\n",
       "        vertical-align: top;\n",
       "    }\n",
       "\n",
       "    .dataframe thead th {\n",
       "        text-align: right;\n",
       "    }\n",
       "</style>\n",
       "<table border=\"1\" class=\"dataframe\">\n",
       "  <thead>\n",
       "    <tr style=\"text-align: right;\">\n",
       "      <th></th>\n",
       "      <th>source</th>\n",
       "      <th>target</th>\n",
       "      <th>weight</th>\n",
       "    </tr>\n",
       "  </thead>\n",
       "  <tbody>\n",
       "    <tr>\n",
       "      <th>0</th>\n",
       "      <td>D000001</td>\n",
       "      <td>D002110</td>\n",
       "      <td>0.000253</td>\n",
       "    </tr>\n",
       "    <tr>\n",
       "      <th>1</th>\n",
       "      <td>D000001</td>\n",
       "      <td>D002118</td>\n",
       "      <td>0.000337</td>\n",
       "    </tr>\n",
       "    <tr>\n",
       "      <th>2</th>\n",
       "      <td>D000001</td>\n",
       "      <td>D003029</td>\n",
       "      <td>0.000337</td>\n",
       "    </tr>\n",
       "    <tr>\n",
       "      <th>3</th>\n",
       "      <td>D000001</td>\n",
       "      <td>D006657</td>\n",
       "      <td>0.000337</td>\n",
       "    </tr>\n",
       "    <tr>\n",
       "      <th>4</th>\n",
       "      <td>D000001</td>\n",
       "      <td>D007476</td>\n",
       "      <td>0.000337</td>\n",
       "    </tr>\n",
       "  </tbody>\n",
       "</table>\n",
       "</div>"
      ],
      "text/plain": [
       "    source   target    weight\n",
       "0  D000001  D002110  0.000253\n",
       "1  D000001  D002118  0.000337\n",
       "2  D000001  D003029  0.000337\n",
       "3  D000001  D006657  0.000337\n",
       "4  D000001  D007476  0.000337"
      ]
     },
     "execution_count": 8,
     "metadata": {},
     "output_type": "execute_result"
    }
   ],
   "source": [
    "# Construct all-with-all links inside same geoid-nsample-date record\n",
    "links = pd.merge(tags_df, tags_df, on='geo_id nsamples'.split())\n",
    "\n",
    "# Echo info\n",
    "print('     All links: ',links.shape[0])\n",
    "\n",
    "# Rename to Source-Target\n",
    "links.rename(columns={'mesh_id_x':'source', 'mesh_id_y':'target'}, inplace=True)\n",
    "\n",
    "# Delete self-linkage\n",
    "links.drop(links[links['source']==links['target']].index, inplace=True)\n",
    "\n",
    "# Collapse repetitions while calculating weights\n",
    "links_weights = links.groupby('source target'.split()).sum().reset_index()\n",
    "\n",
    "# Rename sum(nsamples) to 'weight'\n",
    "links_weights.rename(columns={'nsamples':'weight'}, inplace=True)\n",
    "\n",
    "# Account for mirror-duplicates\n",
    "links_weights['weight']/=2\n",
    "\n",
    "# Normalize weights\n",
    "links_weights['weight']/=links_weights['weight'].max()\n",
    "\n",
    "# Echo info\n",
    "print('Weighted links: ', links_weights.shape[0])\n",
    "\n",
    "# Head\n",
    "links_weights.head()"
   ]
  },
  {
   "cell_type": "markdown",
   "metadata": {},
   "source": [
    "# Construct Graph"
   ]
  },
  {
   "cell_type": "code",
   "execution_count": 9,
   "metadata": {},
   "outputs": [
    {
     "name": "stdout",
     "output_type": "stream",
     "text": [
      "Balanced graph:  True\n",
      "  Size (Nodes):  200496\n",
      " Order (Edges):  4496\n"
     ]
    }
   ],
   "source": [
    "# Construct Directed Graph\n",
    "az = nx.from_pandas_edgelist(links_weights, \n",
    "                             source='source', \n",
    "                             target='target', \n",
    "                             edge_attr='weight', \n",
    "                             create_using=nx.DiGraph()\n",
    "                            )\n",
    "\n",
    "# Check for perfectly balanced links\n",
    "suma = 0.0\n",
    "n0='D000001'\n",
    "for n1 in az.neighbors(n0):\n",
    "    for n2 in az.neighbors(n1):\n",
    "        suma += az[n1][n2]['weight'] - az[n2][n1]['weight']\n",
    "print('Balanced graph: ', suma==0.0)\n",
    "\n",
    "# Transform to undirected graph\n",
    "azud = nx.to_undirected(az)\n",
    "\n",
    "# Echo info\n",
    "print('  Size (Nodes): ', azud.size())\n",
    "print(' Order (Edges): ', azud.order())"
   ]
  },
  {
   "cell_type": "markdown",
   "metadata": {},
   "source": [
    "# Run statistics"
   ]
  },
  {
   "cell_type": "code",
   "execution_count": 10,
   "metadata": {},
   "outputs": [],
   "source": [
    "# Eigenvector centrality\n",
    "eigencentrality = nx.eigenvector_centrality(azud, max_iter=500, weight='weight')"
   ]
  },
  {
   "cell_type": "code",
   "execution_count": 11,
   "metadata": {},
   "outputs": [],
   "source": [
    "# PageRank\n",
    "pagerank = nx.pagerank(azud, alpha=0.9)"
   ]
  },
  {
   "cell_type": "markdown",
   "metadata": {},
   "source": [
    "# Export to Gephi"
   ]
  },
  {
   "cell_type": "code",
   "execution_count": 12,
   "metadata": {
    "scrolled": true
   },
   "outputs": [],
   "source": [
    "# Export directly in GEXF format\n",
    "nx.write_gexf(azud, gephi_weighted_edges)"
   ]
  },
  {
   "cell_type": "code",
   "execution_count": null,
   "metadata": {},
   "outputs": [],
   "source": []
  }
 ],
 "metadata": {
  "kernelspec": {
   "display_name": "Python 3",
   "language": "python",
   "name": "python3"
  },
  "language_info": {
   "codemirror_mode": {
    "name": "ipython",
    "version": 3
   },
   "file_extension": ".py",
   "mimetype": "text/x-python",
   "name": "python",
   "nbconvert_exporter": "python",
   "pygments_lexer": "ipython3",
   "version": "3.7.1"
  }
 },
 "nbformat": 4,
 "nbformat_minor": 2
}
