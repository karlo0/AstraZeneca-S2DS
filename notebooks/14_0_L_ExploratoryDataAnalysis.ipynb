{
 "cells": [
  {
   "cell_type": "markdown",
   "metadata": {},
   "source": [
    "# Script to Count Word Frequency and Plot"
   ]
  },
  {
   "cell_type": "markdown",
   "metadata": {},
   "source": [
    "## Load Into DataFrame"
   ]
  },
  {
   "cell_type": "code",
   "execution_count": 45,
   "metadata": {},
   "outputs": [
    {
     "data": {
      "text/html": [
       "<div>\n",
       "<style scoped>\n",
       "    .dataframe tbody tr th:only-of-type {\n",
       "        vertical-align: middle;\n",
       "    }\n",
       "\n",
       "    .dataframe tbody tr th {\n",
       "        vertical-align: top;\n",
       "    }\n",
       "\n",
       "    .dataframe thead th {\n",
       "        text-align: right;\n",
       "    }\n",
       "</style>\n",
       "<table border=\"1\" class=\"dataframe\">\n",
       "  <thead>\n",
       "    <tr style=\"text-align: right;\">\n",
       "      <th></th>\n",
       "      <th>Id</th>\n",
       "      <th>Accession</th>\n",
       "      <th>title</th>\n",
       "      <th>summary</th>\n",
       "      <th>taxon</th>\n",
       "    </tr>\n",
       "  </thead>\n",
       "  <tbody>\n",
       "    <tr>\n",
       "      <th>0</th>\n",
       "      <td>200112120</td>\n",
       "      <td>GSE112120</td>\n",
       "      <td>Risk SNPs mediated promoter-enhancer switching...</td>\n",
       "      <td>To determine the binding of H3K4me1 and H3K4me...</td>\n",
       "      <td>Homo sapiens</td>\n",
       "    </tr>\n",
       "    <tr>\n",
       "      <th>1</th>\n",
       "      <td>200117735</td>\n",
       "      <td>GSE117735</td>\n",
       "      <td>The ATPase module of mammalian SWI/SNF family ...</td>\n",
       "      <td>This SuperSeries is composed of the SubSeries ...</td>\n",
       "      <td>Homo sapiens</td>\n",
       "    </tr>\n",
       "    <tr>\n",
       "      <th>2</th>\n",
       "      <td>200117734</td>\n",
       "      <td>GSE117734</td>\n",
       "      <td>The mSWI/SNF ATPase module mediates subcomplex...</td>\n",
       "      <td>Perturbations to mammalian SWI/SNF (mSWI/SNF) ...</td>\n",
       "      <td>Homo sapiens</td>\n",
       "    </tr>\n",
       "    <tr>\n",
       "      <th>3</th>\n",
       "      <td>200128119</td>\n",
       "      <td>GSE128119</td>\n",
       "      <td>COX-2 mediates tumor-stromal Prolactin signali...</td>\n",
       "      <td>Tumor-stromal communication within the microen...</td>\n",
       "      <td>Homo sapiens</td>\n",
       "    </tr>\n",
       "    <tr>\n",
       "      <th>4</th>\n",
       "      <td>200126367</td>\n",
       "      <td>GSE126367</td>\n",
       "      <td>Copy number analysis of selumetinib-resistant ...</td>\n",
       "      <td>Copy number analysis to compare parental color...</td>\n",
       "      <td>Homo sapiens</td>\n",
       "    </tr>\n",
       "  </tbody>\n",
       "</table>\n",
       "</div>"
      ],
      "text/plain": [
       "          Id  Accession                                              title  \\\n",
       "0  200112120  GSE112120  Risk SNPs mediated promoter-enhancer switching...   \n",
       "1  200117735  GSE117735  The ATPase module of mammalian SWI/SNF family ...   \n",
       "2  200117734  GSE117734  The mSWI/SNF ATPase module mediates subcomplex...   \n",
       "3  200128119  GSE128119  COX-2 mediates tumor-stromal Prolactin signali...   \n",
       "4  200126367  GSE126367  Copy number analysis of selumetinib-resistant ...   \n",
       "\n",
       "                                             summary         taxon  \n",
       "0  To determine the binding of H3K4me1 and H3K4me...  Homo sapiens  \n",
       "1  This SuperSeries is composed of the SubSeries ...  Homo sapiens  \n",
       "2  Perturbations to mammalian SWI/SNF (mSWI/SNF) ...  Homo sapiens  \n",
       "3  Tumor-stromal communication within the microen...  Homo sapiens  \n",
       "4  Copy number analysis to compare parental color...  Homo sapiens  "
      ]
     },
     "execution_count": 45,
     "metadata": {},
     "output_type": "execute_result"
    }
   ],
   "source": [
    "# Imports\n",
    "import pandas as pd\n",
    "import matplotlib.pyplot as plt\n",
    "import seaborn as sns\n",
    "import string\n",
    "from nltk.corpus import stopwords\n",
    "from sklearn.feature_extraction.text import CountVectorizer\n",
    "from sklearn.feature_extraction.text import TfidfTransformer\n",
    "from sklearn.cluster import KMeans\n",
    "import scipy.cluster.hierarchy as sch\n",
    "from sklearn.cluster import AgglomerativeClustering\n",
    "\n",
    "%matplotlib inline\n",
    "\n",
    "# Set name of file\n",
    "filename = '../data/interim/summaries.csv'\n",
    "\n",
    "# Read to DataFrame\n",
    "df = pd.read_csv(filename, sep=',', header=[0], error_bad_lines=False)\n",
    "df.head()"
   ]
  },
  {
   "cell_type": "markdown",
   "metadata": {},
   "source": [
    "# Get the Data"
   ]
  },
  {
   "cell_type": "code",
   "execution_count": 2,
   "metadata": {},
   "outputs": [
    {
     "data": {
      "text/html": [
       "<div>\n",
       "<style scoped>\n",
       "    .dataframe tbody tr th:only-of-type {\n",
       "        vertical-align: middle;\n",
       "    }\n",
       "\n",
       "    .dataframe tbody tr th {\n",
       "        vertical-align: top;\n",
       "    }\n",
       "\n",
       "    .dataframe thead th {\n",
       "        text-align: right;\n",
       "    }\n",
       "</style>\n",
       "<table border=\"1\" class=\"dataframe\">\n",
       "  <thead>\n",
       "    <tr style=\"text-align: right;\">\n",
       "      <th></th>\n",
       "      <th>summary</th>\n",
       "      <th>length</th>\n",
       "    </tr>\n",
       "  </thead>\n",
       "  <tbody>\n",
       "    <tr>\n",
       "      <th>0</th>\n",
       "      <td>To determine the binding of H3K4me1 and H3K4me...</td>\n",
       "      <td>102</td>\n",
       "    </tr>\n",
       "    <tr>\n",
       "      <th>1</th>\n",
       "      <td>This SuperSeries is composed of the SubSeries ...</td>\n",
       "      <td>59</td>\n",
       "    </tr>\n",
       "    <tr>\n",
       "      <th>2</th>\n",
       "      <td>Perturbations to mammalian SWI/SNF (mSWI/SNF) ...</td>\n",
       "      <td>1429</td>\n",
       "    </tr>\n",
       "    <tr>\n",
       "      <th>3</th>\n",
       "      <td>Tumor-stromal communication within the microen...</td>\n",
       "      <td>1167</td>\n",
       "    </tr>\n",
       "    <tr>\n",
       "      <th>4</th>\n",
       "      <td>Copy number analysis to compare parental color...</td>\n",
       "      <td>180</td>\n",
       "    </tr>\n",
       "  </tbody>\n",
       "</table>\n",
       "</div>"
      ],
      "text/plain": [
       "                                             summary  length\n",
       "0  To determine the binding of H3K4me1 and H3K4me...     102\n",
       "1  This SuperSeries is composed of the SubSeries ...      59\n",
       "2  Perturbations to mammalian SWI/SNF (mSWI/SNF) ...    1429\n",
       "3  Tumor-stromal communication within the microen...    1167\n",
       "4  Copy number analysis to compare parental color...     180"
      ]
     },
     "execution_count": 2,
     "metadata": {},
     "output_type": "execute_result"
    }
   ],
   "source": [
    "messages = pd.DataFrame(df['summary'])\n",
    "messages['length'] = messages['summary'].apply(len)\n",
    "messages.head()"
   ]
  },
  {
   "cell_type": "markdown",
   "metadata": {},
   "source": [
    "# Exploratory Data Analysis"
   ]
  },
  {
   "cell_type": "code",
   "execution_count": 3,
   "metadata": {},
   "outputs": [
    {
     "data": {
      "text/html": [
       "<div>\n",
       "<style scoped>\n",
       "    .dataframe tbody tr th:only-of-type {\n",
       "        vertical-align: middle;\n",
       "    }\n",
       "\n",
       "    .dataframe tbody tr th {\n",
       "        vertical-align: top;\n",
       "    }\n",
       "\n",
       "    .dataframe thead th {\n",
       "        text-align: right;\n",
       "    }\n",
       "</style>\n",
       "<table border=\"1\" class=\"dataframe\">\n",
       "  <thead>\n",
       "    <tr style=\"text-align: right;\">\n",
       "      <th></th>\n",
       "      <th>length</th>\n",
       "    </tr>\n",
       "  </thead>\n",
       "  <tbody>\n",
       "    <tr>\n",
       "      <th>count</th>\n",
       "      <td>100.000000</td>\n",
       "    </tr>\n",
       "    <tr>\n",
       "      <th>mean</th>\n",
       "      <td>676.230000</td>\n",
       "    </tr>\n",
       "    <tr>\n",
       "      <th>std</th>\n",
       "      <td>601.822465</td>\n",
       "    </tr>\n",
       "    <tr>\n",
       "      <th>min</th>\n",
       "      <td>28.000000</td>\n",
       "    </tr>\n",
       "    <tr>\n",
       "      <th>25%</th>\n",
       "      <td>179.250000</td>\n",
       "    </tr>\n",
       "    <tr>\n",
       "      <th>50%</th>\n",
       "      <td>412.000000</td>\n",
       "    </tr>\n",
       "    <tr>\n",
       "      <th>75%</th>\n",
       "      <td>1103.750000</td>\n",
       "    </tr>\n",
       "    <tr>\n",
       "      <th>max</th>\n",
       "      <td>2495.000000</td>\n",
       "    </tr>\n",
       "  </tbody>\n",
       "</table>\n",
       "</div>"
      ],
      "text/plain": [
       "            length\n",
       "count   100.000000\n",
       "mean    676.230000\n",
       "std     601.822465\n",
       "min      28.000000\n",
       "25%     179.250000\n",
       "50%     412.000000\n",
       "75%    1103.750000\n",
       "max    2495.000000"
      ]
     },
     "execution_count": 3,
     "metadata": {},
     "output_type": "execute_result"
    }
   ],
   "source": [
    "messages.describe()"
   ]
  },
  {
   "cell_type": "code",
   "execution_count": 4,
   "metadata": {},
   "outputs": [
    {
     "name": "stdout",
     "output_type": "stream",
     "text": [
      "Shortest Message:---\n",
      " MLLT3 binds to open gene TSS\n",
      "\n",
      "\n",
      "Longest  Message:---\n",
      " Comparison af adherent growing breast cancer cell lines versus mammospheres under serum-free conditions Background: In patients with breast cancer, subsets of long-lived cells tolerate chemotherapies. These chemoresistant cells can remain dormant at secondary sites, such as bone and lung, for years and decades. Cancer cells endowed with drug resistance are maintained in vivo in a quiescent slow-growing state that preserves them from anti-proliferative cancer drugs. The mechanism of conversion from dormancy to growth remains poorly understood. We aimed to identify microRNAs (miRNAs) as master regulators of cancer stem cells (CSCs) maintainance, because one of the characteristics of CSCs is their slow proliferation or dormancy. MiRNA targeting CSCs may be an effective therapy to improve the prognosis of breast cancer patients. Methods: We performed miRNA array analysis to identify differences miRNA expression profiles between adherent cells and mammospheres that contain higher number of breast cancer stem cells (BCSCs). In this approach, we focused on expression of hsa-miR-27a. Further, roles of hsa-miR-27a target genes in maintaining BCSC properties were analysed . Results: Here, we showed that hsa-miR-27a was downregulated in mammosphere cells. The formation of BCSCs was attenuated by transfection of hsa-miR-27a. We found that hsa-miR-27a targets F-box and WD-40 domain protein 7 (FBW7), a tumor suppressor gene, thereby inducing tumor dormancy. Additionally, we found that hsa-miR-27a targets genes involved in GSH synthesis, including xCT (encoded by SLC7A11), a heterodimeric protein of a transporter subunit of the xC(-) system, cystathionine gamma-lyase (CTH/CSE), and nuclear factor-erythroid 2-related factor 2 (Nrf2/NFE2L2), thereby increasing intracellular reactive oxygen species (ROS) levels. Upregulation of these genes by antisense (as)-miR-27a induced autophagy. Conclusions: Previous studies showed that expression of hsa-miR-27a is elevated in breast cancer. Here, we showed that expression of hsa-miR-27a was reduced in BCSC. CSCs in the dormant state are resistant to chemotherapy due to inhibition of ROS accumulation in these cells. These results demonstrate that hsa-miR-27a plays an essential role in maintaining the BCSCs phenotype via regulation of FBW7, ROS related genes and the Nrf2 pathway, as well as in the dormant-to-proliferative switch of breast cancer cells. Thus, hsa-miR-27a represents a novel strategy for various type of breast cancer.\n"
     ]
    }
   ],
   "source": [
    "print('Shortest Message:---\\n',messages[messages['length'] == 28]['summary'].iloc[0])\n",
    "print('\\n')\n",
    "print('Longest  Message:---\\n',messages[messages['length'] == 2495]['summary'].iloc[0])"
   ]
  },
  {
   "cell_type": "code",
   "execution_count": 5,
   "metadata": {},
   "outputs": [
    {
     "data": {
      "text/plain": [
       "<matplotlib.axes._subplots.AxesSubplot at 0x1067a24a8>"
      ]
     },
     "execution_count": 5,
     "metadata": {},
     "output_type": "execute_result"
    },
    {
     "data": {
      "image/png": "[encoded data removed]",
      "text/plain": [
       "<Figure size 432x288 with 1 Axes>"
      ]
     },
     "metadata": {
      "needs_background": "light"
     },
     "output_type": "display_data"
    }
   ],
   "source": [
    "messages.groupby('length').count()\n",
    "messages['length'].plot(bins=50, kind='hist', title='Frequency of summaries of certain length', legend=True) "
   ]
  },
  {
   "cell_type": "markdown",
   "metadata": {},
   "source": [
    "# Text Pre-Processing"
   ]
  },
  {
   "cell_type": "code",
   "execution_count": 6,
   "metadata": {},
   "outputs": [],
   "source": [
    "def text_process(mess):\n",
    "    \"\"\"\n",
    "    Takes in a string of text, then performs the following:\n",
    "    1. Remove all punctuation\n",
    "    2. Remove all stopwords\n",
    "    3. Returns a list of the cleaned text\n",
    "    \"\"\"\n",
    "    # Check characters to see if they are in punctuation\n",
    "    nopunc = [char for char in mess if char not in string.punctuation]\n",
    "\n",
    "    # Join the characters again to form the string.\n",
    "    nopunc = ''.join(nopunc)\n",
    "    \n",
    "    # Now just remove any stopwords\n",
    "    return [word for word in nopunc.split() if word.lower() not in stopwords.words('english')]"
   ]
  },
  {
   "cell_type": "code",
   "execution_count": 7,
   "metadata": {},
   "outputs": [
    {
     "data": {
      "text/plain": [
       "0    [determine, binding, H3K4me1, H3K4me3, PCAT19,...\n",
       "1           [SuperSeries, composed, SubSeries, listed]\n",
       "2    [Perturbations, mammalian, SWISNF, mSWISNF, ch...\n",
       "3    [Tumorstromal, communication, within, microenv...\n",
       "4    [Copy, number, analysis, compare, parental, co...\n",
       "Name: summary, dtype: object"
      ]
     },
     "execution_count": 7,
     "metadata": {},
     "output_type": "execute_result"
    }
   ],
   "source": [
    "messages['summary'].head(5).apply(text_process)"
   ]
  },
  {
   "cell_type": "markdown",
   "metadata": {},
   "source": [
    "# Stemming (?)"
   ]
  },
  {
   "cell_type": "code",
   "execution_count": null,
   "metadata": {},
   "outputs": [],
   "source": []
  },
  {
   "cell_type": "markdown",
   "metadata": {},
   "source": [
    "# Vectorization"
   ]
  },
  {
   "cell_type": "code",
   "execution_count": 8,
   "metadata": {},
   "outputs": [
    {
     "name": "stdout",
     "output_type": "stream",
     "text": [
      "2402\n"
     ]
    }
   ],
   "source": [
    "# Might take awhile...\n",
    "bow_transformer = CountVectorizer(analyzer=text_process).fit(messages['summary'])\n",
    "\n",
    "# Print total number of vocab words\n",
    "print(len(bow_transformer.vocabulary_))"
   ]
  },
  {
   "cell_type": "code",
   "execution_count": 9,
   "metadata": {},
   "outputs": [
    {
     "name": "stdout",
     "output_type": "stream",
     "text": [
      "  (0, 478)\t1\n",
      "  (0, 479)\t1\n",
      "  (0, 834)\t1\n",
      "  (0, 1446)\t1\n",
      "\n",
      "(1, 2402)\n"
     ]
    }
   ],
   "source": [
    "message2 = messages['summary'][1]\n",
    "bow2 = bow_transformer.transform([message2])\n",
    "print(bow2)\n",
    "print()\n",
    "print(bow2.shape)"
   ]
  },
  {
   "cell_type": "code",
   "execution_count": 10,
   "metadata": {},
   "outputs": [
    {
     "name": "stdout",
     "output_type": "stream",
     "text": [
      "This SuperSeries is composed of the SubSeries listed below.\n",
      "SubSeries\n",
      "SuperSeries\n",
      "composed\n",
      "listed\n"
     ]
    }
   ],
   "source": [
    "print(message2)\n",
    "print(bow_transformer.get_feature_names()[478])\n",
    "print(bow_transformer.get_feature_names()[479])\n",
    "print(bow_transformer.get_feature_names()[834])\n",
    "print(bow_transformer.get_feature_names()[1446])"
   ]
  },
  {
   "cell_type": "code",
   "execution_count": 11,
   "metadata": {},
   "outputs": [],
   "source": [
    "messages_bow = bow_transformer.transform(messages['summary'])"
   ]
  },
  {
   "cell_type": "code",
   "execution_count": 12,
   "metadata": {},
   "outputs": [
    {
     "name": "stdout",
     "output_type": "stream",
     "text": [
      "Shape of Sparse Matrix:  (100, 2402)\n",
      "Amount of Non-Zero occurences:  4980\n",
      "Sparsity: 2.073%\n"
     ]
    }
   ],
   "source": [
    "sparsity = (100.0 * messages_bow.nnz / (messages_bow.shape[0] * messages_bow.shape[1]))\n",
    "print('Shape of Sparse Matrix: ', messages_bow.shape)\n",
    "print('Amount of Non-Zero occurences: ', messages_bow.nnz)\n",
    "print('Sparsity: {:5.3f}%'.format(sparsity))"
   ]
  },
  {
   "cell_type": "markdown",
   "metadata": {},
   "source": [
    "# TD-IDF"
   ]
  },
  {
   "cell_type": "code",
   "execution_count": 13,
   "metadata": {},
   "outputs": [
    {
     "name": "stdout",
     "output_type": "stream",
     "text": [
      "  (0, 1446)\t0.5\n",
      "  (0, 834)\t0.5\n",
      "  (0, 479)\t0.5\n",
      "  (0, 478)\t0.5\n"
     ]
    }
   ],
   "source": [
    "tfidf_transformer = TfidfTransformer().fit(messages_bow)\n",
    "tfidf2 = tfidf_transformer.transform(bow2)\n",
    "print(tfidf2)"
   ]
  },
  {
   "cell_type": "code",
   "execution_count": 14,
   "metadata": {},
   "outputs": [
    {
     "name": "stdout",
     "output_type": "stream",
     "text": [
      "2.2829160066660554\n",
      "3.41789593950504\n",
      "2.1811333123561134\n"
     ]
    }
   ],
   "source": [
    "print(tfidf_transformer.idf_[bow_transformer.vocabulary_['cancer']])\n",
    "print(tfidf_transformer.idf_[bow_transformer.vocabulary_['breast']])\n",
    "print(tfidf_transformer.idf_[bow_transformer.vocabulary_['study']])"
   ]
  },
  {
   "cell_type": "code",
   "execution_count": 15,
   "metadata": {},
   "outputs": [
    {
     "name": "stdout",
     "output_type": "stream",
     "text": [
      "(100, 2402)\n",
      "  (0, 1765)\t0.21153837184873148\n",
      "  (0, 1454)\t0.3028393912162638\n",
      "  (0, 963)\t0.26237810100786624\n",
      "  (0, 758)\t0.15874815089931932\n",
      "  (0, 687)\t0.3172806507723162\n",
      "  (0, 393)\t0.3898578737868942\n",
      "  (0, 258)\t0.3349553240224442\n",
      "  (0, 257)\t0.3898578737868942\n",
      "  (0, 162)\t0.3172806507723162\n",
      "  (0, 28)\t0.3898578737868942\n"
     ]
    }
   ],
   "source": [
    "messages_tfidf = tfidf_transformer.transform(messages_bow)\n",
    "print(messages_tfidf.shape)\n",
    "print(messages_tfidf[0])"
   ]
  },
  {
   "cell_type": "markdown",
   "metadata": {},
   "source": [
    "# Training the model (K-means Clustering)"
   ]
  },
  {
   "cell_type": "code",
   "execution_count": 25,
   "metadata": {},
   "outputs": [
    {
     "name": "stdout",
     "output_type": "stream",
     "text": [
      "(100, 2402)\n",
      "(2402, 100)\n"
     ]
    }
   ],
   "source": [
    "X = messages_tfidf\n",
    "print(X.shape)\n",
    "print(X.transpose().shape)"
   ]
  },
  {
   "cell_type": "code",
   "execution_count": 26,
   "metadata": {},
   "outputs": [
    {
     "data": {
      "image/png": "[encoded data removed]",
      "text/plain": [
       "<Figure size 432x288 with 1 Axes>"
      ]
     },
     "metadata": {
      "needs_background": "light"
     },
     "output_type": "display_data"
    }
   ],
   "source": [
    "wcss = []\n",
    "max_elbow = 25\n",
    "for i in range(1, max_elbow):\n",
    "    kmeans = KMeans(n_clusters = i, init = 'k-means++', random_state = 42)\n",
    "    kmeans.fit(X)\n",
    "    wcss.append(kmeans.inertia_)\n",
    "plt.plot(range(1, max_elbow), wcss)\n",
    "plt.title('The Elbow Method')\n",
    "plt.xlabel('Number of clusters')\n",
    "plt.ylabel('WCSS')\n",
    "plt.show()"
   ]
  },
  {
   "cell_type": "code",
   "execution_count": 27,
   "metadata": {},
   "outputs": [],
   "source": [
    "# Fitting K-Means to the dataset\n",
    "kmeans = KMeans(n_clusters = 5, init = 'k-means++', random_state = 42)\n",
    "y_kmeans = kmeans.fit_predict(X)"
   ]
  },
  {
   "cell_type": "code",
   "execution_count": 28,
   "metadata": {},
   "outputs": [],
   "source": [
    "from scipy.sparse import csr_matrix\n",
    "X=X.toarray()"
   ]
  },
  {
   "cell_type": "code",
   "execution_count": 32,
   "metadata": {},
   "outputs": [
    {
     "data": {
      "image/png": "[encoded data removed]",
      "text/plain": [
       "<Figure size 432x288 with 1 Axes>"
      ]
     },
     "metadata": {
      "needs_background": "light"
     },
     "output_type": "display_data"
    }
   ],
   "source": [
    "# Visualising the clusters\n",
    "plt.scatter(X[y_kmeans == 0, 0], X[y_kmeans == 0, 1], s = 100, c = 'red', label = 'Cluster 1')\n",
    "plt.scatter(X[y_kmeans == 1, 0], X[y_kmeans == 1, 1], s = 100, c = 'blue', label = 'Cluster 2')\n",
    "plt.scatter(X[y_kmeans == 2, 0], X[y_kmeans == 2, 1], s = 100, c = 'green', label = 'Cluster 3')\n",
    "plt.scatter(X[y_kmeans == 3, 0], X[y_kmeans == 3, 1], s = 100, c = 'cyan', label = 'Cluster 4')\n",
    "plt.scatter(X[y_kmeans == 4, 0], X[y_kmeans == 4, 1], s = 100, c = 'magenta', label = 'Cluster 5')\n",
    "#plt.scatter(kmeans.cluster_centers_[:, 0], kmeans.cluster_centers_[:, 1], s = 50, c = 'yellow', label = 'Centroids')\n",
    "plt.title('Clusters of customers')\n",
    "plt.xlabel('Annual Income (k$)')\n",
    "plt.ylabel('Spending Score (1-100)')\n",
    "plt.legend()\n",
    "plt.show()"
   ]
  },
  {
   "cell_type": "markdown",
   "metadata": {},
   "source": [
    "# Training the model (Hierarchical Clustering)"
   ]
  },
  {
   "cell_type": "code",
   "execution_count": 43,
   "metadata": {},
   "outputs": [
    {
     "name": "stdout",
     "output_type": "stream",
     "text": [
      "(100, 2402)\n",
      "(2402, 100)\n"
     ]
    }
   ],
   "source": [
    "X = messages_tfidf.toarray()\n",
    "print(X.shape)\n",
    "print(X.transpose().shape)"
   ]
  },
  {
   "cell_type": "code",
   "execution_count": 44,
   "metadata": {},
   "outputs": [
    {
     "data": {
      "image/png": "[encoded data removed]",
      "text/plain": [
       "<Figure size 432x288 with 1 Axes>"
      ]
     },
     "metadata": {
      "needs_background": "light"
     },
     "output_type": "display_data"
    }
   ],
   "source": [
    "dendrogram = sch.dendrogram(sch.linkage(X, method = 'ward'))\n",
    "plt.title('Dendrogram')\n",
    "plt.xlabel('Customers')\n",
    "plt.ylabel('Euclidean distances')\n",
    "plt.show()"
   ]
  },
  {
   "cell_type": "code",
   "execution_count": 46,
   "metadata": {},
   "outputs": [],
   "source": [
    "hc = AgglomerativeClustering(n_clusters = 4, affinity = 'euclidean', linkage = 'ward')\n",
    "y_hc = hc.fit_predict(X)"
   ]
  },
  {
   "cell_type": "code",
   "execution_count": 47,
   "metadata": {},
   "outputs": [
    {
     "data": {
      "image/png": "[encoded data removed]",
      "text/plain": [
       "<Figure size 432x288 with 1 Axes>"
      ]
     },
     "metadata": {
      "needs_background": "light"
     },
     "output_type": "display_data"
    }
   ],
   "source": [
    "# Visualising the clusters\n",
    "plt.scatter(X[y_hc == 0, 0], X[y_hc == 0, 1], s = 100, c = 'red', label = 'Cluster 1')\n",
    "plt.scatter(X[y_hc == 1, 0], X[y_hc == 1, 1], s = 100, c = 'blue', label = 'Cluster 2')\n",
    "plt.scatter(X[y_hc == 2, 0], X[y_hc == 2, 1], s = 100, c = 'green', label = 'Cluster 3')\n",
    "plt.scatter(X[y_hc == 3, 0], X[y_hc == 3, 1], s = 100, c = 'cyan', label = 'Cluster 4')\n",
    "plt.scatter(X[y_hc == 4, 0], X[y_hc == 4, 1], s = 100, c = 'magenta', label = 'Cluster 5')\n",
    "plt.title('Clusters of customers')\n",
    "plt.xlabel('Annual Income (k$)')\n",
    "plt.ylabel('Spending Score (1-100)')\n",
    "plt.legend()\n",
    "plt.show()"
   ]
  },
  {
   "cell_type": "code",
   "execution_count": null,
   "metadata": {},
   "outputs": [],
   "source": []
  }
 ],
 "metadata": {
  "kernelspec": {
   "display_name": "Python 3",
   "language": "python",
   "name": "python3"
  },
  "language_info": {
   "codemirror_mode": {
    "name": "ipython",
    "version": 3
   },
   "file_extension": ".py",
   "mimetype": "text/x-python",
   "name": "python",
   "nbconvert_exporter": "python",
   "pygments_lexer": "ipython3",
   "version": "3.7.2"
  }
 },
 "nbformat": 4,
 "nbformat_minor": 2
}
