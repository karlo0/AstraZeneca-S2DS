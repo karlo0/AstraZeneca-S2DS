{
 "cells": [
  {
   "cell_type": "markdown",
   "metadata": {
    "deletable": true,
    "editable": true
   },
   "source": [
    "# Import the usual suspects"
   ]
  },
  {
   "cell_type": "code",
   "execution_count": 2,
   "metadata": {
    "collapsed": false,
    "deletable": true,
    "editable": true
   },
   "outputs": [],
   "source": [
    "# Import pandas\n",
    "import pandas as pd\n",
    "\n",
    "# Import matplotlib\n",
    "import matplotlib.pyplot as plt\n",
    "\n",
    "# Import Network X\n",
    "import networkx as nx"
   ]
  },
  {
   "cell_type": "markdown",
   "metadata": {
    "deletable": true,
    "editable": true
   },
   "source": [
    "# Run script to construct Disease/Drug graphs "
   ]
  },
  {
   "cell_type": "code",
   "execution_count": 3,
   "metadata": {
    "collapsed": true,
    "deletable": true,
    "editable": true
   },
   "outputs": [],
   "source": [
    "# Run\n",
    "%run ./41_0_L_Create_DD_Graph.py"
   ]
  },
  {
   "cell_type": "markdown",
   "metadata": {
    "deletable": true,
    "editable": true
   },
   "source": [
    "# Run statistics on graphs"
   ]
  },
  {
   "cell_type": "code",
   "execution_count": 4,
   "metadata": {
    "collapsed": true,
    "deletable": true,
    "editable": true
   },
   "outputs": [],
   "source": [
    "# Read Disease\n",
    "disease_g = nx.read_gpickle(DISEASE_GRAPH)\n",
    "\n",
    "# Read Drug\n",
    "drug_g = nx.read_gpickle(DRUGS_GRAPH)"
   ]
  },
  {
   "cell_type": "code",
   "execution_count": 5,
   "metadata": {
    "collapsed": true,
    "deletable": true,
    "editable": true
   },
   "outputs": [],
   "source": [
    "# Disease eigenvector centrality\n",
    "disease_eig = nx.eigenvector_centrality(disease_g, max_iter=500, weight='weight')\n",
    "\n",
    "# Drug eigenvector centrality\n",
    "drug_eig = nx.eigenvector_centrality(drug_g, max_iter=500, weight='weight')"
   ]
  },
  {
   "cell_type": "code",
   "execution_count": 6,
   "metadata": {
    "collapsed": true,
    "deletable": true,
    "editable": true
   },
   "outputs": [],
   "source": [
    "# Disease PageRank \n",
    "disease_pgn = nx.pagerank(disease_g, alpha=0.9, weight='weight')\n",
    "\n",
    "# Drug PageRank \n",
    "drug_pgn = nx.pagerank(drug_g, alpha=0.9, weight='weight')"
   ]
  },
  {
   "cell_type": "code",
   "execution_count": 7,
   "metadata": {
    "collapsed": true,
    "deletable": true,
    "editable": true
   },
   "outputs": [],
   "source": [
    "# Disease Degree \n",
    "disease_deg = nx.degree_centrality(disease_g)\n",
    "\n",
    "# Drug Degree \n",
    "drug_deg = nx.degree_centrality(drug_g)"
   ]
  },
  {
   "cell_type": "markdown",
   "metadata": {
    "deletable": true,
    "editable": true
   },
   "source": [
    "# Get Top Diseases/Drugs for time-series analysis"
   ]
  },
  {
   "cell_type": "code",
   "execution_count": 8,
   "metadata": {
    "collapsed": true,
    "deletable": true,
    "editable": true
   },
   "outputs": [],
   "source": [
    "# Get n-top nodes according to a specific metric\n",
    "def get_top(dictionary, top):\n",
    "    items = list(dictionary.items())\n",
    "    items.sort(reverse=True, key=lambda x: x[1])\n",
    "    return list(map(lambda x:x[0], items[:top]))"
   ]
  },
  {
   "cell_type": "code",
   "execution_count": 9,
   "metadata": {
    "collapsed": false,
    "deletable": true,
    "editable": true
   },
   "outputs": [
    {
     "data": {
      "text/html": [
       "<div>\n",
       "<style scoped>\n",
       "    .dataframe tbody tr th:only-of-type {\n",
       "        vertical-align: middle;\n",
       "    }\n",
       "\n",
       "    .dataframe tbody tr th {\n",
       "        vertical-align: top;\n",
       "    }\n",
       "\n",
       "    .dataframe thead tr th {\n",
       "        text-align: left;\n",
       "    }\n",
       "</style>\n",
       "<table border=\"1\" class=\"dataframe\">\n",
       "  <thead>\n",
       "    <tr>\n",
       "      <th></th>\n",
       "      <th colspan=\"3\" halign=\"left\">Diseases</th>\n",
       "      <th colspan=\"3\" halign=\"left\">Drugs</th>\n",
       "    </tr>\n",
       "    <tr>\n",
       "      <th></th>\n",
       "      <th>EigenCentrality</th>\n",
       "      <th>PageRank</th>\n",
       "      <th>Degree</th>\n",
       "      <th>EigenCentrality</th>\n",
       "      <th>PageRank</th>\n",
       "      <th>Degree</th>\n",
       "    </tr>\n",
       "  </thead>\n",
       "  <tbody>\n",
       "    <tr>\n",
       "      <th>0</th>\n",
       "      <td>D009369</td>\n",
       "      <td>D009369</td>\n",
       "      <td>D009369</td>\n",
       "      <td>D014157</td>\n",
       "      <td>D012333</td>\n",
       "      <td>D012333</td>\n",
       "    </tr>\n",
       "    <tr>\n",
       "      <th>1</th>\n",
       "      <td>D001943</td>\n",
       "      <td>D001943</td>\n",
       "      <td>D007249</td>\n",
       "      <td>D012333</td>\n",
       "      <td>D014157</td>\n",
       "      <td>D035683</td>\n",
       "    </tr>\n",
       "    <tr>\n",
       "      <th>2</th>\n",
       "      <td>D001932</td>\n",
       "      <td>D020022</td>\n",
       "      <td>D020022</td>\n",
       "      <td>D014408</td>\n",
       "      <td>D014408</td>\n",
       "      <td>D014157</td>\n",
       "    </tr>\n",
       "    <tr>\n",
       "      <th>3</th>\n",
       "      <td>D000230</td>\n",
       "      <td>D018450</td>\n",
       "      <td>D004195</td>\n",
       "      <td>D004268</td>\n",
       "      <td>D035683</td>\n",
       "      <td>D034741</td>\n",
       "    </tr>\n",
       "    <tr>\n",
       "      <th>4</th>\n",
       "      <td>D009362</td>\n",
       "      <td>D000230</td>\n",
       "      <td>D018450</td>\n",
       "      <td>D035683</td>\n",
       "      <td>D000970</td>\n",
       "      <td>D000970</td>\n",
       "    </tr>\n",
       "  </tbody>\n",
       "</table>\n",
       "</div>"
      ],
      "text/plain": [
       "         Diseases                             Drugs                  \n",
       "  EigenCentrality PageRank   Degree EigenCentrality PageRank   Degree\n",
       "0         D009369  D009369  D009369         D014157  D012333  D012333\n",
       "1         D001943  D001943  D007249         D012333  D014157  D035683\n",
       "2         D001932  D020022  D020022         D014408  D014408  D014157\n",
       "3         D000230  D018450  D004195         D004268  D035683  D034741\n",
       "4         D009362  D000230  D018450         D035683  D000970  D000970"
      ]
     },
     "execution_count": 9,
     "metadata": {},
     "output_type": "execute_result"
    }
   ],
   "source": [
    "# Choose n-top\n",
    "n_top = 20\n",
    "\n",
    "# Creatre multi-index\n",
    "outside = [*['Diseases']*3,*['Drugs']*3]\n",
    "inside = ['EigenCentrality','PageRank','Degree']*2\n",
    "hier_index = list(zip(outside,inside))\n",
    "hier_index = pd.MultiIndex.from_tuples(hier_index)\n",
    "\n",
    "# Create DataFrame with n-top diseases/drugs according to all the metrics\n",
    "all_time_top = pd.DataFrame(data=[get_top(disease_eig, n_top),\n",
    "                                  get_top(disease_pgn, n_top),\n",
    "                                  get_top(disease_deg, n_top),\n",
    "                                  get_top(drug_eig, n_top), \n",
    "                                  get_top(drug_pgn, n_top),\n",
    "                                  get_top(drug_deg, n_top)], index=hier_index).transpose()\n",
    "\n",
    "# Save as pickle file for Claire's time series analysis\n",
    "all_time_top.to_pickle('All_Time_Top.pkl')\n",
    "\n",
    "#Echo\n",
    "all_time_top.head()"
   ]
  },
  {
   "cell_type": "markdown",
   "metadata": {
    "deletable": true,
    "editable": true
   },
   "source": [
    "# Get zoomed-in version for specific disease"
   ]
  },
  {
   "cell_type": "code",
   "execution_count": 10,
   "metadata": {
    "collapsed": false,
    "deletable": true,
    "editable": true
   },
   "outputs": [],
   "source": [
    "# Defined specific disease using MeSH-ID\n",
    "specific_disease = 'D018455'\n",
    "\n",
    "# Get all neighbors\n",
    "neighs = list(disease_g.neighbors(specific_disease))\n",
    "\n",
    "# Include n-most important nodes in the zoomed version (To give context)\n",
    "n_most = 5\n",
    "important_neighs = list(set(all_time_top['Diseases','EigenCentrality'].iloc[:n_most]) & \n",
    "                        set(all_time_top['Diseases','PageRank'].iloc[:n_most]) & \n",
    "                        set(all_time_top['Diseases','Degree'].iloc[:n_most]))\n",
    "\n",
    "# Gather all relevant nodes\n",
    "all_subnodes = list()\n",
    "all_subnodes.append(specific_disease)\n",
    "all_subnodes.extend(neighs)\n",
    "all_subnodes.extend(important_neighs)\n",
    "\n",
    "# Extract subgraph\n",
    "disease_subg = nx.subgraph(disease_g, all_subnodes)\n",
    "\n",
    "# Extract labels\n",
    "\n",
    "# Draw\n",
    "nx.draw(disease_subg)"
   ]
  }
 ],
 "metadata": {
  "kernelspec": {
   "display_name": "Python 3",
   "language": "python",
   "name": "python3"
  },
  "language_info": {
   "codemirror_mode": {
    "name": "ipython",
    "version": 3
   },
   "file_extension": ".py",
   "mimetype": "text/x-python",
   "name": "python",
   "nbconvert_exporter": "python",
   "pygments_lexer": "ipython3",
   "version": "3.5.2"
  }
 },
 "nbformat": 4,
 "nbformat_minor": 2
}
