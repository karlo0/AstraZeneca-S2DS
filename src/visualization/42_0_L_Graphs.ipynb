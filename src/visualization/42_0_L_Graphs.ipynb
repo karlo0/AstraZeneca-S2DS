{
 "cells": [
  {
   "cell_type": "markdown",
   "metadata": {},
   "source": [
    "# Import the usual suspects"
   ]
  },
  {
   "cell_type": "code",
   "execution_count": 17,
   "metadata": {},
   "outputs": [],
   "source": [
    "# Import pandas\n",
    "import pandas as pd\n",
    "\n",
    "# Import matplotlib\n",
    "import matplotlib.pyplot as plt\n",
    "\n",
    "# Import Network X\n",
    "import networkx as nx"
   ]
  },
  {
   "cell_type": "markdown",
   "metadata": {},
   "source": [
    "# Run script to construct Disease/Drug graphs "
   ]
  },
  {
   "cell_type": "code",
   "execution_count": 18,
   "metadata": {},
   "outputs": [],
   "source": [
    "# Run\n",
    "%run ./41_0_L_Create_DD_Graph.py"
   ]
  },
  {
   "cell_type": "markdown",
   "metadata": {},
   "source": [
    "# Read Both Graphs"
   ]
  },
  {
   "cell_type": "code",
   "execution_count": 19,
   "metadata": {},
   "outputs": [],
   "source": [
    "# Read Disease\n",
    "disease_g = nx.read_gpickle(DISEASE_GRAPH)\n",
    "\n",
    "# Read Drug\n",
    "drug_g = nx.read_gpickle(DRUGS_GRAPH)"
   ]
  },
  {
   "cell_type": "markdown",
   "metadata": {},
   "source": [
    "# Run different metrics on the Graph"
   ]
  },
  {
   "cell_type": "code",
   "execution_count": 20,
   "metadata": {},
   "outputs": [],
   "source": [
    "# Disease eigenvector centrality\n",
    "disease_eig = nx.eigenvector_centrality(disease_g, max_iter=500, weight='weight')\n",
    "\n",
    "# Drug eigenvector centrality\n",
    "drug_eig = nx.eigenvector_centrality(drug_g, max_iter=500, weight='weight')"
   ]
  },
  {
   "cell_type": "code",
   "execution_count": 21,
   "metadata": {},
   "outputs": [],
   "source": [
    "# Disease PageRank \n",
    "disease_pgn = nx.pagerank(disease_g, alpha=0.9, weight='weight')\n",
    "\n",
    "# Drug PageRank \n",
    "drug_pgn = nx.pagerank(drug_g, alpha=0.9, weight='weight')"
   ]
  },
  {
   "cell_type": "code",
   "execution_count": 22,
   "metadata": {},
   "outputs": [],
   "source": [
    "# Disease Degree \n",
    "disease_deg = nx.degree_centrality(disease_g)\n",
    "\n",
    "# Drug Degree \n",
    "drug_deg = nx.degree_centrality(drug_g)"
   ]
  },
  {
   "cell_type": "markdown",
   "metadata": {},
   "source": [
    "# Get Top Diseases/Drugs for time-series analysis"
   ]
  },
  {
   "cell_type": "code",
   "execution_count": 60,
   "metadata": {},
   "outputs": [],
   "source": [
    "# Get n-top nodes according to a specific metric\n",
    "def get_top(dictionary, top):\n",
    "    items = list(dictionary.items())\n",
    "    items.sort(reverse=True, key=lambda x: x[1])\n",
    "    return list(map(lambda x:x[0], items[:top]))"
   ]
  },
  {
   "cell_type": "code",
   "execution_count": 62,
   "metadata": {},
   "outputs": [
    {
     "data": {
      "text/html": [
       "<div>\n",
       "<style scoped>\n",
       "    .dataframe tbody tr th:only-of-type {\n",
       "        vertical-align: middle;\n",
       "    }\n",
       "\n",
       "    .dataframe tbody tr th {\n",
       "        vertical-align: top;\n",
       "    }\n",
       "\n",
       "    .dataframe thead tr th {\n",
       "        text-align: left;\n",
       "    }\n",
       "</style>\n",
       "<table border=\"1\" class=\"dataframe\">\n",
       "  <thead>\n",
       "    <tr>\n",
       "      <th></th>\n",
       "      <th colspan=\"3\" halign=\"left\">Diseases</th>\n",
       "      <th colspan=\"3\" halign=\"left\">Drugs</th>\n",
       "    </tr>\n",
       "    <tr>\n",
       "      <th></th>\n",
       "      <th>EigenCentrality</th>\n",
       "      <th>PageRank</th>\n",
       "      <th>Degree</th>\n",
       "      <th>EigenCentrality</th>\n",
       "      <th>PageRank</th>\n",
       "      <th>Degree</th>\n",
       "    </tr>\n",
       "  </thead>\n",
       "  <tbody>\n",
       "    <tr>\n",
       "      <th>0</th>\n",
       "      <td>D009369</td>\n",
       "      <td>D009369</td>\n",
       "      <td>D009369</td>\n",
       "      <td>D014157</td>\n",
       "      <td>D012333</td>\n",
       "      <td>D012333</td>\n",
       "    </tr>\n",
       "    <tr>\n",
       "      <th>1</th>\n",
       "      <td>D001943</td>\n",
       "      <td>D001943</td>\n",
       "      <td>D007249</td>\n",
       "      <td>D012333</td>\n",
       "      <td>D014157</td>\n",
       "      <td>D035683</td>\n",
       "    </tr>\n",
       "    <tr>\n",
       "      <th>2</th>\n",
       "      <td>D001932</td>\n",
       "      <td>D020022</td>\n",
       "      <td>D020022</td>\n",
       "      <td>D014408</td>\n",
       "      <td>D014408</td>\n",
       "      <td>D014157</td>\n",
       "    </tr>\n",
       "    <tr>\n",
       "      <th>3</th>\n",
       "      <td>D000230</td>\n",
       "      <td>D018450</td>\n",
       "      <td>D004195</td>\n",
       "      <td>D004268</td>\n",
       "      <td>D035683</td>\n",
       "      <td>D034741</td>\n",
       "    </tr>\n",
       "    <tr>\n",
       "      <th>4</th>\n",
       "      <td>D009362</td>\n",
       "      <td>D000230</td>\n",
       "      <td>D018450</td>\n",
       "      <td>D035683</td>\n",
       "      <td>D000970</td>\n",
       "      <td>D000970</td>\n",
       "    </tr>\n",
       "  </tbody>\n",
       "</table>\n",
       "</div>"
      ],
      "text/plain": [
       "         Diseases                             Drugs                  \n",
       "  EigenCentrality PageRank   Degree EigenCentrality PageRank   Degree\n",
       "0         D009369  D009369  D009369         D014157  D012333  D012333\n",
       "1         D001943  D001943  D007249         D012333  D014157  D035683\n",
       "2         D001932  D020022  D020022         D014408  D014408  D014157\n",
       "3         D000230  D018450  D004195         D004268  D035683  D034741\n",
       "4         D009362  D000230  D018450         D035683  D000970  D000970"
      ]
     },
     "execution_count": 62,
     "metadata": {},
     "output_type": "execute_result"
    }
   ],
   "source": [
    "# Choose n-top\n",
    "n_top = 20\n",
    "\n",
    "# Creatre multi-index\n",
    "outside = [*['Diseases']*3,*['Drugs']*3]\n",
    "inside = ['EigenCentrality','PageRank','Degree']*2\n",
    "hier_index = list(zip(outside,inside))\n",
    "hier_index = pd.MultiIndex.from_tuples(hier_index)\n",
    "\n",
    "# Create DataFrame with n-top diseases/drugs according to all the metrics\n",
    "all_time_top = pd.DataFrame(data=[get_top(disease_eig, n_top),\n",
    "                                  get_top(disease_pgn, n_top),\n",
    "                                  get_top(disease_deg, n_top),\n",
    "                                  get_top(drug_eig, n_top), \n",
    "                                  get_top(drug_pgn, n_top),\n",
    "                                  get_top(drug_deg, n_top)], index=hier_index).transpose()\n",
    "\n",
    "# Save as pickle file for Claire's time series analysis\n",
    "all_time_top.to_pickle('All_Time_Top.pkl')\n",
    "\n",
    "#Echo\n",
    "all_time_top.head()"
   ]
  },
  {
   "cell_type": "markdown",
   "metadata": {},
   "source": [
    "# Get zoomed-in version for specific disease"
   ]
  },
  {
   "cell_type": "code",
   "execution_count": 96,
   "metadata": {},
   "outputs": [],
   "source": [
    "# Defined specific disease using MeSH-ID\n",
    "specific_disease = 'D021081'\n",
    "\n",
    "# Get all neighbors\n",
    "neighs = list(disease_g.neighbors(specific_disease))\n",
    "\n",
    "# Include n-most important nodes in the zoomed version (To give context)\n",
    "important_neighs = list(set(all_time_top['Diseases','EigenCentrality']) & \n",
    "                        set(all_time_top['Diseases','PageRank']) & \n",
    "                        set(all_time_top['Diseases','Degree']))\n",
    "\n",
    "# Gather all relevant nodes\n",
    "all_subnodes = list()\n",
    "all_subnodes.append(specific_disease)\n",
    "all_subnodes.extend(neighs)\n",
    "all_subnodes.extend(important_neighs)\n",
    "\n",
    "# Extract subgraph\n"
   ]
  },
  {
   "cell_type": "code",
   "execution_count": 93,
   "metadata": {},
   "outputs": [
    {
     "data": {
      "text/plain": [
       "['D055752',\n",
       " 'D012128',\n",
       " 'D007249',\n",
       " 'D020964',\n",
       " 'D000026',\n",
       " 'D003922',\n",
       " 'D015861',\n",
       " 'D005910',\n",
       " 'D004715',\n",
       " 'D013736',\n",
       " 'D009203',\n",
       " 'D018450',\n",
       " 'D009765',\n",
       " 'D014095',\n",
       " 'D009303',\n",
       " 'D009369',\n",
       " 'D018201',\n",
       " 'D000230',\n",
       " 'D009422',\n",
       " 'D000077274',\n",
       " 'D018227',\n",
       " 'D009437',\n",
       " 'D001167',\n",
       " 'D005317',\n",
       " 'D000690',\n",
       " 'D001768',\n",
       " 'D010661',\n",
       " 'D009208',\n",
       " 'D002277',\n",
       " 'D006816',\n",
       " 'D051436',\n",
       " 'D016532',\n",
       " 'D004700',\n",
       " 'D001932',\n",
       " 'D058747',\n",
       " 'D009361',\n",
       " 'D007251',\n",
       " 'D009767',\n",
       " 'D029461',\n",
       " 'D015658',\n",
       " 'D003324',\n",
       " 'D019636',\n",
       " 'D004194',\n",
       " 'D006976',\n",
       " 'C538052',\n",
       " 'D010488',\n",
       " 'D000544',\n",
       " 'D007674',\n",
       " 'D008207',\n",
       " 'D008175',\n",
       " 'D063646',\n",
       " 'C537101',\n",
       " 'D000015',\n",
       " 'D020022',\n",
       " 'D014402',\n",
       " 'D014388',\n",
       " 'D000303',\n",
       " 'C535318',\n",
       " 'D014652',\n",
       " 'D002318',\n",
       " 'D004198',\n",
       " 'D019337',\n",
       " 'D001260',\n",
       " 'D010997',\n",
       " 'D014947',\n",
       " 'D010003',\n",
       " 'D006943',\n",
       " 'D007333',\n",
       " 'D012516',\n",
       " 'C537705',\n",
       " 'D011085',\n",
       " 'D011254',\n",
       " 'D000860',\n",
       " 'D006402',\n",
       " 'C537799',\n",
       " 'C535673',\n",
       " 'D018335',\n",
       " 'D013919',\n",
       " 'D002908',\n",
       " 'D014077',\n",
       " 'D008607',\n",
       " 'D051437',\n",
       " 'D014511',\n",
       " 'C536315',\n",
       " 'D003677',\n",
       " 'D006192',\n",
       " 'D003924',\n",
       " 'D002602',\n",
       " 'D020181',\n",
       " 'D001943',\n",
       " 'D055501',\n",
       " 'D001281',\n",
       " 'D015470',\n",
       " 'D018288',\n",
       " 'D005585',\n",
       " 'D003920',\n",
       " 'D009358',\n",
       " 'D009101',\n",
       " 'D001249',\n",
       " 'D014591',\n",
       " 'D009080',\n",
       " 'C537680',\n",
       " 'D041781',\n",
       " 'D011024',\n",
       " 'D003704',\n",
       " 'D006555',\n",
       " 'D001528',\n",
       " 'D001172',\n",
       " 'C537436',\n",
       " 'D008059',\n",
       " 'D015837',\n",
       " 'D018746',\n",
       " 'D007680',\n",
       " 'D009220',\n",
       " 'D016472',\n",
       " 'D000077192',\n",
       " 'D011111',\n",
       " 'D008654',\n",
       " 'D000230',\n",
       " 'D004195',\n",
       " 'D002277',\n",
       " 'D002294',\n",
       " 'D018450',\n",
       " 'D008175',\n",
       " 'D002869',\n",
       " 'D001943',\n",
       " 'D001932',\n",
       " 'D009369',\n",
       " 'D009362',\n",
       " 'D002471',\n",
       " 'D020022']"
      ]
     },
     "execution_count": 93,
     "metadata": {},
     "output_type": "execute_result"
    }
   ],
   "source": [
    "all_subnodes"
   ]
  },
  {
   "cell_type": "code",
   "execution_count": null,
   "metadata": {},
   "outputs": [],
   "source": []
  },
  {
   "cell_type": "code",
   "execution_count": null,
   "metadata": {},
   "outputs": [],
   "source": []
  },
  {
   "cell_type": "code",
   "execution_count": null,
   "metadata": {},
   "outputs": [],
   "source": []
  },
  {
   "cell_type": "code",
   "execution_count": null,
   "metadata": {},
   "outputs": [],
   "source": []
  }
 ],
 "metadata": {
  "kernelspec": {
   "display_name": "Python 3",
   "language": "python",
   "name": "python3"
  },
  "language_info": {
   "codemirror_mode": {
    "name": "ipython",
    "version": 3
   },
   "file_extension": ".py",
   "mimetype": "text/x-python",
   "name": "python",
   "nbconvert_exporter": "python",
   "pygments_lexer": "ipython3",
   "version": "3.7.1"
  }
 },
 "nbformat": 4,
 "nbformat_minor": 2
}
