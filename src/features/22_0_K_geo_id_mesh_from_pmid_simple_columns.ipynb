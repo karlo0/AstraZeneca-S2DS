{
 "cells": [
  {
   "cell_type": "code",
   "execution_count": 1,
   "metadata": {
    "collapsed": true
   },
   "outputs": [],
   "source": [
    "import numpy as np\n",
    "import pandas as pd\n",
    "import pickle\n",
    "\n",
    "def import_df_geo_pmid_mesh():\n",
    "    # comment out one of the two follwing\n",
    "    fname = \"geo_id_mesh_from_pmid.pkl\"\n",
    "    print(\"start load geo-pmid-mesh database\")\n",
    "    l_data_dir = \"../../data/interim/\"\n",
    "    df = pickle.load( open(l_data_dir+fname, 'rb') )\n",
    "    print(\"done\")\n",
    "    return df\n",
    "\n",
    "def import_geo_df():\n",
    "    # comment out one of the two follwing\n",
    "    # fname = \"samples.pkl\"\n",
    "    fname = \"records.pkl\"\n",
    "    print(\"start load geo database\")\n",
    "    l_data_dir = \"../../data/local_data/data_records_and_sample/\"\n",
    "    df = pickle.load( open(l_data_dir+fname, 'rb') )\n",
    "    print(\"done\")\n",
    "    return df"
   ]
  },
  {
   "cell_type": "code",
   "execution_count": 2,
   "metadata": {
    "collapsed": false
   },
   "outputs": [
    {
     "name": "stdout",
     "output_type": "stream",
     "text": [
      "start load geo database\n",
      "done\n",
      "start load geo-pmid-mesh database\n",
      "done\n"
     ]
    }
   ],
   "source": [
    "geo_df = import_geo_df()\n",
    "df_geo_pmid_mesh = import_df_geo_pmid_mesh()"
   ]
  },
  {
   "cell_type": "code",
   "execution_count": 3,
   "metadata": {
    "collapsed": true
   },
   "outputs": [],
   "source": [
    "list_dates = []\n",
    "for index, entry in df_geo_pmid_mesh.iterrows():\n",
    "    geo_id = entry['Id']\n",
    "    list_dates.append(geo_df[geo_df['Id'] == geo_id]['PDAT'].values[0])\n",
    "\n",
    "df_geo_pmid_mesh['date'] = pd.Series(data=np.array(list_dates), index = df_geo_pmid_mesh.index)"
   ]
  },
  {
   "cell_type": "code",
   "execution_count": 4,
   "metadata": {
    "collapsed": false
   },
   "outputs": [
    {
     "name": "stdout",
     "output_type": "stream",
     "text": [
      "200025840\n"
     ]
    }
   ],
   "source": [
    "print(geo_id)"
   ]
  },
  {
   "cell_type": "code",
   "execution_count": 11,
   "metadata": {
    "collapsed": false
   },
   "outputs": [
    {
     "name": "stdout",
     "output_type": "stream",
     "text": [
      "['D000328', 'D016000', 'D018450', 'D005260', 'D020869', 'D006801', 'D008297', 'D008545', 'D008875', 'D009361', 'D011379', 'D012333', 'D012878', 'D014407', 'D014604']\n"
     ]
    }
   ],
   "source": [
    "print(df_geo_pmid_mesh.iloc[0]['mesh_uis'])"
   ]
  },
  {
   "cell_type": "code",
   "execution_count": null,
   "metadata": {
    "collapsed": true
   },
   "outputs": [],
   "source": []
  }
 ],
 "metadata": {
  "kernelspec": {
   "display_name": "Python 3",
   "language": "python",
   "name": "python3"
  },
  "language_info": {
   "codemirror_mode": {
    "name": "ipython",
    "version": 3
   },
   "file_extension": ".py",
   "mimetype": "text/x-python",
   "name": "python",
   "nbconvert_exporter": "python",
   "pygments_lexer": "ipython3",
   "version": "3.5.2"
  }
 },
 "nbformat": 4,
 "nbformat_minor": 2
}
