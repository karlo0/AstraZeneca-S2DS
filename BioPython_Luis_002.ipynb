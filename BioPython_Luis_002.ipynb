{
 "cells": [
  {
   "cell_type": "markdown",
   "metadata": {},
   "source": [
    "# --- Improved Luis's Script ---"
   ]
  },
  {
   "cell_type": "markdown",
   "metadata": {},
   "source": [
    "## Get ID's"
   ]
  },
  {
   "cell_type": "code",
   "execution_count": null,
   "metadata": {},
   "outputs": [],
   "source": [
    "# Imports\n",
    "from Bio import Entrez\n",
    "import csv\n",
    "import time\n",
    "import pandas as pd\n",
    "from urllib.error import HTTPError  # for Python 2 use: from urllib2 import HTTPError  # for Python 2\n",
    "\n",
    "# Define max_samples\n",
    "max_samples = 10\n",
    "\n",
    "# Define email\n",
    "Entrez.email = \"vela.vela.luis@gmail.com\" #\"karsten.leonhardt@posteo.de\"\n",
    "\n",
    "# Perform search - get handle\n",
    "handle = Entrez.esearch(db=\"gds\", term=\"GSE[ETYP] AND Homo[Organism]\", usehistory=\"y\", retmax = max_samples)\n",
    "\n",
    "# Read results\n",
    "record = Entrez.read(handle)\n",
    "\n",
    "# Get idlist\n",
    "idlist = record['IdList']\n",
    "\n",
    "# Count entries\n",
    "found_count = int(record['Count'])\n",
    "read_count = len(idlist)\n",
    "\n",
    "# Echo results\n",
    "print('Total number of FOUND entries: ' + str(found_count))\n",
    "print('Total number of READ  entries: ' + str(read_count))\n",
    "\n",
    "# Close handle\n",
    "handle.close()"
   ]
  },
  {
   "cell_type": "markdown",
   "metadata": {},
   "source": [
    "## Get Summaries"
   ]
  },
  {
   "cell_type": "code",
   "execution_count": null,
   "metadata": {},
   "outputs": [],
   "source": [
    "filename = 'test_'+str(max_samples)+'.csv'\n",
    "\n",
    "# Open csv-target file\n",
    "with open(filename, 'w') as opened_file:\n",
    "\n",
    "    # write with writer\n",
    "    csvwriter = csv.writer(opened_file)\n",
    "\n",
    "    # Set fieldnames\n",
    "#     fieldnames = ['Item', 'Id', 'Accession', 'GDS', 'title', \n",
    "#           'summary', 'GPL', 'GSE', 'taxon', 'entryType', 'gdsType', \n",
    "#           'ptechType', 'valType', 'SSInfo', 'subsetInfo', 'PDAT', \n",
    "#           'suppFile', 'Samples', 'Relations', 'ExtRelations', \n",
    "#           'n_samples', 'SeriesTitle', 'PlatformTitle', 'PlatformTaxa', \n",
    "#           'SamplesTaxa', 'PubMedIds', 'Projects', 'FTPLink', 'GEO2R']\n",
    "    fieldnames = ['Id', 'Accession', 'title', 'summary', 'taxon']\n",
    "        \n",
    "    # Print fildnames\n",
    "    csvwriter.writerow(fieldnames)\n",
    "\n",
    "    # Begin retrieval\n",
    "    for i, e_id in enumerate(idlist):\n",
    "    \n",
    "        # Echo info\n",
    "        print(\"Going to download record: {:10.0f} ({:5.1f}%)\".format(int(e_id), (i+1)/read_count*100))\n",
    "    \n",
    "        # Get Summary\n",
    "        handle = Entrez.esummary(db=\"gds\", id=e_id)\n",
    "    \n",
    "        # Read handle\n",
    "        data = Entrez.read(handle)\n",
    "\n",
    "        # Define list for things to print\n",
    "        list_to_print = list()\n",
    "\n",
    "        # Iterate over fieldnames\n",
    "        for name in fieldnames:\n",
    "            list_to_print.append(data[0][name])\n",
    "\n",
    "        # Print the line\n",
    "        csvwriter.writerow(list_to_print)\n",
    "        \n",
    "        # Close handle\n",
    "        handle.close()    "
   ]
  },
  {
   "cell_type": "markdown",
   "metadata": {},
   "source": [
    "## Check IF DataFrame"
   ]
  },
  {
   "cell_type": "code",
   "execution_count": null,
   "metadata": {},
   "outputs": [],
   "source": [
    "# Read to DataFrame\n",
    "pd.read_csv(filename, sep=',', header=[0], error_bad_lines=False)"
   ]
  }
 ],
 "metadata": {
  "kernelspec": {
   "display_name": "Python 3",
   "language": "python",
   "name": "python3"
  },
  "language_info": {
   "codemirror_mode": {
    "name": "ipython",
    "version": 3
   },
   "file_extension": ".py",
   "mimetype": "text/x-python",
   "name": "python",
   "nbconvert_exporter": "python",
   "pygments_lexer": "ipython3",
   "version": "3.7.2"
  }
 },
 "nbformat": 4,
 "nbformat_minor": 2
}
