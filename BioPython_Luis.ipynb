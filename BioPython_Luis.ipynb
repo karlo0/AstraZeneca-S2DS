{
 "cells": [
  {
   "cell_type": "markdown",
   "metadata": {},
   "source": [
    "# EInfo: Obtaining information about the Entrez databases"
   ]
  },
  {
   "cell_type": "code",
   "execution_count": 1,
   "metadata": {},
   "outputs": [
    {
     "name": "stdout",
     "output_type": "stream",
     "text": [
      "<?xml version=\"1.0\" encoding=\"UTF-8\" ?>\n",
      "<!DOCTYPE eInfoResult PUBLIC \"-//NLM//DTD einfo 20130322//EN\" \"https://eutils.ncbi.nlm.nih.gov/eutils/dtd/20130322/einfo.dtd\">\n",
      "<eInfoResult>\n",
      "<DbList>\n",
      "\n",
      "\t<DbName>pubmed</DbName>\n",
      "\t<DbName>protein</DbName>\n",
      "\t<DbName>nuccore</DbName>\n",
      "\t<DbName>ipg</DbName>\n",
      "\t<DbName>nucleotide</DbName>\n",
      "\t<DbName>nucgss</DbName>\n",
      "\t<DbName>nucest</DbName>\n",
      "\t<DbName>structure</DbName>\n",
      "\t<DbName>sparcle</DbName>\n",
      "\t<DbName>genome</DbName>\n",
      "\t<DbName>annotinfo</DbName>\n",
      "\t<DbName>assembly</DbName>\n",
      "\t<DbName>bioproject</DbName>\n",
      "\t<DbName>biosample</DbName>\n",
      "\t<DbName>blastdbinfo</DbName>\n",
      "\t<DbName>books</DbName>\n",
      "\t<DbName>cdd</DbName>\n",
      "\t<DbName>clinvar</DbName>\n",
      "\t<DbName>clone</DbName>\n",
      "\t<DbName>gap</DbName>\n",
      "\t<DbName>gapplus</DbName>\n",
      "\t<DbName>grasp</DbName>\n",
      "\t<DbName>dbvar</DbName>\n",
      "\t<DbName>gene</DbName>\n",
      "\t<DbName>gds</DbName>\n",
      "\t<DbName>geoprofiles</DbName>\n",
      "\t<DbName>homologene</DbName>\n",
      "\t<DbName>medgen</DbName>\n",
      "\t<DbName>mesh</DbName>\n",
      "\t<DbName>ncbisearch</DbName>\n",
      "\t<DbName>nlmcatalog</DbName>\n",
      "\t<DbName>omim</DbName>\n",
      "\t<DbName>orgtrack</DbName>\n",
      "\t<DbName>pmc</DbName>\n",
      "\t<DbName>popset</DbName>\n",
      "\t<DbName>probe</DbName>\n",
      "\t<DbName>proteinclusters</DbName>\n",
      "\t<DbName>pcassay</DbName>\n",
      "\t<DbName>biosystems</DbName>\n",
      "\t<DbName>pccompound</DbName>\n",
      "\t<DbName>pcsubstance</DbName>\n",
      "\t<DbName>seqannot</DbName>\n",
      "\t<DbName>snp</DbName>\n",
      "\t<DbName>sra</DbName>\n",
      "\t<DbName>taxonomy</DbName>\n",
      "\t<DbName>biocollections</DbName>\n",
      "\t<DbName>unigene</DbName>\n",
      "\t<DbName>gencoll</DbName>\n",
      "\t<DbName>gtr</DbName>\n",
      "</DbList>\n",
      "\n",
      "</eInfoResult>\n",
      "\n"
     ]
    }
   ],
   "source": [
    "from Bio import Entrez\n",
    "Entrez.email = \"vela.vela.luis@gmail.com\"  \n",
    "handle = Entrez.einfo()\n",
    "result = handle.read()\n",
    "handle.close()\n",
    "print(result)"
   ]
  },
  {
   "cell_type": "code",
   "execution_count": 2,
   "metadata": {},
   "outputs": [
    {
     "data": {
      "text/plain": [
       "dict_keys(['DbList'])"
      ]
     },
     "execution_count": 2,
     "metadata": {},
     "output_type": "execute_result"
    }
   ],
   "source": [
    "from Bio import Entrez\n",
    "handle = Entrez.einfo()\n",
    "record = Entrez.read(handle)\n",
    "record.keys()"
   ]
  },
  {
   "cell_type": "code",
   "execution_count": 3,
   "metadata": {},
   "outputs": [
    {
     "data": {
      "text/plain": [
       "['pubmed', 'protein', 'nuccore', 'ipg', 'nucleotide', 'nucgss', 'nucest', 'structure', 'sparcle', 'genome', 'annotinfo', 'assembly', 'bioproject', 'biosample', 'blastdbinfo', 'books', 'cdd', 'clinvar', 'clone', 'gap', 'gapplus', 'grasp', 'dbvar', 'gene', 'gds', 'geoprofiles', 'homologene', 'medgen', 'mesh', 'ncbisearch', 'nlmcatalog', 'omim', 'orgtrack', 'pmc', 'popset', 'probe', 'proteinclusters', 'pcassay', 'biosystems', 'pccompound', 'pcsubstance', 'seqannot', 'snp', 'sra', 'taxonomy', 'biocollections', 'unigene', 'gencoll', 'gtr']"
      ]
     },
     "execution_count": 3,
     "metadata": {},
     "output_type": "execute_result"
    }
   ],
   "source": [
    "record[\"DbList\"]"
   ]
  },
  {
   "cell_type": "code",
   "execution_count": 4,
   "metadata": {},
   "outputs": [
    {
     "data": {
      "text/plain": [
       "'GEO DataSets'"
      ]
     },
     "execution_count": 4,
     "metadata": {},
     "output_type": "execute_result"
    }
   ],
   "source": [
    "handle = Entrez.einfo(db=\"gds\")\n",
    "record = Entrez.read(handle)\n",
    "record[\"DbInfo\"][\"Description\"]"
   ]
  },
  {
   "cell_type": "code",
   "execution_count": 5,
   "metadata": {},
   "outputs": [
    {
     "data": {
      "text/plain": [
       "'3064302'"
      ]
     },
     "execution_count": 5,
     "metadata": {},
     "output_type": "execute_result"
    }
   ],
   "source": [
    "record[\"DbInfo\"][\"Count\"]"
   ]
  },
  {
   "cell_type": "code",
   "execution_count": 6,
   "metadata": {},
   "outputs": [
    {
     "data": {
      "text/plain": [
       "'2019/03/10 17:09'"
      ]
     },
     "execution_count": 6,
     "metadata": {},
     "output_type": "execute_result"
    }
   ],
   "source": [
    "record[\"DbInfo\"][\"LastUpdate\"]"
   ]
  },
  {
   "cell_type": "code",
   "execution_count": 7,
   "metadata": {},
   "outputs": [
    {
     "name": "stdout",
     "output_type": "stream",
     "text": [
      "ALL, All Fields, All terms from all searchable fields\n",
      "UID, UID, Unique number assigned to publication\n",
      "FILT, Filter, Limits the records\n",
      "ORGN, Organism, exploded organism names\n",
      "ACCN, GEO Accession, accession for GDS (DataSet), GPL (Platform), GSM (Sample), GSE (Series)\n",
      "TITL, Title, Words in title of record\n",
      "DESC, Description, Text from description, summary and other similar fields\n",
      "SFIL, Supplementary Files, Supplementary Files\n",
      "ETYP, Entry Type, Entry type (DataSet or Series)\n",
      "STYP, Sample Type, Sample type\n",
      "VTYP, Sample Value Type, type of values, e.g. log ratio, count\n",
      "PTYP, Platform Technology Type, Platform technology type\n",
      "GTYP, DataSet Type, type of dataset\n",
      "NSAM, Number of Samples, Number of samples\n",
      "SRC, Sample Source, sample source\n",
      "AUTH, Author, author of the GEO Sample, Platform or Series\n",
      "INST, Submitter Institute, institute, or organization affiliatedd with contributers\n",
      "NPRO, Number of Platform Probes, number of platform probes\n",
      "SSTP, Subset Variable Type, subset variable type\n",
      "SSDE, Subset Description, subset description\n",
      "GEID, Reporter Identifier, name or identifier for the spot, e.g. GenBank, UniGene ID, Locus Link ID etc.\n",
      "PDAT, Publication Date, publication date from the GEO related entities\n",
      "UDAT, Update Date, date\n",
      "TAGL, Tag Length, Tag/Signature length for SAGE/MPSS\n",
      "RGSE, Related Series, Related Series\n",
      "RGPL, Related Platform, Related Platform\n",
      "MESH, MeSH Terms, Medical Subject Headings\n",
      "PROJ, Project, Project\n",
      "ATNM, Attribute Name, Attribute Name\n",
      "ATTR, Attribute, Attribute\n",
      "PROP, Properties, Properties\n"
     ]
    }
   ],
   "source": [
    "for field in record[\"DbInfo\"][\"FieldList\"]:\n",
    "    print(\"%(Name)s, %(FullName)s, %(Description)s\" % field)"
   ]
  },
  {
   "cell_type": "markdown",
   "metadata": {},
   "source": [
    "# ESearch: Searching the Entrez databases"
   ]
  },
  {
   "cell_type": "code",
   "execution_count": 6,
   "metadata": {},
   "outputs": [
    {
     "name": "stdout",
     "output_type": "stream",
     "text": [
      "['200117746', '100018573', '303308153', '303308152', '303308151', '303308150', '303308149', '303308148']\n"
     ]
    }
   ],
   "source": [
    "from Bio import Entrez\n",
    "Entrez.email = \"vela.vela.luis@gmail.com\" \n",
    "handle = Entrez.esearch(db=\"gds\", term='GSE117746[ACCN]')\n",
    "record = Entrez.read(handle)\n",
    "print(record['IdList'])"
   ]
  },
  {
   "cell_type": "code",
   "execution_count": 13,
   "metadata": {},
   "outputs": [
    {
     "name": "stdout",
     "output_type": "stream",
     "text": [
      "8\n"
     ]
    }
   ],
   "source": [
    "count = record['Count']\n",
    "handle = Entrez.esearch(db=\"gds\", term='GSE117746[ACCN]', retmax=count)\n",
    "record = Entrez.read(handle)\n",
    "print(len(record['IdList']))"
   ]
  },
  {
   "cell_type": "code",
   "execution_count": 7,
   "metadata": {},
   "outputs": [
    {
     "data": {
      "text/plain": [
       "['200117746',\n",
       " '100018573',\n",
       " '303308153',\n",
       " '303308152',\n",
       " '303308151',\n",
       " '303308150',\n",
       " '303308149',\n",
       " '303308148']"
      ]
     },
     "execution_count": 7,
     "metadata": {},
     "output_type": "execute_result"
    }
   ],
   "source": [
    "record['IdList'][:25]"
   ]
  },
  {
   "cell_type": "code",
   "execution_count": 16,
   "metadata": {},
   "outputs": [
    {
     "data": {
      "text/plain": [
       "True"
      ]
     },
     "execution_count": 16,
     "metadata": {},
     "output_type": "execute_result"
    }
   ],
   "source": [
    "'303308148' in record['IdList']"
   ]
  },
  {
   "cell_type": "markdown",
   "metadata": {},
   "source": [
    "# ESummary: Retrieving summaries from primary IDs"
   ]
  },
  {
   "cell_type": "code",
   "execution_count": 9,
   "metadata": {},
   "outputs": [],
   "source": [
    "from Bio import Entrez\n",
    "Entrez.email = \"vela.vela.luis@gmail.com\"\n",
    "handle = Entrez.esummary(db=\"gds\", id=\"200117746\")\n",
    "record = Entrez.read(handle)"
   ]
  },
  {
   "cell_type": "code",
   "execution_count": 10,
   "metadata": {},
   "outputs": [
    {
     "data": {
      "text/plain": [
       "dict_keys(['Item', 'Id', 'Accession', 'GDS', 'title', 'summary', 'GPL', 'GSE', 'taxon', 'entryType', 'gdsType', 'ptechType', 'valType', 'SSInfo', 'subsetInfo', 'PDAT', 'suppFile', 'Samples', 'Relations', 'ExtRelations', 'n_samples', 'SeriesTitle', 'PlatformTitle', 'PlatformTaxa', 'SamplesTaxa', 'PubMedIds', 'Projects', 'FTPLink', 'GEO2R'])"
      ]
     },
     "execution_count": 10,
     "metadata": {},
     "output_type": "execute_result"
    }
   ],
   "source": [
    "record[0].keys()"
   ]
  },
  {
   "cell_type": "code",
   "execution_count": 11,
   "metadata": {},
   "outputs": [
    {
     "data": {
      "text/plain": [
       "'CDK4/6 inhibition is now part of the standard armamentarium for patients with estrogen receptor (ER)-positive breast cancer, so that defining mechanisms of resistance is a pressing issue. Here, we identify increased CDK6 expression as a key determinant of acquired resistance after exposure to palbociclib in ER-positive breast cancer cells. Increased CDK6 in resistant cells was dependent on TGF-β pathway suppression via miR-432-5p expression. Exosomal miR-432-5p expression mediated transfer of the resistance phenotype between neighboring cell populations. We confirmed these data in pre-treatment and post-progression biopsies from a parotid cancer patient who had responded to ribociclib, demonstrating clinical relevance of this mechanism. Additionally, the CDK4/6 inhibitor resistance phenotype can be reversed in vitro and in vivo by a prolonged drug holiday.'"
      ]
     },
     "execution_count": 11,
     "metadata": {},
     "output_type": "execute_result"
    }
   ],
   "source": [
    "record[0]['summary']"
   ]
  },
  {
   "cell_type": "code",
   "execution_count": 20,
   "metadata": {},
   "outputs": [
    {
     "data": {
      "text/plain": [
       "[DictElement({'Accession': 'GSM3308149', 'Title': 'T47D control RNA 2'}, attributes={}),\n",
       " DictElement({'Accession': 'GSM3308152', 'Title': 'T47D mir-432-5p captured RNA 2'}, attributes={}),\n",
       " DictElement({'Accession': 'GSM3308148', 'Title': 'T47D control RNA 1'}, attributes={}),\n",
       " DictElement({'Accession': 'GSM3308151', 'Title': 'T47D mir-432-5p captured RNA 1'}, attributes={}),\n",
       " DictElement({'Accession': 'GSM3308153', 'Title': 'T47D mir-432-5p captured RNA 3'}, attributes={}),\n",
       " DictElement({'Accession': 'GSM3308150', 'Title': 'T47D control RNA 3'}, attributes={})]"
      ]
     },
     "execution_count": 20,
     "metadata": {},
     "output_type": "execute_result"
    }
   ],
   "source": [
    "record[0]['Samples'][:]"
   ]
  },
  {
   "cell_type": "code",
   "execution_count": 12,
   "metadata": {},
   "outputs": [
    {
     "name": "stdout",
     "output_type": "stream",
     "text": [
      "Item  :  []\n",
      "Id  :  200117746\n",
      "Accession  :  GSE117746\n",
      "GDS  :  \n",
      "title  :  MicroRNA-mediated suppression of the TGF-β pathway confers transmissible and reversible CDK4/6 inhibitor resistance (RNA-Seq)\n",
      "summary  :  CDK4/6 inhibition is now part of the standard armamentarium for patients with estrogen receptor (ER)-positive breast cancer, so that defining mechanisms of resistance is a pressing issue. Here, we identify increased CDK6 expression as a key determinant of acquired resistance after exposure to palbociclib in ER-positive breast cancer cells. Increased CDK6 in resistant cells was dependent on TGF-β pathway suppression via miR-432-5p expression. Exosomal miR-432-5p expression mediated transfer of the resistance phenotype between neighboring cell populations. We confirmed these data in pre-treatment and post-progression biopsies from a parotid cancer patient who had responded to ribociclib, demonstrating clinical relevance of this mechanism. Additionally, the CDK4/6 inhibitor resistance phenotype can be reversed in vitro and in vivo by a prolonged drug holiday.\n",
      "GPL  :  18573\n",
      "GSE  :  117746\n",
      "taxon  :  Homo sapiens\n",
      "entryType  :  GSE\n",
      "gdsType  :  Expression profiling by high throughput sequencing\n",
      "ptechType  :  \n",
      "valType  :  \n",
      "SSInfo  :  \n",
      "subsetInfo  :  \n",
      "PDAT  :  2019/03/04\n",
      "suppFile  :  XLSX\n",
      "Samples  :  [DictElement({'Accession': 'GSM3308149', 'Title': 'T47D control RNA 2'}, attributes={}), DictElement({'Accession': 'GSM3308152', 'Title': 'T47D mir-432-5p captured RNA 2'}, attributes={}), DictElement({'Accession': 'GSM3308148', 'Title': 'T47D control RNA 1'}, attributes={}), DictElement({'Accession': 'GSM3308151', 'Title': 'T47D mir-432-5p captured RNA 1'}, attributes={}), DictElement({'Accession': 'GSM3308153', 'Title': 'T47D mir-432-5p captured RNA 3'}, attributes={}), DictElement({'Accession': 'GSM3308150', 'Title': 'T47D control RNA 3'}, attributes={})]\n",
      "Relations  :  []\n",
      "ExtRelations  :  [DictElement({'RelationType': 'SRA', 'TargetObject': 'SRP155415', 'TargetFTPLink': 'ftp://ftp-trace.ncbi.nlm.nih.gov/sra/sra-instant/reads/ByStudy/sra/SRP/SRP155/SRP155415/'}, attributes={})]\n",
      "n_samples  :  6\n",
      "SeriesTitle  :  \n",
      "PlatformTitle  :  \n",
      "PlatformTaxa  :  \n",
      "SamplesTaxa  :  \n",
      "PubMedIds  :  []\n",
      "Projects  :  []\n",
      "FTPLink  :  ftp://ftp.ncbi.nlm.nih.gov/geo/series/GSE117nnn/GSE117746/\n",
      "GEO2R  :  no\n"
     ]
    }
   ],
   "source": [
    "for key, value in record[0].items():\n",
    "    print(key, ' : ', value)"
   ]
  },
  {
   "cell_type": "markdown",
   "metadata": {},
   "source": [
    "# Automatic process for the GSE"
   ]
  },
  {
   "cell_type": "code",
   "execution_count": 1,
   "metadata": {},
   "outputs": [],
   "source": [
    "from Bio import Entrez\n",
    "Entrez.email = \"vela.vela.luis@gmail.com\" \n",
    "\n",
    "query_dataset = 'GSE117746'\n",
    "type_of_query = '[ACCN]'"
   ]
  },
  {
   "cell_type": "code",
   "execution_count": 2,
   "metadata": {},
   "outputs": [
    {
     "name": "stdout",
     "output_type": "stream",
     "text": [
      "['200117746', '100018573', '303308153', '303308152', '303308151', '303308150', '303308149', '303308148']\n"
     ]
    }
   ],
   "source": [
    "handle = Entrez.esearch(db=\"gds\", term=query_dataset+type_of_query)\n",
    "record = Entrez.read(handle)\n",
    "every_id = record['IdList']\n",
    "print(every_id)"
   ]
  },
  {
   "cell_type": "code",
   "execution_count": 3,
   "metadata": {},
   "outputs": [
    {
     "name": "stdout",
     "output_type": "stream",
     "text": [
      "ID:  200117746\n",
      "\n",
      "Summary:  CDK4/6 inhibition is now part of the standard armamentarium for patients with estrogen receptor (ER)-positive breast cancer, so that defining mechanisms of resistance is a pressing issue. Here, we identify increased CDK6 expression as a key determinant of acquired resistance after exposure to palbociclib in ER-positive breast cancer cells. Increased CDK6 in resistant cells was dependent on TGF-β pathway suppression via miR-432-5p expression. Exosomal miR-432-5p expression mediated transfer of the resistance phenotype between neighboring cell populations. We confirmed these data in pre-treatment and post-progression biopsies from a parotid cancer patient who had responded to ribociclib, demonstrating clinical relevance of this mechanism. Additionally, the CDK4/6 inhibitor resistance phenotype can be reversed in vitro and in vivo by a prolonged drug holiday.\n",
      "\n",
      "Samples:  DictElement({'Accession': 'GSM3308149', 'Title': 'T47D control RNA 2'}, attributes={}) DictElement({'Accession': 'GSM3308152', 'Title': 'T47D mir-432-5p captured RNA 2'}, attributes={}) DictElement({'Accession': 'GSM3308148', 'Title': 'T47D control RNA 1'}, attributes={}) DictElement({'Accession': 'GSM3308151', 'Title': 'T47D mir-432-5p captured RNA 1'}, attributes={}) DictElement({'Accession': 'GSM3308153', 'Title': 'T47D mir-432-5p captured RNA 3'}, attributes={}) DictElement({'Accession': 'GSM3308150', 'Title': 'T47D control RNA 3'}, attributes={})\n",
      "\n",
      "\n",
      "ID:  100018573\n",
      "\n",
      "Summary:  \n",
      "\n",
      "Samples: \n",
      "\n",
      "\n",
      "ID:  303308153\n",
      "\n",
      "Summary:  T47D cells\n",
      "\n",
      "Samples: \n",
      "\n",
      "\n",
      "ID:  303308152\n",
      "\n",
      "Summary:  T47D cells\n",
      "\n",
      "Samples: \n",
      "\n",
      "\n",
      "ID:  303308151\n",
      "\n",
      "Summary:  T47D cells\n",
      "\n",
      "Samples: \n",
      "\n",
      "\n",
      "ID:  303308150\n",
      "\n",
      "Summary:  T47D cells\n",
      "\n",
      "Samples: \n",
      "\n",
      "\n",
      "ID:  303308149\n",
      "\n",
      "Summary:  T47D cells\n",
      "\n",
      "Samples: \n",
      "\n",
      "\n",
      "ID:  303308148\n",
      "\n",
      "Summary:  T47D cells\n",
      "\n",
      "Samples: \n",
      "\n",
      "\n"
     ]
    }
   ],
   "source": [
    "for e_id in every_id: \n",
    "    handle = Entrez.esummary(db=\"gds\", id=e_id)\n",
    "    record = Entrez.read(handle)\n",
    "    print('ID: ', e_id)\n",
    "    print()\n",
    "    print('Summary: ', record[0]['summary'])\n",
    "    print()\n",
    "    print('Samples: ', *record[0]['Samples'][:])\n",
    "    print()\n",
    "    print()"
   ]
  },
  {
   "cell_type": "markdown",
   "metadata": {},
   "source": [
    "# Based on Karsten's"
   ]
  },
  {
   "cell_type": "code",
   "execution_count": 16,
   "metadata": {},
   "outputs": [
    {
     "name": "stdout",
     "output_type": "stream",
     "text": [
      "Total number of FOUND entries: 46584\n",
      "Total number of READ  entries: 30\n"
     ]
    }
   ],
   "source": [
    "from Bio import Entrez\n",
    "import time\n",
    "Entrez.email = \"karsten.leonhardt@posteo.de\"\n",
    "try:\n",
    "    from urllib.error import HTTPError  # for Python 3\n",
    "except ImportError:\n",
    "    from urllib2 import HTTPError  # for Python 2\n",
    "#retmax = maximum number of retrieved series\n",
    "#handle = Entrez.esearch(db=\"gds\", term=\"GSE[ETYP] AND Homo[Organism]\", usehistory=\"y\", retmax=30)\n",
    "handle = Entrez.esearch(db=\"gds\", term=\"GSE[ETYP] AND Homo[Organism]\", usehistory=\"y\", retmax = 30)\n",
    "record = Entrez.read(handle)\n",
    "idlist = record['IdList']\n",
    "count = int(record['Count'])\n",
    "print('Total number of FOUND entries: ' + str(count))\n",
    "print('Total number of READ  entries: ' + str(len(idlist)))\n",
    "#handle.close()"
   ]
  },
  {
   "cell_type": "code",
   "execution_count": 18,
   "metadata": {},
   "outputs": [
    {
     "data": {
      "text/plain": [
       "['200112120',\n",
       " '200117735',\n",
       " '200117734',\n",
       " '200128119',\n",
       " '200126367',\n",
       " '200128077',\n",
       " '200126109',\n",
       " '200106774',\n",
       " '200125561',\n",
       " '200117301']"
      ]
     },
     "execution_count": 18,
     "metadata": {},
     "output_type": "execute_result"
    }
   ],
   "source": [
    "idlist[:10]"
   ]
  },
  {
   "cell_type": "code",
   "execution_count": null,
   "metadata": {},
   "outputs": [],
   "source": [
    "e_id = '200112120'\n",
    "fetch_handle = Entrez.esummary(db=\"gds\", id=e_id)\n",
    "record = fetch_handle.read()\n",
    "record"
   ]
  },
  {
   "cell_type": "code",
   "execution_count": null,
   "metadata": {},
   "outputs": [],
   "source": [
    "batch_size = 3\n",
    "out_handle = open(\"retrieve_gse_summaries.txt\", \"w\")\n",
    "for start in range(0, count, batch_size):\n",
    "    end = min(count, start + batch_size)\n",
    "    print(\"Going to download record %i to %i\" % (start+1, end))\n",
    "    attempt = 1\n",
    "    while attempt <= 3:\n",
    "        try:\n",
    "#             fetch_handle = Entrez.e(db=\"gds\", rettype=\"summary\",\n",
    "#                                             retmode=\"text\", retstart=start,\n",
    "#                                             retmax=batch_size,\n",
    "#                                             webenv=record[\"WebEnv\"],\n",
    "#                                             query_key=record[\"QueryKey\"])\n",
    "            fetch_handle = Entrez.esummary(db=\"gds\", id=e_id)\n",
    "    \n",
    "        except HTTPError as err:\n",
    "            if 500 <= err.code <= 599:\n",
    "                print(\"Received error from server %s\" % err)\n",
    "                print(\"Attempt %i of 3\" % attempt)\n",
    "                attempt += 1\n",
    "                time.sleep(15)\n",
    "            else:\n",
    "                raise\n",
    "    data = fetch_handle.read()\n",
    "    fetch_handle.close()\n",
    "    out_handle.write(data)\n",
    "out_handle.close()"
   ]
  }
 ],
 "metadata": {
  "kernelspec": {
   "display_name": "Python 3",
   "language": "python",
   "name": "python3"
  },
  "language_info": {
   "codemirror_mode": {
    "name": "ipython",
    "version": 3
   },
   "file_extension": ".py",
   "mimetype": "text/x-python",
   "name": "python",
   "nbconvert_exporter": "python",
   "pygments_lexer": "ipython3",
   "version": "3.7.2"
  }
 },
 "nbformat": 4,
 "nbformat_minor": 2
}
