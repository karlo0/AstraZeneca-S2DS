{
 "cells": [
  {
   "cell_type": "markdown",
   "metadata": {},
   "source": [
    "# EInfo: Obtaining information about the Entrez databases"
   ]
  },
  {
   "cell_type": "code",
   "execution_count": 1,
   "metadata": {},
   "outputs": [
    {
     "name": "stdout",
     "output_type": "stream",
     "text": [
      "<?xml version=\"1.0\" encoding=\"UTF-8\" ?>\n",
      "<!DOCTYPE eInfoResult PUBLIC \"-//NLM//DTD einfo 20130322//EN\" \"https://eutils.ncbi.nlm.nih.gov/eutils/dtd/20130322/einfo.dtd\">\n",
      "<eInfoResult>\n",
      "<DbList>\n",
      "\n",
      "\t<DbName>pubmed</DbName>\n",
      "\t<DbName>protein</DbName>\n",
      "\t<DbName>nuccore</DbName>\n",
      "\t<DbName>ipg</DbName>\n",
      "\t<DbName>nucleotide</DbName>\n",
      "\t<DbName>nucgss</DbName>\n",
      "\t<DbName>nucest</DbName>\n",
      "\t<DbName>structure</DbName>\n",
      "\t<DbName>sparcle</DbName>\n",
      "\t<DbName>genome</DbName>\n",
      "\t<DbName>annotinfo</DbName>\n",
      "\t<DbName>assembly</DbName>\n",
      "\t<DbName>bioproject</DbName>\n",
      "\t<DbName>biosample</DbName>\n",
      "\t<DbName>blastdbinfo</DbName>\n",
      "\t<DbName>books</DbName>\n",
      "\t<DbName>cdd</DbName>\n",
      "\t<DbName>clinvar</DbName>\n",
      "\t<DbName>clone</DbName>\n",
      "\t<DbName>gap</DbName>\n",
      "\t<DbName>gapplus</DbName>\n",
      "\t<DbName>grasp</DbName>\n",
      "\t<DbName>dbvar</DbName>\n",
      "\t<DbName>gene</DbName>\n",
      "\t<DbName>gds</DbName>\n",
      "\t<DbName>geoprofiles</DbName>\n",
      "\t<DbName>homologene</DbName>\n",
      "\t<DbName>medgen</DbName>\n",
      "\t<DbName>mesh</DbName>\n",
      "\t<DbName>ncbisearch</DbName>\n",
      "\t<DbName>nlmcatalog</DbName>\n",
      "\t<DbName>omim</DbName>\n",
      "\t<DbName>orgtrack</DbName>\n",
      "\t<DbName>pmc</DbName>\n",
      "\t<DbName>popset</DbName>\n",
      "\t<DbName>probe</DbName>\n",
      "\t<DbName>proteinclusters</DbName>\n",
      "\t<DbName>pcassay</DbName>\n",
      "\t<DbName>biosystems</DbName>\n",
      "\t<DbName>pccompound</DbName>\n",
      "\t<DbName>pcsubstance</DbName>\n",
      "\t<DbName>seqannot</DbName>\n",
      "\t<DbName>snp</DbName>\n",
      "\t<DbName>sra</DbName>\n",
      "\t<DbName>taxonomy</DbName>\n",
      "\t<DbName>biocollections</DbName>\n",
      "\t<DbName>unigene</DbName>\n",
      "\t<DbName>gencoll</DbName>\n",
      "\t<DbName>gtr</DbName>\n",
      "</DbList>\n",
      "\n",
      "</eInfoResult>\n",
      "\n"
     ]
    }
   ],
   "source": [
    "from Bio import Entrez\n",
    "Entrez.email = \"vela.vela.luis@gmail.com\"  \n",
    "handle = Entrez.einfo()\n",
    "result = handle.read()\n",
    "handle.close()\n",
    "print(result)"
   ]
  },
  {
   "cell_type": "code",
   "execution_count": 2,
   "metadata": {},
   "outputs": [
    {
     "data": {
      "text/plain": [
       "dict_keys(['DbList'])"
      ]
     },
     "execution_count": 2,
     "metadata": {},
     "output_type": "execute_result"
    }
   ],
   "source": [
    "from Bio import Entrez\n",
    "handle = Entrez.einfo()\n",
    "record = Entrez.read(handle)\n",
    "record.keys()"
   ]
  },
  {
   "cell_type": "code",
   "execution_count": 3,
   "metadata": {},
   "outputs": [
    {
     "data": {
      "text/plain": [
       "['pubmed', 'protein', 'nuccore', 'ipg', 'nucleotide', 'nucgss', 'nucest', 'structure', 'sparcle', 'genome', 'annotinfo', 'assembly', 'bioproject', 'biosample', 'blastdbinfo', 'books', 'cdd', 'clinvar', 'clone', 'gap', 'gapplus', 'grasp', 'dbvar', 'gene', 'gds', 'geoprofiles', 'homologene', 'medgen', 'mesh', 'ncbisearch', 'nlmcatalog', 'omim', 'orgtrack', 'pmc', 'popset', 'probe', 'proteinclusters', 'pcassay', 'biosystems', 'pccompound', 'pcsubstance', 'seqannot', 'snp', 'sra', 'taxonomy', 'biocollections', 'unigene', 'gencoll', 'gtr']"
      ]
     },
     "execution_count": 3,
     "metadata": {},
     "output_type": "execute_result"
    }
   ],
   "source": [
    "record[\"DbList\"]"
   ]
  },
  {
   "cell_type": "code",
   "execution_count": 4,
   "metadata": {},
   "outputs": [
    {
     "data": {
      "text/plain": [
       "'GEO DataSets'"
      ]
     },
     "execution_count": 4,
     "metadata": {},
     "output_type": "execute_result"
    }
   ],
   "source": [
    "handle = Entrez.einfo(db=\"gds\")\n",
    "record = Entrez.read(handle)\n",
    "record[\"DbInfo\"][\"Description\"]"
   ]
  },
  {
   "cell_type": "code",
   "execution_count": 5,
   "metadata": {},
   "outputs": [
    {
     "data": {
      "text/plain": [
       "'3064302'"
      ]
     },
     "execution_count": 5,
     "metadata": {},
     "output_type": "execute_result"
    }
   ],
   "source": [
    "record[\"DbInfo\"][\"Count\"]"
   ]
  },
  {
   "cell_type": "code",
   "execution_count": 6,
   "metadata": {},
   "outputs": [
    {
     "data": {
      "text/plain": [
       "'2019/03/10 17:09'"
      ]
     },
     "execution_count": 6,
     "metadata": {},
     "output_type": "execute_result"
    }
   ],
   "source": [
    "record[\"DbInfo\"][\"LastUpdate\"]"
   ]
  },
  {
   "cell_type": "code",
   "execution_count": 7,
   "metadata": {},
   "outputs": [
    {
     "name": "stdout",
     "output_type": "stream",
     "text": [
      "ALL, All Fields, All terms from all searchable fields\n",
      "UID, UID, Unique number assigned to publication\n",
      "FILT, Filter, Limits the records\n",
      "ORGN, Organism, exploded organism names\n",
      "ACCN, GEO Accession, accession for GDS (DataSet), GPL (Platform), GSM (Sample), GSE (Series)\n",
      "TITL, Title, Words in title of record\n",
      "DESC, Description, Text from description, summary and other similar fields\n",
      "SFIL, Supplementary Files, Supplementary Files\n",
      "ETYP, Entry Type, Entry type (DataSet or Series)\n",
      "STYP, Sample Type, Sample type\n",
      "VTYP, Sample Value Type, type of values, e.g. log ratio, count\n",
      "PTYP, Platform Technology Type, Platform technology type\n",
      "GTYP, DataSet Type, type of dataset\n",
      "NSAM, Number of Samples, Number of samples\n",
      "SRC, Sample Source, sample source\n",
      "AUTH, Author, author of the GEO Sample, Platform or Series\n",
      "INST, Submitter Institute, institute, or organization affiliatedd with contributers\n",
      "NPRO, Number of Platform Probes, number of platform probes\n",
      "SSTP, Subset Variable Type, subset variable type\n",
      "SSDE, Subset Description, subset description\n",
      "GEID, Reporter Identifier, name or identifier for the spot, e.g. GenBank, UniGene ID, Locus Link ID etc.\n",
      "PDAT, Publication Date, publication date from the GEO related entities\n",
      "UDAT, Update Date, date\n",
      "TAGL, Tag Length, Tag/Signature length for SAGE/MPSS\n",
      "RGSE, Related Series, Related Series\n",
      "RGPL, Related Platform, Related Platform\n",
      "MESH, MeSH Terms, Medical Subject Headings\n",
      "PROJ, Project, Project\n",
      "ATNM, Attribute Name, Attribute Name\n",
      "ATTR, Attribute, Attribute\n",
      "PROP, Properties, Properties\n"
     ]
    }
   ],
   "source": [
    "for field in record[\"DbInfo\"][\"FieldList\"]:\n",
    "    print(\"%(Name)s, %(FullName)s, %(Description)s\" % field)"
   ]
  },
  {
   "cell_type": "markdown",
   "metadata": {},
   "source": [
    "# ESearch: Searching the Entrez databases"
   ]
  },
  {
   "cell_type": "code",
   "execution_count": 6,
   "metadata": {},
   "outputs": [
    {
     "name": "stdout",
     "output_type": "stream",
     "text": [
      "['200117746', '100018573', '303308153', '303308152', '303308151', '303308150', '303308149', '303308148']\n"
     ]
    }
   ],
   "source": [
    "from Bio import Entrez\n",
    "Entrez.email = \"vela.vela.luis@gmail.com\" \n",
    "handle = Entrez.esearch(db=\"gds\", term='GSE117746[ACCN]')\n",
    "record = Entrez.read(handle)\n",
    "print(record['IdList'])"
   ]
  },
  {
   "cell_type": "code",
   "execution_count": 13,
   "metadata": {},
   "outputs": [
    {
     "name": "stdout",
     "output_type": "stream",
     "text": [
      "8\n"
     ]
    }
   ],
   "source": [
    "count = record['Count']\n",
    "handle = Entrez.esearch(db=\"gds\", term='GSE117746[ACCN]', retmax=count)\n",
    "record = Entrez.read(handle)\n",
    "print(len(record['IdList']))"
   ]
  },
  {
   "cell_type": "code",
   "execution_count": 7,
   "metadata": {},
   "outputs": [
    {
     "data": {
      "text/plain": [
       "['200117746',\n",
       " '100018573',\n",
       " '303308153',\n",
       " '303308152',\n",
       " '303308151',\n",
       " '303308150',\n",
       " '303308149',\n",
       " '303308148']"
      ]
     },
     "execution_count": 7,
     "metadata": {},
     "output_type": "execute_result"
    }
   ],
   "source": [
    "record['IdList'][:25]"
   ]
  },
  {
   "cell_type": "code",
   "execution_count": 16,
   "metadata": {},
   "outputs": [
    {
     "data": {
      "text/plain": [
       "True"
      ]
     },
     "execution_count": 16,
     "metadata": {},
     "output_type": "execute_result"
    }
   ],
   "source": [
    "'303308148' in record['IdList']"
   ]
  },
  {
   "cell_type": "markdown",
   "metadata": {},
   "source": [
    "# ESummary: Retrieving summaries from primary IDs"
   ]
  },
  {
   "cell_type": "code",
   "execution_count": 9,
   "metadata": {},
   "outputs": [],
   "source": [
    "from Bio import Entrez\n",
    "Entrez.email = \"vela.vela.luis@gmail.com\"\n",
    "handle = Entrez.esummary(db=\"gds\", id=\"200117746\")\n",
    "record = Entrez.read(handle)"
   ]
  },
  {
   "cell_type": "code",
   "execution_count": 10,
   "metadata": {},
   "outputs": [
    {
     "data": {
      "text/plain": [
       "dict_keys(['Item', 'Id', 'Accession', 'GDS', 'title', 'summary', 'GPL', 'GSE', 'taxon', 'entryType', 'gdsType', 'ptechType', 'valType', 'SSInfo', 'subsetInfo', 'PDAT', 'suppFile', 'Samples', 'Relations', 'ExtRelations', 'n_samples', 'SeriesTitle', 'PlatformTitle', 'PlatformTaxa', 'SamplesTaxa', 'PubMedIds', 'Projects', 'FTPLink', 'GEO2R'])"
      ]
     },
     "execution_count": 10,
     "metadata": {},
     "output_type": "execute_result"
    }
   ],
   "source": [
    "record[0].keys()"
   ]
  },
  {
   "cell_type": "code",
   "execution_count": 11,
   "metadata": {},
   "outputs": [
    {
     "data": {
      "text/plain": [
       "'CDK4/6 inhibition is now part of the standard armamentarium for patients with estrogen receptor (ER)-positive breast cancer, so that defining mechanisms of resistance is a pressing issue. Here, we identify increased CDK6 expression as a key determinant of acquired resistance after exposure to palbociclib in ER-positive breast cancer cells. Increased CDK6 in resistant cells was dependent on TGF-β pathway suppression via miR-432-5p expression. Exosomal miR-432-5p expression mediated transfer of the resistance phenotype between neighboring cell populations. We confirmed these data in pre-treatment and post-progression biopsies from a parotid cancer patient who had responded to ribociclib, demonstrating clinical relevance of this mechanism. Additionally, the CDK4/6 inhibitor resistance phenotype can be reversed in vitro and in vivo by a prolonged drug holiday.'"
      ]
     },
     "execution_count": 11,
     "metadata": {},
     "output_type": "execute_result"
    }
   ],
   "source": [
    "record[0]['summary']"
   ]
  },
  {
   "cell_type": "code",
   "execution_count": 20,
   "metadata": {},
   "outputs": [
    {
     "data": {
      "text/plain": [
       "[DictElement({'Accession': 'GSM3308149', 'Title': 'T47D control RNA 2'}, attributes={}),\n",
       " DictElement({'Accession': 'GSM3308152', 'Title': 'T47D mir-432-5p captured RNA 2'}, attributes={}),\n",
       " DictElement({'Accession': 'GSM3308148', 'Title': 'T47D control RNA 1'}, attributes={}),\n",
       " DictElement({'Accession': 'GSM3308151', 'Title': 'T47D mir-432-5p captured RNA 1'}, attributes={}),\n",
       " DictElement({'Accession': 'GSM3308153', 'Title': 'T47D mir-432-5p captured RNA 3'}, attributes={}),\n",
       " DictElement({'Accession': 'GSM3308150', 'Title': 'T47D control RNA 3'}, attributes={})]"
      ]
     },
     "execution_count": 20,
     "metadata": {},
     "output_type": "execute_result"
    }
   ],
   "source": [
    "record[0]['Samples'][:]"
   ]
  },
  {
   "cell_type": "code",
   "execution_count": 12,
   "metadata": {},
   "outputs": [
    {
     "name": "stdout",
     "output_type": "stream",
     "text": [
      "Item  :  []\n",
      "Id  :  200117746\n",
      "Accession  :  GSE117746\n",
      "GDS  :  \n",
      "title  :  MicroRNA-mediated suppression of the TGF-β pathway confers transmissible and reversible CDK4/6 inhibitor resistance (RNA-Seq)\n",
      "summary  :  CDK4/6 inhibition is now part of the standard armamentarium for patients with estrogen receptor (ER)-positive breast cancer, so that defining mechanisms of resistance is a pressing issue. Here, we identify increased CDK6 expression as a key determinant of acquired resistance after exposure to palbociclib in ER-positive breast cancer cells. Increased CDK6 in resistant cells was dependent on TGF-β pathway suppression via miR-432-5p expression. Exosomal miR-432-5p expression mediated transfer of the resistance phenotype between neighboring cell populations. We confirmed these data in pre-treatment and post-progression biopsies from a parotid cancer patient who had responded to ribociclib, demonstrating clinical relevance of this mechanism. Additionally, the CDK4/6 inhibitor resistance phenotype can be reversed in vitro and in vivo by a prolonged drug holiday.\n",
      "GPL  :  18573\n",
      "GSE  :  117746\n",
      "taxon  :  Homo sapiens\n",
      "entryType  :  GSE\n",
      "gdsType  :  Expression profiling by high throughput sequencing\n",
      "ptechType  :  \n",
      "valType  :  \n",
      "SSInfo  :  \n",
      "subsetInfo  :  \n",
      "PDAT  :  2019/03/04\n",
      "suppFile  :  XLSX\n",
      "Samples  :  [DictElement({'Accession': 'GSM3308149', 'Title': 'T47D control RNA 2'}, attributes={}), DictElement({'Accession': 'GSM3308152', 'Title': 'T47D mir-432-5p captured RNA 2'}, attributes={}), DictElement({'Accession': 'GSM3308148', 'Title': 'T47D control RNA 1'}, attributes={}), DictElement({'Accession': 'GSM3308151', 'Title': 'T47D mir-432-5p captured RNA 1'}, attributes={}), DictElement({'Accession': 'GSM3308153', 'Title': 'T47D mir-432-5p captured RNA 3'}, attributes={}), DictElement({'Accession': 'GSM3308150', 'Title': 'T47D control RNA 3'}, attributes={})]\n",
      "Relations  :  []\n",
      "ExtRelations  :  [DictElement({'RelationType': 'SRA', 'TargetObject': 'SRP155415', 'TargetFTPLink': 'ftp://ftp-trace.ncbi.nlm.nih.gov/sra/sra-instant/reads/ByStudy/sra/SRP/SRP155/SRP155415/'}, attributes={})]\n",
      "n_samples  :  6\n",
      "SeriesTitle  :  \n",
      "PlatformTitle  :  \n",
      "PlatformTaxa  :  \n",
      "SamplesTaxa  :  \n",
      "PubMedIds  :  []\n",
      "Projects  :  []\n",
      "FTPLink  :  ftp://ftp.ncbi.nlm.nih.gov/geo/series/GSE117nnn/GSE117746/\n",
      "GEO2R  :  no\n"
     ]
    }
   ],
   "source": [
    "for key, value in record[0].items():\n",
    "    print(key, ' : ', value)"
   ]
  },
  {
   "cell_type": "markdown",
   "metadata": {},
   "source": [
    "# Automatic process for the GSE"
   ]
  },
  {
   "cell_type": "code",
   "execution_count": 1,
   "metadata": {},
   "outputs": [],
   "source": [
    "from Bio import Entrez\n",
    "Entrez.email = \"vela.vela.luis@gmail.com\" \n",
    "\n",
    "query_dataset = 'GSE117746'\n",
    "type_of_query = '[ACCN]'"
   ]
  },
  {
   "cell_type": "code",
   "execution_count": 2,
   "metadata": {},
   "outputs": [
    {
     "name": "stdout",
     "output_type": "stream",
     "text": [
      "['200117746', '100018573', '303308153', '303308152', '303308151', '303308150', '303308149', '303308148']\n"
     ]
    }
   ],
   "source": [
    "handle = Entrez.esearch(db=\"gds\", term=query_dataset+type_of_query)\n",
    "record = Entrez.read(handle)\n",
    "every_id = record['IdList']\n",
    "print(every_id)"
   ]
  },
  {
   "cell_type": "code",
   "execution_count": 3,
   "metadata": {},
   "outputs": [
    {
     "name": "stdout",
     "output_type": "stream",
     "text": [
      "ID:  200117746\n",
      "\n",
      "Summary:  CDK4/6 inhibition is now part of the standard armamentarium for patients with estrogen receptor (ER)-positive breast cancer, so that defining mechanisms of resistance is a pressing issue. Here, we identify increased CDK6 expression as a key determinant of acquired resistance after exposure to palbociclib in ER-positive breast cancer cells. Increased CDK6 in resistant cells was dependent on TGF-β pathway suppression via miR-432-5p expression. Exosomal miR-432-5p expression mediated transfer of the resistance phenotype between neighboring cell populations. We confirmed these data in pre-treatment and post-progression biopsies from a parotid cancer patient who had responded to ribociclib, demonstrating clinical relevance of this mechanism. Additionally, the CDK4/6 inhibitor resistance phenotype can be reversed in vitro and in vivo by a prolonged drug holiday.\n",
      "\n",
      "Samples:  DictElement({'Accession': 'GSM3308149', 'Title': 'T47D control RNA 2'}, attributes={}) DictElement({'Accession': 'GSM3308152', 'Title': 'T47D mir-432-5p captured RNA 2'}, attributes={}) DictElement({'Accession': 'GSM3308148', 'Title': 'T47D control RNA 1'}, attributes={}) DictElement({'Accession': 'GSM3308151', 'Title': 'T47D mir-432-5p captured RNA 1'}, attributes={}) DictElement({'Accession': 'GSM3308153', 'Title': 'T47D mir-432-5p captured RNA 3'}, attributes={}) DictElement({'Accession': 'GSM3308150', 'Title': 'T47D control RNA 3'}, attributes={})\n",
      "\n",
      "\n",
      "ID:  100018573\n",
      "\n",
      "Summary:  \n",
      "\n",
      "Samples: \n",
      "\n",
      "\n",
      "ID:  303308153\n",
      "\n",
      "Summary:  T47D cells\n",
      "\n",
      "Samples: \n",
      "\n",
      "\n",
      "ID:  303308152\n",
      "\n",
      "Summary:  T47D cells\n",
      "\n",
      "Samples: \n",
      "\n",
      "\n",
      "ID:  303308151\n",
      "\n",
      "Summary:  T47D cells\n",
      "\n",
      "Samples: \n",
      "\n",
      "\n",
      "ID:  303308150\n",
      "\n",
      "Summary:  T47D cells\n",
      "\n",
      "Samples: \n",
      "\n",
      "\n",
      "ID:  303308149\n",
      "\n",
      "Summary:  T47D cells\n",
      "\n",
      "Samples: \n",
      "\n",
      "\n",
      "ID:  303308148\n",
      "\n",
      "Summary:  T47D cells\n",
      "\n",
      "Samples: \n",
      "\n",
      "\n"
     ]
    }
   ],
   "source": [
    "for e_id in every_id: \n",
    "    handle = Entrez.esummary(db=\"gds\", id=e_id)\n",
    "    record = Entrez.read(handle)\n",
    "    print('ID: ', e_id)\n",
    "    print()\n",
    "    print('Summary: ', record[0]['summary'])\n",
    "    print()\n",
    "    print('Samples: ', *record[0]['Samples'][:])\n",
    "    print()\n",
    "    print()"
   ]
  },
  {
   "cell_type": "markdown",
   "metadata": {},
   "source": [
    "# Improved Script"
   ]
  },
  {
   "cell_type": "code",
   "execution_count": 5,
   "metadata": {},
   "outputs": [
    {
     "name": "stdout",
     "output_type": "stream",
     "text": [
      "Total number of FOUND entries: 46584\n",
      "Total number of READ  entries: 10\n"
     ]
    }
   ],
   "source": [
    "# Imports\n",
    "from Bio import Entrez\n",
    "import csv\n",
    "import time\n",
    "import pandas as pd\n",
    "from urllib.error import HTTPError  # for Python 2 use: from urllib2 import HTTPError  # for Python 2\n",
    "\n",
    "# Define max_samples\n",
    "max_samples = 10\n",
    "\n",
    "# Define email\n",
    "Entrez.email = \"vela.vela.luis@gmail.com\" #\"karsten.leonhardt@posteo.de\"\n",
    "\n",
    "# Perform search - get handle\n",
    "handle = Entrez.esearch(db=\"gds\", term=\"GSE[ETYP] AND Homo[Organism]\", usehistory=\"y\", retmax = max_samples)\n",
    "\n",
    "# Read results\n",
    "record = Entrez.read(handle)\n",
    "\n",
    "# Get idlist\n",
    "idlist = record['IdList']\n",
    "\n",
    "# Count entries\n",
    "found_count = int(record['Count'])\n",
    "read_count = len(idlist)\n",
    "\n",
    "# Echo results\n",
    "print('Total number of FOUND entries: ' + str(found_count))\n",
    "print('Total number of READ  entries: ' + str(read_count))\n",
    "\n",
    "# Close handle\n",
    "handle.close()"
   ]
  },
  {
   "cell_type": "code",
   "execution_count": 6,
   "metadata": {},
   "outputs": [
    {
     "data": {
      "text/plain": [
       "['200112120',\n",
       " '200117735',\n",
       " '200117734',\n",
       " '200128119',\n",
       " '200126367',\n",
       " '200128077',\n",
       " '200126109',\n",
       " '200106774',\n",
       " '200125561',\n",
       " '200117301']"
      ]
     },
     "execution_count": 6,
     "metadata": {},
     "output_type": "execute_result"
    }
   ],
   "source": [
    "idlist[:15]"
   ]
  },
  {
   "cell_type": "code",
   "execution_count": 7,
   "metadata": {},
   "outputs": [
    {
     "name": "stdout",
     "output_type": "stream",
     "text": [
      "Going to download record:  200112120 ( 10.0%)\n",
      "Going to download record:  200117735 ( 20.0%)\n",
      "Going to download record:  200117734 ( 30.0%)\n"
     ]
    },
    {
     "ename": "HTTPError",
     "evalue": "HTTP Error 500: Internal Server Error",
     "output_type": "error",
     "traceback": [
      "\u001b[0;31m---------------------------------------------------------------------------\u001b[0m",
      "\u001b[0;31mHTTPError\u001b[0m                                 Traceback (most recent call last)",
      "\u001b[0;32m<ipython-input-7-440126e354f4>\u001b[0m in \u001b[0;36m<module>\u001b[0;34m()\u001b[0m\n\u001b[1;32m     26\u001b[0m \u001b[0;34m\u001b[0m\u001b[0m\n\u001b[1;32m     27\u001b[0m         \u001b[0;31m# Get Summary\u001b[0m\u001b[0;34m\u001b[0m\u001b[0;34m\u001b[0m\u001b[0;34m\u001b[0m\u001b[0m\n\u001b[0;32m---> 28\u001b[0;31m         \u001b[0mhandle\u001b[0m \u001b[0;34m=\u001b[0m \u001b[0mEntrez\u001b[0m\u001b[0;34m.\u001b[0m\u001b[0mesummary\u001b[0m\u001b[0;34m(\u001b[0m\u001b[0mdb\u001b[0m\u001b[0;34m=\u001b[0m\u001b[0;34m\"gds\"\u001b[0m\u001b[0;34m,\u001b[0m \u001b[0mid\u001b[0m\u001b[0;34m=\u001b[0m\u001b[0me_id\u001b[0m\u001b[0;34m)\u001b[0m\u001b[0;34m\u001b[0m\u001b[0;34m\u001b[0m\u001b[0m\n\u001b[0m\u001b[1;32m     29\u001b[0m \u001b[0;34m\u001b[0m\u001b[0m\n\u001b[1;32m     30\u001b[0m         \u001b[0;31m# Read handle\u001b[0m\u001b[0;34m\u001b[0m\u001b[0;34m\u001b[0m\u001b[0;34m\u001b[0m\u001b[0m\n",
      "\u001b[0;32m~/anaconda3/lib/python3.7/site-packages/Bio/Entrez/__init__.py\u001b[0m in \u001b[0;36mesummary\u001b[0;34m(**keywds)\u001b[0m\n\u001b[1;32m    318\u001b[0m     \u001b[0mvariables\u001b[0m \u001b[0;34m=\u001b[0m \u001b[0;34m{\u001b[0m\u001b[0;34m}\u001b[0m\u001b[0;34m\u001b[0m\u001b[0;34m\u001b[0m\u001b[0m\n\u001b[1;32m    319\u001b[0m     \u001b[0mvariables\u001b[0m\u001b[0;34m.\u001b[0m\u001b[0mupdate\u001b[0m\u001b[0;34m(\u001b[0m\u001b[0mkeywds\u001b[0m\u001b[0;34m)\u001b[0m\u001b[0;34m\u001b[0m\u001b[0;34m\u001b[0m\u001b[0m\n\u001b[0;32m--> 320\u001b[0;31m     \u001b[0;32mreturn\u001b[0m \u001b[0m_open\u001b[0m\u001b[0;34m(\u001b[0m\u001b[0mcgi\u001b[0m\u001b[0;34m,\u001b[0m \u001b[0mvariables\u001b[0m\u001b[0;34m)\u001b[0m\u001b[0;34m\u001b[0m\u001b[0;34m\u001b[0m\u001b[0m\n\u001b[0m\u001b[1;32m    321\u001b[0m \u001b[0;34m\u001b[0m\u001b[0m\n\u001b[1;32m    322\u001b[0m \u001b[0;34m\u001b[0m\u001b[0m\n",
      "\u001b[0;32m~/anaconda3/lib/python3.7/site-packages/Bio/Entrez/__init__.py\u001b[0m in \u001b[0;36m_open\u001b[0;34m(cgi, params, post, ecitmatch)\u001b[0m\n\u001b[1;32m    543\u001b[0m             \u001b[0mhandle\u001b[0m \u001b[0;34m=\u001b[0m \u001b[0m_urlopen\u001b[0m\u001b[0;34m(\u001b[0m\u001b[0mcgi\u001b[0m\u001b[0;34m)\u001b[0m\u001b[0;34m\u001b[0m\u001b[0;34m\u001b[0m\u001b[0m\n\u001b[1;32m    544\u001b[0m     \u001b[0;32mexcept\u001b[0m \u001b[0m_HTTPError\u001b[0m \u001b[0;32mas\u001b[0m \u001b[0mexception\u001b[0m\u001b[0;34m:\u001b[0m\u001b[0;34m\u001b[0m\u001b[0;34m\u001b[0m\u001b[0m\n\u001b[0;32m--> 545\u001b[0;31m         \u001b[0;32mraise\u001b[0m \u001b[0mexception\u001b[0m\u001b[0;34m\u001b[0m\u001b[0;34m\u001b[0m\u001b[0m\n\u001b[0m\u001b[1;32m    546\u001b[0m \u001b[0;34m\u001b[0m\u001b[0m\n\u001b[1;32m    547\u001b[0m     \u001b[0;32mreturn\u001b[0m \u001b[0m_binary_to_string_handle\u001b[0m\u001b[0;34m(\u001b[0m\u001b[0mhandle\u001b[0m\u001b[0;34m)\u001b[0m\u001b[0;34m\u001b[0m\u001b[0;34m\u001b[0m\u001b[0m\n",
      "\u001b[0;32m~/anaconda3/lib/python3.7/site-packages/Bio/Entrez/__init__.py\u001b[0m in \u001b[0;36m_open\u001b[0;34m(cgi, params, post, ecitmatch)\u001b[0m\n\u001b[1;32m    541\u001b[0m             \u001b[0mhandle\u001b[0m \u001b[0;34m=\u001b[0m \u001b[0m_urlopen\u001b[0m\u001b[0;34m(\u001b[0m\u001b[0mcgi\u001b[0m\u001b[0;34m,\u001b[0m \u001b[0mdata\u001b[0m\u001b[0;34m=\u001b[0m\u001b[0m_as_bytes\u001b[0m\u001b[0;34m(\u001b[0m\u001b[0moptions\u001b[0m\u001b[0;34m)\u001b[0m\u001b[0;34m)\u001b[0m\u001b[0;34m\u001b[0m\u001b[0;34m\u001b[0m\u001b[0m\n\u001b[1;32m    542\u001b[0m         \u001b[0;32melse\u001b[0m\u001b[0;34m:\u001b[0m\u001b[0;34m\u001b[0m\u001b[0;34m\u001b[0m\u001b[0m\n\u001b[0;32m--> 543\u001b[0;31m             \u001b[0mhandle\u001b[0m \u001b[0;34m=\u001b[0m \u001b[0m_urlopen\u001b[0m\u001b[0;34m(\u001b[0m\u001b[0mcgi\u001b[0m\u001b[0;34m)\u001b[0m\u001b[0;34m\u001b[0m\u001b[0;34m\u001b[0m\u001b[0m\n\u001b[0m\u001b[1;32m    544\u001b[0m     \u001b[0;32mexcept\u001b[0m \u001b[0m_HTTPError\u001b[0m \u001b[0;32mas\u001b[0m \u001b[0mexception\u001b[0m\u001b[0;34m:\u001b[0m\u001b[0;34m\u001b[0m\u001b[0;34m\u001b[0m\u001b[0m\n\u001b[1;32m    545\u001b[0m         \u001b[0;32mraise\u001b[0m \u001b[0mexception\u001b[0m\u001b[0;34m\u001b[0m\u001b[0;34m\u001b[0m\u001b[0m\n",
      "\u001b[0;32m~/anaconda3/lib/python3.7/urllib/request.py\u001b[0m in \u001b[0;36murlopen\u001b[0;34m(url, data, timeout, cafile, capath, cadefault, context)\u001b[0m\n\u001b[1;32m    220\u001b[0m     \u001b[0;32melse\u001b[0m\u001b[0;34m:\u001b[0m\u001b[0;34m\u001b[0m\u001b[0;34m\u001b[0m\u001b[0m\n\u001b[1;32m    221\u001b[0m         \u001b[0mopener\u001b[0m \u001b[0;34m=\u001b[0m \u001b[0m_opener\u001b[0m\u001b[0;34m\u001b[0m\u001b[0;34m\u001b[0m\u001b[0m\n\u001b[0;32m--> 222\u001b[0;31m     \u001b[0;32mreturn\u001b[0m \u001b[0mopener\u001b[0m\u001b[0;34m.\u001b[0m\u001b[0mopen\u001b[0m\u001b[0;34m(\u001b[0m\u001b[0murl\u001b[0m\u001b[0;34m,\u001b[0m \u001b[0mdata\u001b[0m\u001b[0;34m,\u001b[0m \u001b[0mtimeout\u001b[0m\u001b[0;34m)\u001b[0m\u001b[0;34m\u001b[0m\u001b[0;34m\u001b[0m\u001b[0m\n\u001b[0m\u001b[1;32m    223\u001b[0m \u001b[0;34m\u001b[0m\u001b[0m\n\u001b[1;32m    224\u001b[0m \u001b[0;32mdef\u001b[0m \u001b[0minstall_opener\u001b[0m\u001b[0;34m(\u001b[0m\u001b[0mopener\u001b[0m\u001b[0;34m)\u001b[0m\u001b[0;34m:\u001b[0m\u001b[0;34m\u001b[0m\u001b[0;34m\u001b[0m\u001b[0m\n",
      "\u001b[0;32m~/anaconda3/lib/python3.7/urllib/request.py\u001b[0m in \u001b[0;36mopen\u001b[0;34m(self, fullurl, data, timeout)\u001b[0m\n\u001b[1;32m    529\u001b[0m         \u001b[0;32mfor\u001b[0m \u001b[0mprocessor\u001b[0m \u001b[0;32min\u001b[0m \u001b[0mself\u001b[0m\u001b[0;34m.\u001b[0m\u001b[0mprocess_response\u001b[0m\u001b[0;34m.\u001b[0m\u001b[0mget\u001b[0m\u001b[0;34m(\u001b[0m\u001b[0mprotocol\u001b[0m\u001b[0;34m,\u001b[0m \u001b[0;34m[\u001b[0m\u001b[0;34m]\u001b[0m\u001b[0;34m)\u001b[0m\u001b[0;34m:\u001b[0m\u001b[0;34m\u001b[0m\u001b[0;34m\u001b[0m\u001b[0m\n\u001b[1;32m    530\u001b[0m             \u001b[0mmeth\u001b[0m \u001b[0;34m=\u001b[0m \u001b[0mgetattr\u001b[0m\u001b[0;34m(\u001b[0m\u001b[0mprocessor\u001b[0m\u001b[0;34m,\u001b[0m \u001b[0mmeth_name\u001b[0m\u001b[0;34m)\u001b[0m\u001b[0;34m\u001b[0m\u001b[0;34m\u001b[0m\u001b[0m\n\u001b[0;32m--> 531\u001b[0;31m             \u001b[0mresponse\u001b[0m \u001b[0;34m=\u001b[0m \u001b[0mmeth\u001b[0m\u001b[0;34m(\u001b[0m\u001b[0mreq\u001b[0m\u001b[0;34m,\u001b[0m \u001b[0mresponse\u001b[0m\u001b[0;34m)\u001b[0m\u001b[0;34m\u001b[0m\u001b[0;34m\u001b[0m\u001b[0m\n\u001b[0m\u001b[1;32m    532\u001b[0m \u001b[0;34m\u001b[0m\u001b[0m\n\u001b[1;32m    533\u001b[0m         \u001b[0;32mreturn\u001b[0m \u001b[0mresponse\u001b[0m\u001b[0;34m\u001b[0m\u001b[0;34m\u001b[0m\u001b[0m\n",
      "\u001b[0;32m~/anaconda3/lib/python3.7/urllib/request.py\u001b[0m in \u001b[0;36mhttp_response\u001b[0;34m(self, request, response)\u001b[0m\n\u001b[1;32m    639\u001b[0m         \u001b[0;32mif\u001b[0m \u001b[0;32mnot\u001b[0m \u001b[0;34m(\u001b[0m\u001b[0;36m200\u001b[0m \u001b[0;34m<=\u001b[0m \u001b[0mcode\u001b[0m \u001b[0;34m<\u001b[0m \u001b[0;36m300\u001b[0m\u001b[0;34m)\u001b[0m\u001b[0;34m:\u001b[0m\u001b[0;34m\u001b[0m\u001b[0;34m\u001b[0m\u001b[0m\n\u001b[1;32m    640\u001b[0m             response = self.parent.error(\n\u001b[0;32m--> 641\u001b[0;31m                 'http', request, response, code, msg, hdrs)\n\u001b[0m\u001b[1;32m    642\u001b[0m \u001b[0;34m\u001b[0m\u001b[0m\n\u001b[1;32m    643\u001b[0m         \u001b[0;32mreturn\u001b[0m \u001b[0mresponse\u001b[0m\u001b[0;34m\u001b[0m\u001b[0;34m\u001b[0m\u001b[0m\n",
      "\u001b[0;32m~/anaconda3/lib/python3.7/urllib/request.py\u001b[0m in \u001b[0;36merror\u001b[0;34m(self, proto, *args)\u001b[0m\n\u001b[1;32m    567\u001b[0m         \u001b[0;32mif\u001b[0m \u001b[0mhttp_err\u001b[0m\u001b[0;34m:\u001b[0m\u001b[0;34m\u001b[0m\u001b[0;34m\u001b[0m\u001b[0m\n\u001b[1;32m    568\u001b[0m             \u001b[0margs\u001b[0m \u001b[0;34m=\u001b[0m \u001b[0;34m(\u001b[0m\u001b[0mdict\u001b[0m\u001b[0;34m,\u001b[0m \u001b[0;34m'default'\u001b[0m\u001b[0;34m,\u001b[0m \u001b[0;34m'http_error_default'\u001b[0m\u001b[0;34m)\u001b[0m \u001b[0;34m+\u001b[0m \u001b[0morig_args\u001b[0m\u001b[0;34m\u001b[0m\u001b[0;34m\u001b[0m\u001b[0m\n\u001b[0;32m--> 569\u001b[0;31m             \u001b[0;32mreturn\u001b[0m \u001b[0mself\u001b[0m\u001b[0;34m.\u001b[0m\u001b[0m_call_chain\u001b[0m\u001b[0;34m(\u001b[0m\u001b[0;34m*\u001b[0m\u001b[0margs\u001b[0m\u001b[0;34m)\u001b[0m\u001b[0;34m\u001b[0m\u001b[0;34m\u001b[0m\u001b[0m\n\u001b[0m\u001b[1;32m    570\u001b[0m \u001b[0;34m\u001b[0m\u001b[0m\n\u001b[1;32m    571\u001b[0m \u001b[0;31m# XXX probably also want an abstract factory that knows when it makes\u001b[0m\u001b[0;34m\u001b[0m\u001b[0;34m\u001b[0m\u001b[0;34m\u001b[0m\u001b[0m\n",
      "\u001b[0;32m~/anaconda3/lib/python3.7/urllib/request.py\u001b[0m in \u001b[0;36m_call_chain\u001b[0;34m(self, chain, kind, meth_name, *args)\u001b[0m\n\u001b[1;32m    501\u001b[0m         \u001b[0;32mfor\u001b[0m \u001b[0mhandler\u001b[0m \u001b[0;32min\u001b[0m \u001b[0mhandlers\u001b[0m\u001b[0;34m:\u001b[0m\u001b[0;34m\u001b[0m\u001b[0;34m\u001b[0m\u001b[0m\n\u001b[1;32m    502\u001b[0m             \u001b[0mfunc\u001b[0m \u001b[0;34m=\u001b[0m \u001b[0mgetattr\u001b[0m\u001b[0;34m(\u001b[0m\u001b[0mhandler\u001b[0m\u001b[0;34m,\u001b[0m \u001b[0mmeth_name\u001b[0m\u001b[0;34m)\u001b[0m\u001b[0;34m\u001b[0m\u001b[0;34m\u001b[0m\u001b[0m\n\u001b[0;32m--> 503\u001b[0;31m             \u001b[0mresult\u001b[0m \u001b[0;34m=\u001b[0m \u001b[0mfunc\u001b[0m\u001b[0;34m(\u001b[0m\u001b[0;34m*\u001b[0m\u001b[0margs\u001b[0m\u001b[0;34m)\u001b[0m\u001b[0;34m\u001b[0m\u001b[0;34m\u001b[0m\u001b[0m\n\u001b[0m\u001b[1;32m    504\u001b[0m             \u001b[0;32mif\u001b[0m \u001b[0mresult\u001b[0m \u001b[0;32mis\u001b[0m \u001b[0;32mnot\u001b[0m \u001b[0;32mNone\u001b[0m\u001b[0;34m:\u001b[0m\u001b[0;34m\u001b[0m\u001b[0;34m\u001b[0m\u001b[0m\n\u001b[1;32m    505\u001b[0m                 \u001b[0;32mreturn\u001b[0m \u001b[0mresult\u001b[0m\u001b[0;34m\u001b[0m\u001b[0;34m\u001b[0m\u001b[0m\n",
      "\u001b[0;32m~/anaconda3/lib/python3.7/urllib/request.py\u001b[0m in \u001b[0;36mhttp_error_default\u001b[0;34m(self, req, fp, code, msg, hdrs)\u001b[0m\n\u001b[1;32m    647\u001b[0m \u001b[0;32mclass\u001b[0m \u001b[0mHTTPDefaultErrorHandler\u001b[0m\u001b[0;34m(\u001b[0m\u001b[0mBaseHandler\u001b[0m\u001b[0;34m)\u001b[0m\u001b[0;34m:\u001b[0m\u001b[0;34m\u001b[0m\u001b[0;34m\u001b[0m\u001b[0m\n\u001b[1;32m    648\u001b[0m     \u001b[0;32mdef\u001b[0m \u001b[0mhttp_error_default\u001b[0m\u001b[0;34m(\u001b[0m\u001b[0mself\u001b[0m\u001b[0;34m,\u001b[0m \u001b[0mreq\u001b[0m\u001b[0;34m,\u001b[0m \u001b[0mfp\u001b[0m\u001b[0;34m,\u001b[0m \u001b[0mcode\u001b[0m\u001b[0;34m,\u001b[0m \u001b[0mmsg\u001b[0m\u001b[0;34m,\u001b[0m \u001b[0mhdrs\u001b[0m\u001b[0;34m)\u001b[0m\u001b[0;34m:\u001b[0m\u001b[0;34m\u001b[0m\u001b[0;34m\u001b[0m\u001b[0m\n\u001b[0;32m--> 649\u001b[0;31m         \u001b[0;32mraise\u001b[0m \u001b[0mHTTPError\u001b[0m\u001b[0;34m(\u001b[0m\u001b[0mreq\u001b[0m\u001b[0;34m.\u001b[0m\u001b[0mfull_url\u001b[0m\u001b[0;34m,\u001b[0m \u001b[0mcode\u001b[0m\u001b[0;34m,\u001b[0m \u001b[0mmsg\u001b[0m\u001b[0;34m,\u001b[0m \u001b[0mhdrs\u001b[0m\u001b[0;34m,\u001b[0m \u001b[0mfp\u001b[0m\u001b[0;34m)\u001b[0m\u001b[0;34m\u001b[0m\u001b[0;34m\u001b[0m\u001b[0m\n\u001b[0m\u001b[1;32m    650\u001b[0m \u001b[0;34m\u001b[0m\u001b[0m\n\u001b[1;32m    651\u001b[0m \u001b[0;32mclass\u001b[0m \u001b[0mHTTPRedirectHandler\u001b[0m\u001b[0;34m(\u001b[0m\u001b[0mBaseHandler\u001b[0m\u001b[0;34m)\u001b[0m\u001b[0;34m:\u001b[0m\u001b[0;34m\u001b[0m\u001b[0;34m\u001b[0m\u001b[0m\n",
      "\u001b[0;31mHTTPError\u001b[0m: HTTP Error 500: Internal Server Error"
     ]
    }
   ],
   "source": [
    "filename = 'test_1000.csv'\n",
    "\n",
    "# Open csv-target file\n",
    "with open(filename, 'w') as opened_file:\n",
    "\n",
    "    # write with writer\n",
    "    csvwriter = csv.writer(opened_file)\n",
    "\n",
    "    # Set fieldnames\n",
    "#     fieldnames = ['Item', 'Id', 'Accession', 'GDS', 'title', \n",
    "#           'summary', 'GPL', 'GSE', 'taxon', 'entryType', 'gdsType', \n",
    "#           'ptechType', 'valType', 'SSInfo', 'subsetInfo', 'PDAT', \n",
    "#           'suppFile', 'Samples', 'Relations', 'ExtRelations', \n",
    "#           'n_samples', 'SeriesTitle', 'PlatformTitle', 'PlatformTaxa', \n",
    "#           'SamplesTaxa', 'PubMedIds', 'Projects', 'FTPLink', 'GEO2R']\n",
    "    fieldnames = ['Id', 'Accession', 'title', 'summary', 'taxon']\n",
    "        \n",
    "    # Print fildnames\n",
    "    csvwriter.writerow(fieldnames)\n",
    "\n",
    "    # Begin retrieval\n",
    "    for i, e_id in enumerate(idlist):\n",
    "    \n",
    "        # Echo info\n",
    "        print(\"Going to download record: {:10.0f} ({:5.1f}%)\".format(int(e_id), (i+1)/read_count*100))\n",
    "    \n",
    "        # Get Summary\n",
    "        handle = Entrez.esummary(db=\"gds\", id=e_id)\n",
    "    \n",
    "        # Read handle\n",
    "        data = Entrez.read(handle)\n",
    "\n",
    "        # Define list for things to print\n",
    "        list_to_print = list()\n",
    "\n",
    "        # Iterate over fieldnames\n",
    "        for name in fieldnames:\n",
    "            list_to_print.append(data[0][name])\n",
    "\n",
    "        # Print the line\n",
    "        csvwriter.writerow(list_to_print)\n",
    "        \n",
    "        # Close handle\n",
    "        handle.close()    "
   ]
  },
  {
   "cell_type": "code",
   "execution_count": 195,
   "metadata": {},
   "outputs": [
    {
     "data": {
      "text/html": [
       "<div>\n",
       "<style scoped>\n",
       "    .dataframe tbody tr th:only-of-type {\n",
       "        vertical-align: middle;\n",
       "    }\n",
       "\n",
       "    .dataframe tbody tr th {\n",
       "        vertical-align: top;\n",
       "    }\n",
       "\n",
       "    .dataframe thead th {\n",
       "        text-align: right;\n",
       "    }\n",
       "</style>\n",
       "<table border=\"1\" class=\"dataframe\">\n",
       "  <thead>\n",
       "    <tr style=\"text-align: right;\">\n",
       "      <th></th>\n",
       "      <th>Id</th>\n",
       "      <th>Accession</th>\n",
       "      <th>title</th>\n",
       "      <th>summary</th>\n",
       "      <th>taxon</th>\n",
       "    </tr>\n",
       "  </thead>\n",
       "  <tbody>\n",
       "    <tr>\n",
       "      <th>0</th>\n",
       "      <td>200112120</td>\n",
       "      <td>GSE112120</td>\n",
       "      <td>Risk SNPs mediated promoter-enhancer switching...</td>\n",
       "      <td>To determine the binding of H3K4me1 and H3K4me...</td>\n",
       "      <td>Homo sapiens</td>\n",
       "    </tr>\n",
       "    <tr>\n",
       "      <th>1</th>\n",
       "      <td>200117735</td>\n",
       "      <td>GSE117735</td>\n",
       "      <td>The ATPase module of mammalian SWI/SNF family ...</td>\n",
       "      <td>This SuperSeries is composed of the SubSeries ...</td>\n",
       "      <td>Homo sapiens</td>\n",
       "    </tr>\n",
       "    <tr>\n",
       "      <th>2</th>\n",
       "      <td>200117734</td>\n",
       "      <td>GSE117734</td>\n",
       "      <td>The mSWI/SNF ATPase module mediates subcomplex...</td>\n",
       "      <td>Perturbations to mammalian SWI/SNF (mSWI/SNF) ...</td>\n",
       "      <td>Homo sapiens</td>\n",
       "    </tr>\n",
       "    <tr>\n",
       "      <th>3</th>\n",
       "      <td>200128119</td>\n",
       "      <td>GSE128119</td>\n",
       "      <td>COX-2 mediates tumor-stromal Prolactin signali...</td>\n",
       "      <td>Tumor-stromal communication within the microen...</td>\n",
       "      <td>Homo sapiens</td>\n",
       "    </tr>\n",
       "    <tr>\n",
       "      <th>4</th>\n",
       "      <td>200126367</td>\n",
       "      <td>GSE126367</td>\n",
       "      <td>Copy number analysis of selumetinib-resistant ...</td>\n",
       "      <td>Copy number analysis to compare parental color...</td>\n",
       "      <td>Homo sapiens</td>\n",
       "    </tr>\n",
       "    <tr>\n",
       "      <th>5</th>\n",
       "      <td>200128077</td>\n",
       "      <td>GSE128077</td>\n",
       "      <td>Whole genome-derived tiled peptide arrays dete...</td>\n",
       "      <td>Investigation of whole genome-derived tiled pe...</td>\n",
       "      <td>Homo sapiens</td>\n",
       "    </tr>\n",
       "    <tr>\n",
       "      <th>6</th>\n",
       "      <td>200126109</td>\n",
       "      <td>GSE126109</td>\n",
       "      <td>RNA sequencing analysis of selumetinib-resista...</td>\n",
       "      <td>RNA sequencing analysis to compare parental co...</td>\n",
       "      <td>Homo sapiens</td>\n",
       "    </tr>\n",
       "    <tr>\n",
       "      <th>7</th>\n",
       "      <td>200106774</td>\n",
       "      <td>GSE106774</td>\n",
       "      <td>Risk SNPs mediated promoter-enhancer switching...</td>\n",
       "      <td>To determine the functional mechanisms of PCAT...</td>\n",
       "      <td>Homo sapiens</td>\n",
       "    </tr>\n",
       "    <tr>\n",
       "      <th>8</th>\n",
       "      <td>200125561</td>\n",
       "      <td>GSE125561</td>\n",
       "      <td>Transcription factor SPIB binding sites identi...</td>\n",
       "      <td>SPIB overexpressed in lung cancer and promoted...</td>\n",
       "      <td>Homo sapiens</td>\n",
       "    </tr>\n",
       "    <tr>\n",
       "      <th>9</th>\n",
       "      <td>200117301</td>\n",
       "      <td>GSE117301</td>\n",
       "      <td>The mSWI/SNF ATPase module mediates subcomplex...</td>\n",
       "      <td>Perturbations to mammalian SWI/SNF (mSWI/SNF) ...</td>\n",
       "      <td>Homo sapiens</td>\n",
       "    </tr>\n",
       "    <tr>\n",
       "      <th>10</th>\n",
       "      <td>200117311</td>\n",
       "      <td>GSE117311</td>\n",
       "      <td>The mSWI/SNF ATPase module mediates subcomplex...</td>\n",
       "      <td>Perturbations to mammalian SWI/SNF (mSWI/SNF) ...</td>\n",
       "      <td>Homo sapiens</td>\n",
       "    </tr>\n",
       "    <tr>\n",
       "      <th>11</th>\n",
       "      <td>200112164</td>\n",
       "      <td>GSE112164</td>\n",
       "      <td>Risk SNPs mediated promoter-enhancer switching...</td>\n",
       "      <td>This SuperSeries is composed of the SubSeries ...</td>\n",
       "      <td>Homo sapiens</td>\n",
       "    </tr>\n",
       "    <tr>\n",
       "      <th>12</th>\n",
       "      <td>200120993</td>\n",
       "      <td>GSE120993</td>\n",
       "      <td>Withdrawal of MEK1/2 inhibitor reverses acquir...</td>\n",
       "      <td>Acquired resistance to MEK1/2 inhibitors can a...</td>\n",
       "      <td>Homo sapiens</td>\n",
       "    </tr>\n",
       "    <tr>\n",
       "      <th>13</th>\n",
       "      <td>200124453</td>\n",
       "      <td>GSE124453</td>\n",
       "      <td>Genome-wide identification of cancer-specific ...</td>\n",
       "      <td>Circular RNA (circRNA) is a group of RNA famil...</td>\n",
       "      <td>Homo sapiens</td>\n",
       "    </tr>\n",
       "    <tr>\n",
       "      <th>14</th>\n",
       "      <td>200106592</td>\n",
       "      <td>GSE106592</td>\n",
       "      <td>Silencing SPIB in attached and floating state ...</td>\n",
       "      <td>To gain mechanistic insight into the role of S...</td>\n",
       "      <td>Homo sapiens</td>\n",
       "    </tr>\n",
       "    <tr>\n",
       "      <th>15</th>\n",
       "      <td>200115197</td>\n",
       "      <td>GSE115197</td>\n",
       "      <td>miRNA expression in BMSCs</td>\n",
       "      <td>We performed microarray analysis to determine ...</td>\n",
       "      <td>Homo sapiens</td>\n",
       "    </tr>\n",
       "    <tr>\n",
       "      <th>16</th>\n",
       "      <td>200115196</td>\n",
       "      <td>GSE115196</td>\n",
       "      <td>circRNA expression in BMSCs</td>\n",
       "      <td>We performed microarray analysis to determine ...</td>\n",
       "      <td>Homo sapiens</td>\n",
       "    </tr>\n",
       "    <tr>\n",
       "      <th>17</th>\n",
       "      <td>200116984</td>\n",
       "      <td>GSE116984</td>\n",
       "      <td>Genome-wide maps in MCF-7 cells with six2 or C...</td>\n",
       "      <td>Analysis of MCF-7 cells following six2 or CYP4...</td>\n",
       "      <td>Homo sapiens</td>\n",
       "    </tr>\n",
       "    <tr>\n",
       "      <th>18</th>\n",
       "      <td>200107387</td>\n",
       "      <td>GSE107387</td>\n",
       "      <td>RNA-seq identifies a distinct response in macr...</td>\n",
       "      <td>Purpose: The goals of this study are to obtain...</td>\n",
       "      <td>Homo sapiens</td>\n",
       "    </tr>\n",
       "    <tr>\n",
       "      <th>19</th>\n",
       "      <td>200111073</td>\n",
       "      <td>GSE111073</td>\n",
       "      <td>Expression profiling by RNA-Seq of breast canc...</td>\n",
       "      <td>Consumption of walnuts has slowed breast cance...</td>\n",
       "      <td>Homo sapiens</td>\n",
       "    </tr>\n",
       "    <tr>\n",
       "      <th>20</th>\n",
       "      <td>200117145</td>\n",
       "      <td>GSE117145</td>\n",
       "      <td>Genome-wide maps of chromatin state in MCF-7 c...</td>\n",
       "      <td>By obtaining over four billion bases of sequen...</td>\n",
       "      <td>Homo sapiens</td>\n",
       "    </tr>\n",
       "    <tr>\n",
       "      <th>21</th>\n",
       "      <td>200128079</td>\n",
       "      <td>GSE128079</td>\n",
       "      <td>Differential expression of miRNAs in acute mye...</td>\n",
       "      <td>We collected peripheral blood samples from 10 ...</td>\n",
       "      <td>Homo sapiens</td>\n",
       "    </tr>\n",
       "    <tr>\n",
       "      <th>22</th>\n",
       "      <td>200128078</td>\n",
       "      <td>GSE128078</td>\n",
       "      <td>Whole blood human transcriptome and virome ana...</td>\n",
       "      <td>Myalgic encephalomyelitis / chronic fatigue sy...</td>\n",
       "      <td>Homo sapiens</td>\n",
       "    </tr>\n",
       "    <tr>\n",
       "      <th>23</th>\n",
       "      <td>200128068</td>\n",
       "      <td>GSE128068</td>\n",
       "      <td>Comprehensive constitutional genetic and epige...</td>\n",
       "      <td>This SuperSeries is composed of the SubSeries ...</td>\n",
       "      <td>Homo sapiens</td>\n",
       "    </tr>\n",
       "    <tr>\n",
       "      <th>24</th>\n",
       "      <td>200128067</td>\n",
       "      <td>GSE128067</td>\n",
       "      <td>Comprehensive constitutional genetic and epige...</td>\n",
       "      <td>Background: In ~50% of Lynch syndrome (LS)-sus...</td>\n",
       "      <td>Homo sapiens</td>\n",
       "    </tr>\n",
       "    <tr>\n",
       "      <th>25</th>\n",
       "      <td>200128066</td>\n",
       "      <td>GSE128066</td>\n",
       "      <td>A Bayesian mixture model for clustering drople...</td>\n",
       "      <td>Abstract: The recently developed droplet-based...</td>\n",
       "      <td>Homo sapiens; Mus musculus</td>\n",
       "    </tr>\n",
       "    <tr>\n",
       "      <th>26</th>\n",
       "      <td>200128064</td>\n",
       "      <td>GSE128064</td>\n",
       "      <td>Comprehensive constitutional genetic and epige...</td>\n",
       "      <td>Background: In ~50% of Lynch syndrome (LS)-sus...</td>\n",
       "      <td>Homo sapiens</td>\n",
       "    </tr>\n",
       "    <tr>\n",
       "      <th>27</th>\n",
       "      <td>200128040</td>\n",
       "      <td>GSE128040</td>\n",
       "      <td>Neural stem cells of Parkinson’s disease patie...</td>\n",
       "      <td>Emerging evidence suggest that Parkinson's dis...</td>\n",
       "      <td>Homo sapiens</td>\n",
       "    </tr>\n",
       "    <tr>\n",
       "      <th>28</th>\n",
       "      <td>200096060</td>\n",
       "      <td>GSE96060</td>\n",
       "      <td>Gene Expression In Blood From an Individual Wi...</td>\n",
       "      <td>Background: The thalassemias are highly divers...</td>\n",
       "      <td>Homo sapiens</td>\n",
       "    </tr>\n",
       "    <tr>\n",
       "      <th>29</th>\n",
       "      <td>200118527</td>\n",
       "      <td>GSE118527</td>\n",
       "      <td>Affymetrix SNP array data (Oncoscan CNV) for F...</td>\n",
       "      <td>We comprehensively analyzed clinical, genomic ...</td>\n",
       "      <td>Homo sapiens</td>\n",
       "    </tr>\n",
       "    <tr>\n",
       "      <th>30</th>\n",
       "      <td>200111636</td>\n",
       "      <td>GSE111636</td>\n",
       "      <td>Identification of potential biomarkers of resp...</td>\n",
       "      <td>We have performed an analysis of a small serie...</td>\n",
       "      <td>Homo sapiens</td>\n",
       "    </tr>\n",
       "    <tr>\n",
       "      <th>31</th>\n",
       "      <td>200111422</td>\n",
       "      <td>GSE111422</td>\n",
       "      <td>Multiple myeloma cell lines expression profile...</td>\n",
       "      <td>Several studies demonstrate that the bromodoma...</td>\n",
       "      <td>Homo sapiens</td>\n",
       "    </tr>\n",
       "    <tr>\n",
       "      <th>32</th>\n",
       "      <td>200111665</td>\n",
       "      <td>GSE111665</td>\n",
       "      <td>Next Generation Sequencing Facilitates Quantit...</td>\n",
       "      <td>Purpose: hsa_circ_0005505 stably knockdown cel...</td>\n",
       "      <td>Homo sapiens</td>\n",
       "    </tr>\n",
       "    <tr>\n",
       "      <th>33</th>\n",
       "      <td>200111567</td>\n",
       "      <td>GSE111567</td>\n",
       "      <td>Plasma fatty acid levels and gene expression r...</td>\n",
       "      <td>Solid evidence indicates that intake of marine...</td>\n",
       "      <td>Homo sapiens</td>\n",
       "    </tr>\n",
       "    <tr>\n",
       "      <th>34</th>\n",
       "      <td>200124025</td>\n",
       "      <td>GSE124025</td>\n",
       "      <td>Cohesin-mediated genome architecture does not ...</td>\n",
       "      <td>Cohesin-mediated genome architecture does not ...</td>\n",
       "      <td>Homo sapiens</td>\n",
       "    </tr>\n",
       "    <tr>\n",
       "      <th>35</th>\n",
       "      <td>200125328</td>\n",
       "      <td>GSE125328</td>\n",
       "      <td>Transcriptomics modification consecutive to AS...</td>\n",
       "      <td>We have observed that the FOXO1 inhibitor AS18...</td>\n",
       "      <td>Homo sapiens</td>\n",
       "    </tr>\n",
       "    <tr>\n",
       "      <th>36</th>\n",
       "      <td>200072048</td>\n",
       "      <td>GSE72048</td>\n",
       "      <td>Anti-inflammatory Effects of the Commensal Bac...</td>\n",
       "      <td>The human intestinal microbiota plays an essen...</td>\n",
       "      <td>Homo sapiens</td>\n",
       "    </tr>\n",
       "    <tr>\n",
       "      <th>37</th>\n",
       "      <td>200125932</td>\n",
       "      <td>GSE125932</td>\n",
       "      <td>Transcriptome analysis of mouse and human sino...</td>\n",
       "      <td>Expression analysis of mouse sinoatrial nodes ...</td>\n",
       "      <td>Mus musculus; Homo sapiens</td>\n",
       "    </tr>\n",
       "    <tr>\n",
       "      <th>38</th>\n",
       "      <td>200124757</td>\n",
       "      <td>GSE124757</td>\n",
       "      <td>Phosphatase inhibitor PPP1R11 modulates resist...</td>\n",
       "      <td>We have performed RNAseq analysis of human T c...</td>\n",
       "      <td>Homo sapiens</td>\n",
       "    </tr>\n",
       "    <tr>\n",
       "      <th>39</th>\n",
       "      <td>200090963</td>\n",
       "      <td>GSE90963</td>\n",
       "      <td>Transcriptome-wide Profiling of Multiple RNA M...</td>\n",
       "      <td>We report RBS-Seq, a new RNA bisulfite sequenc...</td>\n",
       "      <td>Homo sapiens</td>\n",
       "    </tr>\n",
       "    <tr>\n",
       "      <th>40</th>\n",
       "      <td>200128021</td>\n",
       "      <td>GSE128021</td>\n",
       "      <td>Gene expression differences in omental mesothe...</td>\n",
       "      <td>Visceral adipose tissue inflammation correlate...</td>\n",
       "      <td>Homo sapiens</td>\n",
       "    </tr>\n",
       "    <tr>\n",
       "      <th>41</th>\n",
       "      <td>200128004</td>\n",
       "      <td>GSE128004</td>\n",
       "      <td>Exosomal hsa-miR199a-3p promotes proliferation...</td>\n",
       "      <td>To elucidate whether exosomal hsa-miR199a-3p p...</td>\n",
       "      <td>Homo sapiens</td>\n",
       "    </tr>\n",
       "    <tr>\n",
       "      <th>42</th>\n",
       "      <td>200112969</td>\n",
       "      <td>GSE112969</td>\n",
       "      <td>Binding of the pioneer factor FOXA1 is indepen...</td>\n",
       "      <td>We hormone deprived MCF-7 and ZR75-1 breast ca...</td>\n",
       "      <td>Homo sapiens</td>\n",
       "    </tr>\n",
       "    <tr>\n",
       "      <th>43</th>\n",
       "      <td>200126419</td>\n",
       "      <td>GSE126419</td>\n",
       "      <td>Small RNA sequencing of extracellular vesicles...</td>\n",
       "      <td>To identify the extracellular-vesicle-encapsul...</td>\n",
       "      <td>Homo sapiens</td>\n",
       "    </tr>\n",
       "    <tr>\n",
       "      <th>44</th>\n",
       "      <td>200127905</td>\n",
       "      <td>GSE127905</td>\n",
       "      <td>Oncogenic Antisense LncRNA P14AS Regulates Exp...</td>\n",
       "      <td>The CDKN2A/B locus at 9p21.3 contains crucial ...</td>\n",
       "      <td>Homo sapiens</td>\n",
       "    </tr>\n",
       "    <tr>\n",
       "      <th>45</th>\n",
       "      <td>200127967</td>\n",
       "      <td>GSE127967</td>\n",
       "      <td>Modeling PD in midbrain-like organoids</td>\n",
       "      <td>We have developed a method for derivation of m...</td>\n",
       "      <td>Homo sapiens</td>\n",
       "    </tr>\n",
       "    <tr>\n",
       "      <th>46</th>\n",
       "      <td>200127962</td>\n",
       "      <td>GSE127962</td>\n",
       "      <td>Expression data from BEAS-2B cells II</td>\n",
       "      <td>BEAS-2B cells are human bronchial epithelial c...</td>\n",
       "      <td>Homo sapiens</td>\n",
       "    </tr>\n",
       "    <tr>\n",
       "      <th>47</th>\n",
       "      <td>200127952</td>\n",
       "      <td>GSE127952</td>\n",
       "      <td>Gene expression in minor salivary gland of fem...</td>\n",
       "      <td>To study the difference of gene expression pro...</td>\n",
       "      <td>Homo sapiens</td>\n",
       "    </tr>\n",
       "    <tr>\n",
       "      <th>48</th>\n",
       "      <td>200123055</td>\n",
       "      <td>GSE123055</td>\n",
       "      <td>Formative transition of human naïve pluripoten...</td>\n",
       "      <td>Human naïve pluripotent stem cells (PSC) share...</td>\n",
       "      <td>Homo sapiens</td>\n",
       "    </tr>\n",
       "    <tr>\n",
       "      <th>49</th>\n",
       "      <td>200120663</td>\n",
       "      <td>GSE120663</td>\n",
       "      <td>Transcriptome Analysis of PBMCs in peripheral ...</td>\n",
       "      <td>The aim of this study was to analyze the expre...</td>\n",
       "      <td>Homo sapiens</td>\n",
       "    </tr>\n",
       "  </tbody>\n",
       "</table>\n",
       "</div>"
      ],
      "text/plain": [
       "           Id  Accession                                              title  \\\n",
       "0   200112120  GSE112120  Risk SNPs mediated promoter-enhancer switching...   \n",
       "1   200117735  GSE117735  The ATPase module of mammalian SWI/SNF family ...   \n",
       "2   200117734  GSE117734  The mSWI/SNF ATPase module mediates subcomplex...   \n",
       "3   200128119  GSE128119  COX-2 mediates tumor-stromal Prolactin signali...   \n",
       "4   200126367  GSE126367  Copy number analysis of selumetinib-resistant ...   \n",
       "5   200128077  GSE128077  Whole genome-derived tiled peptide arrays dete...   \n",
       "6   200126109  GSE126109  RNA sequencing analysis of selumetinib-resista...   \n",
       "7   200106774  GSE106774  Risk SNPs mediated promoter-enhancer switching...   \n",
       "8   200125561  GSE125561  Transcription factor SPIB binding sites identi...   \n",
       "9   200117301  GSE117301  The mSWI/SNF ATPase module mediates subcomplex...   \n",
       "10  200117311  GSE117311  The mSWI/SNF ATPase module mediates subcomplex...   \n",
       "11  200112164  GSE112164  Risk SNPs mediated promoter-enhancer switching...   \n",
       "12  200120993  GSE120993  Withdrawal of MEK1/2 inhibitor reverses acquir...   \n",
       "13  200124453  GSE124453  Genome-wide identification of cancer-specific ...   \n",
       "14  200106592  GSE106592  Silencing SPIB in attached and floating state ...   \n",
       "15  200115197  GSE115197                          miRNA expression in BMSCs   \n",
       "16  200115196  GSE115196                        circRNA expression in BMSCs   \n",
       "17  200116984  GSE116984  Genome-wide maps in MCF-7 cells with six2 or C...   \n",
       "18  200107387  GSE107387  RNA-seq identifies a distinct response in macr...   \n",
       "19  200111073  GSE111073  Expression profiling by RNA-Seq of breast canc...   \n",
       "20  200117145  GSE117145  Genome-wide maps of chromatin state in MCF-7 c...   \n",
       "21  200128079  GSE128079  Differential expression of miRNAs in acute mye...   \n",
       "22  200128078  GSE128078  Whole blood human transcriptome and virome ana...   \n",
       "23  200128068  GSE128068  Comprehensive constitutional genetic and epige...   \n",
       "24  200128067  GSE128067  Comprehensive constitutional genetic and epige...   \n",
       "25  200128066  GSE128066  A Bayesian mixture model for clustering drople...   \n",
       "26  200128064  GSE128064  Comprehensive constitutional genetic and epige...   \n",
       "27  200128040  GSE128040  Neural stem cells of Parkinson’s disease patie...   \n",
       "28  200096060   GSE96060  Gene Expression In Blood From an Individual Wi...   \n",
       "29  200118527  GSE118527  Affymetrix SNP array data (Oncoscan CNV) for F...   \n",
       "30  200111636  GSE111636  Identification of potential biomarkers of resp...   \n",
       "31  200111422  GSE111422  Multiple myeloma cell lines expression profile...   \n",
       "32  200111665  GSE111665  Next Generation Sequencing Facilitates Quantit...   \n",
       "33  200111567  GSE111567  Plasma fatty acid levels and gene expression r...   \n",
       "34  200124025  GSE124025  Cohesin-mediated genome architecture does not ...   \n",
       "35  200125328  GSE125328  Transcriptomics modification consecutive to AS...   \n",
       "36  200072048   GSE72048  Anti-inflammatory Effects of the Commensal Bac...   \n",
       "37  200125932  GSE125932  Transcriptome analysis of mouse and human sino...   \n",
       "38  200124757  GSE124757  Phosphatase inhibitor PPP1R11 modulates resist...   \n",
       "39  200090963   GSE90963  Transcriptome-wide Profiling of Multiple RNA M...   \n",
       "40  200128021  GSE128021  Gene expression differences in omental mesothe...   \n",
       "41  200128004  GSE128004  Exosomal hsa-miR199a-3p promotes proliferation...   \n",
       "42  200112969  GSE112969  Binding of the pioneer factor FOXA1 is indepen...   \n",
       "43  200126419  GSE126419  Small RNA sequencing of extracellular vesicles...   \n",
       "44  200127905  GSE127905  Oncogenic Antisense LncRNA P14AS Regulates Exp...   \n",
       "45  200127967  GSE127967             Modeling PD in midbrain-like organoids   \n",
       "46  200127962  GSE127962              Expression data from BEAS-2B cells II   \n",
       "47  200127952  GSE127952  Gene expression in minor salivary gland of fem...   \n",
       "48  200123055  GSE123055  Formative transition of human naïve pluripoten...   \n",
       "49  200120663  GSE120663  Transcriptome Analysis of PBMCs in peripheral ...   \n",
       "\n",
       "                                              summary  \\\n",
       "0   To determine the binding of H3K4me1 and H3K4me...   \n",
       "1   This SuperSeries is composed of the SubSeries ...   \n",
       "2   Perturbations to mammalian SWI/SNF (mSWI/SNF) ...   \n",
       "3   Tumor-stromal communication within the microen...   \n",
       "4   Copy number analysis to compare parental color...   \n",
       "5   Investigation of whole genome-derived tiled pe...   \n",
       "6   RNA sequencing analysis to compare parental co...   \n",
       "7   To determine the functional mechanisms of PCAT...   \n",
       "8   SPIB overexpressed in lung cancer and promoted...   \n",
       "9   Perturbations to mammalian SWI/SNF (mSWI/SNF) ...   \n",
       "10  Perturbations to mammalian SWI/SNF (mSWI/SNF) ...   \n",
       "11  This SuperSeries is composed of the SubSeries ...   \n",
       "12  Acquired resistance to MEK1/2 inhibitors can a...   \n",
       "13  Circular RNA (circRNA) is a group of RNA famil...   \n",
       "14  To gain mechanistic insight into the role of S...   \n",
       "15  We performed microarray analysis to determine ...   \n",
       "16  We performed microarray analysis to determine ...   \n",
       "17  Analysis of MCF-7 cells following six2 or CYP4...   \n",
       "18  Purpose: The goals of this study are to obtain...   \n",
       "19  Consumption of walnuts has slowed breast cance...   \n",
       "20  By obtaining over four billion bases of sequen...   \n",
       "21  We collected peripheral blood samples from 10 ...   \n",
       "22  Myalgic encephalomyelitis / chronic fatigue sy...   \n",
       "23  This SuperSeries is composed of the SubSeries ...   \n",
       "24  Background: In ~50% of Lynch syndrome (LS)-sus...   \n",
       "25  Abstract: The recently developed droplet-based...   \n",
       "26  Background: In ~50% of Lynch syndrome (LS)-sus...   \n",
       "27  Emerging evidence suggest that Parkinson's dis...   \n",
       "28  Background: The thalassemias are highly divers...   \n",
       "29  We comprehensively analyzed clinical, genomic ...   \n",
       "30  We have performed an analysis of a small serie...   \n",
       "31  Several studies demonstrate that the bromodoma...   \n",
       "32  Purpose: hsa_circ_0005505 stably knockdown cel...   \n",
       "33  Solid evidence indicates that intake of marine...   \n",
       "34  Cohesin-mediated genome architecture does not ...   \n",
       "35  We have observed that the FOXO1 inhibitor AS18...   \n",
       "36  The human intestinal microbiota plays an essen...   \n",
       "37  Expression analysis of mouse sinoatrial nodes ...   \n",
       "38  We have performed RNAseq analysis of human T c...   \n",
       "39  We report RBS-Seq, a new RNA bisulfite sequenc...   \n",
       "40  Visceral adipose tissue inflammation correlate...   \n",
       "41  To elucidate whether exosomal hsa-miR199a-3p p...   \n",
       "42  We hormone deprived MCF-7 and ZR75-1 breast ca...   \n",
       "43  To identify the extracellular-vesicle-encapsul...   \n",
       "44  The CDKN2A/B locus at 9p21.3 contains crucial ...   \n",
       "45  We have developed a method for derivation of m...   \n",
       "46  BEAS-2B cells are human bronchial epithelial c...   \n",
       "47  To study the difference of gene expression pro...   \n",
       "48  Human naïve pluripotent stem cells (PSC) share...   \n",
       "49  The aim of this study was to analyze the expre...   \n",
       "\n",
       "                         taxon  \n",
       "0                 Homo sapiens  \n",
       "1                 Homo sapiens  \n",
       "2                 Homo sapiens  \n",
       "3                 Homo sapiens  \n",
       "4                 Homo sapiens  \n",
       "5                 Homo sapiens  \n",
       "6                 Homo sapiens  \n",
       "7                 Homo sapiens  \n",
       "8                 Homo sapiens  \n",
       "9                 Homo sapiens  \n",
       "10                Homo sapiens  \n",
       "11                Homo sapiens  \n",
       "12                Homo sapiens  \n",
       "13                Homo sapiens  \n",
       "14                Homo sapiens  \n",
       "15                Homo sapiens  \n",
       "16                Homo sapiens  \n",
       "17                Homo sapiens  \n",
       "18                Homo sapiens  \n",
       "19                Homo sapiens  \n",
       "20                Homo sapiens  \n",
       "21                Homo sapiens  \n",
       "22                Homo sapiens  \n",
       "23                Homo sapiens  \n",
       "24                Homo sapiens  \n",
       "25  Homo sapiens; Mus musculus  \n",
       "26                Homo sapiens  \n",
       "27                Homo sapiens  \n",
       "28                Homo sapiens  \n",
       "29                Homo sapiens  \n",
       "30                Homo sapiens  \n",
       "31                Homo sapiens  \n",
       "32                Homo sapiens  \n",
       "33                Homo sapiens  \n",
       "34                Homo sapiens  \n",
       "35                Homo sapiens  \n",
       "36                Homo sapiens  \n",
       "37  Mus musculus; Homo sapiens  \n",
       "38                Homo sapiens  \n",
       "39                Homo sapiens  \n",
       "40                Homo sapiens  \n",
       "41                Homo sapiens  \n",
       "42                Homo sapiens  \n",
       "43                Homo sapiens  \n",
       "44                Homo sapiens  \n",
       "45                Homo sapiens  \n",
       "46                Homo sapiens  \n",
       "47                Homo sapiens  \n",
       "48                Homo sapiens  \n",
       "49                Homo sapiens  "
      ]
     },
     "execution_count": 195,
     "metadata": {},
     "output_type": "execute_result"
    }
   ],
   "source": [
    "# Read to DataFrame\n",
    "pd.read_csv(filename, sep=',', header=[0], error_bad_lines=False)"
   ]
  },
  {
   "cell_type": "code",
   "execution_count": null,
   "metadata": {},
   "outputs": [],
   "source": []
  },
  {
   "cell_type": "code",
   "execution_count": null,
   "metadata": {},
   "outputs": [],
   "source": []
  }
 ],
 "metadata": {
  "kernelspec": {
   "display_name": "Python 3",
   "language": "python",
   "name": "python3"
  },
  "language_info": {
   "codemirror_mode": {
    "name": "ipython",
    "version": 3
   },
   "file_extension": ".py",
   "mimetype": "text/x-python",
   "name": "python",
   "nbconvert_exporter": "python",
   "pygments_lexer": "ipython3",
   "version": "3.7.2"
  }
 },
 "nbformat": 4,
 "nbformat_minor": 2
}
